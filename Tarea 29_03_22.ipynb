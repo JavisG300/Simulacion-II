{
  "cells": [
    {
      "cell_type": "markdown",
      "metadata": {},
      "source": [
        "### Tarea: Graficar los datos de salida del código anterior"
      ]
    },
    {
      "cell_type": "code",
      "execution_count": 2,
      "metadata": {
        "id": "XapT7UnElNfw"
      },
      "outputs": [],
      "source": [
        "from random import expovariate\n",
        "from matplotlib.pyplot import *\n",
        "from random import seed\n",
        "from math import inf as Infinity\n",
        "from statistics import mean"
      ]
    },
    {
      "cell_type": "code",
      "execution_count": 8,
      "metadata": {
        "colab": {
          "base_uri": "https://localhost:8080/"
        },
        "id": "Jxhxcot7lNfy",
        "outputId": "a9db0ecd-3ab6-4204-8776-82ba424fefdc"
      },
      "outputs": [
        {
          "name": "stdout",
          "output_type": "stream",
          "text": [
            "Retraso promedio =  1.9218\n"
          ]
        },
        {
          "data": {
            "text/plain": [
              "[<matplotlib.lines.Line2D at 0x1cb3a0eba90>]"
            ]
          },
          "execution_count": 8,
          "metadata": {},
          "output_type": "execute_result"
        },
        {
          "data": {
            "image/png": "[encoded data removed]",
            "text/plain": [
              "<Figure size 1152x720 with 1 Axes>"
            ]
          },
          "metadata": {
            "needs_background": "light"
          },
          "output_type": "display_data"
        }
      ],
      "source": [
        "# Parametros\n",
        "\n",
        "lamda = 1.3                         # Razón de arrivos (1/Lambda)  Ojo\n",
        "mu = 2.0                            # Razón de salida (1/Mu)       Ojo\n",
        "\n",
        "\n",
        "Num_Pkts = 100                   # Numero de paquetes a simular\n",
        "#T = 100000\n",
        "count = 0                           # Contador de paquetes simulados\n",
        "t = 0\n",
        "N = 0                               # Variable de estado: numero de paquetes en el sistema\n",
        "\n",
        "tll = expovariate(lamda)            # Tiempo de llegada\n",
        "ts = Infinity                       # Tiempo de salida\n",
        "\n",
        "# Variables de salida\n",
        "tll_Data = []                       # Lista de tiempos de llegada\n",
        "ts_Data = []                        # Lista de tiempos de salida\n",
        "r_Data = []                         # Lista de retrasos individuales\n",
        "\n",
        "while count < Num_Pkts:\n",
        "#while t < T:\n",
        "    if tll < ts:                           # Evento de llegada\n",
        "        t = tll\n",
        "        tll_Data.append(t)\n",
        "        N = N + 1.0\n",
        "        tll = t + expovariate(lamda) \n",
        "        if N == 1:\n",
        "            ts = t + expovariate(mu)\n",
        "    else:                                         # Evento de salida\n",
        "        t = ts \n",
        "        ts_Data.append(t)\n",
        "        N = N - 1.0\n",
        "        count = count + 1                         # Paquetes simulados\n",
        "        if N > 0:\n",
        "            ts = t + expovariate(mu)\n",
        "        else:\n",
        "            ts = Infinity\n",
        "            \n",
        "# Estimación del retraso promedio:\n",
        "X=[]\n",
        "Y=[]\n",
        "for i in range(Num_Pkts):\n",
        "    d = ts_Data[i] - tll_Data[i]\n",
        "    r_Data.append(d)\n",
        "    X.append(i)\n",
        "    Y.append(d)\n",
        "\n",
        "\n",
        "print( \"Retraso promedio = \", round( mean(r_Data), 4) )\n",
        "fig = figure(1, figsize=(16, 10))\n",
        "step(X,Y, color='red')\n"
      ]
    },
    {
      "cell_type": "markdown",
      "metadata": {
        "id": "w_azgwW5lNfz"
      },
      "source": [
        "### Estamación del número promedio de clientes en el sistema"
      ]
    },
    {
      "cell_type": "markdown",
      "metadata": {
        "id": "_SYtivC0lNfz"
      },
      "source": [
        "La variable de estado $N(t)$ representa el número de clientes/paquetes en el sistema al tiempo $t$, también designado con $L$ (verificar). Esta cantidad se puede calcular directamente como:\n",
        "\n",
        "$$\\mathbb{E}[N(t)] = \\frac{1}{T}\\int_0^T N(t) dt $$\n",
        "\n",
        "donde $T$ es el tiempo total de la simulación. Esta integral se puede interpretar geometricamente como el área de los escalones en la gráfica $N(t)$ vs $t$."
      ]
    },
    {
      "cell_type": "code",
      "execution_count": null,
      "metadata": {
        "id": "WXyfAvrYlNfz"
      },
      "outputs": [],
      "source": [
        "# Parametros\n",
        "\n",
        "lamda = 1.3                         # Razón de arrivos (1/Lambda)  Ojo\n",
        "mu = 2.0                            # Razón de salida (1/Mu)       Ojo\n",
        "\n",
        "\n",
        "Num_Pkts = 100000                   # Numero de paquetes a simular\n",
        "#T = 100000\n",
        "count = 0                           # Contador de paquetes simulados\n",
        "t = 0\n",
        "N = 0                               # Variable de estado: numero de paquetes en el sistema\n",
        "\n",
        "tll = expovariate(lamda)            # Tiempo de llegada\n",
        "ts = Infinity                       # Tiempo de salida\n",
        "\n",
        "t_evento_anterior = 0.0             # tiempo del último evento ****************Nuevas líneas de código***********\n",
        "\n",
        "\n",
        "# Variables de salida\n",
        "tll_Data = []                       # Lista de tiempos de llegada\n",
        "ts_Data = []                        # Lista de tiempos de salida\n",
        "r_Data = []                         # Lista de retrasos individuales\n",
        "Area = []                           # Area de escalón ***********************************************************\n",
        "\n",
        "\n",
        "while count < Num_Pkts:\n",
        "#while t < T:\n",
        "    if tll < ts:                           # Evento de llegada\n",
        "        t = tll\n",
        "        tll_Data.append(t)\n",
        "        \n",
        "        # Area del escalón ***********************************************************************************\n",
        "        Area.append((t - t_evento_anterior)*N)\n",
        "        t_evento_anterior = t\n",
        "        \n",
        "        \n",
        "        N = N + 1.0\n",
        "        tll = t + expovariate(lamda) \n",
        "        if N == 1:\n",
        "            ts = t + expovariate(mu)\n",
        "    else:                                         # Evento de salida\n",
        "        t = ts\n",
        "        ts_Data.append(t)\n",
        "        \n",
        "        # Area del escalón ***********************************************************************************\n",
        "        Area.append((t - t_evento_anterior)*N)\n",
        "        t_evento_anterior = t\n",
        "        \n",
        "        \n",
        "        N = N - 1.0\n",
        "        count = count + 1                         # Paquetes simulados\n",
        "        if N > 0:\n",
        "            ts = t + expovariate(mu)\n",
        "        else:\n",
        "            ts = Infinity\n",
        "            \n",
        "# Estimación del retraso promedio:\n",
        "\n",
        "for i in range(Num_Pkts):\n",
        "#for i in range(T):\n",
        "    d = ts_Data[i] - tll_Data[i]\n",
        "    r_Data.append(d)\n",
        "\n",
        "print( \"Retraso promedio = W = \", round( mean(r_Data), 4) )\n",
        "print( \"E[ N(t)] = L = \", round(sum(Area)/t, 4))"
      ]
    },
    {
      "cell_type": "markdown",
      "metadata": {
        "id": "qV9fdYnwlNf0"
      },
      "source": [
        "### Ejemplo:"
      ]
    },
    {
      "cell_type": "markdown",
      "metadata": {
        "id": "Zk37BNH5lNf0"
      },
      "source": [
        "Lavado Automata para automóviles funciona sólo con un lugar. Los autos llegan siguiendo\n",
        "una distribución de Poisson, con 4 autos por hora, que pueden esperar en el estacionamiento de\n",
        "la instalación, si el lugar de lavado está ocupado. El tiempo para lavar y limpiar un automóvil\n",
        "es exponencial, con 10 minutos de promedio. Los automóviles que no se pueden estacionar en\n",
        "la instalación pueden esperar en el arrollo junto al lavado. Eso quiere decir que para todo fin\n",
        "práctico no hay límite del tamaño del sistema. El gerente de la instalación desea determinar el\n",
        "tamaño del estacionamiento.\n",
        "\n",
        "Para resolver este problema, hay que determinar $L_q$, pero de momento estimemos $L$ y $W$ usando la simulación."
      ]
    },
    {
      "cell_type": "code",
      "execution_count": null,
      "metadata": {
        "id": "_ODWNO6glNf1"
      },
      "outputs": [],
      "source": []
    },
    {
      "cell_type": "code",
      "execution_count": null,
      "metadata": {
        "id": "7sA-J4lklNf1"
      },
      "outputs": [],
      "source": []
    },
    {
      "cell_type": "markdown",
      "metadata": {
        "id": "0ZrrJZOllNf1"
      },
      "source": [
        "### Ejercicios:\n",
        "\n",
        "Calcular $L_q$ para el ejemplo anterior, usando las fórmulas de arriba."
      ]
    },
    {
      "cell_type": "code",
      "execution_count": null,
      "metadata": {
        "id": "uu5e9XoglNf1"
      },
      "outputs": [],
      "source": []
    },
    {
      "cell_type": "markdown",
      "metadata": {
        "id": "WsPSQOy9lNf1"
      },
      "source": [
        "\n",
        "En una estación con un solo servidor llegan en promedio 45 clientes por hora. Se tiene capacidad para atender \n",
        "en promedio a 60 clientes por hora. Se sabe que los clientes esperan en promedio 3 minutos en la cola.\n",
        "Se solicita determinar: \n",
        "* Tiempo promedio que un cliente pasa en el sistema. \n",
        "* Número promedio de clientes en la cola. \n",
        "* Número promedio de clientes en el Sistema en un momento dado.\n",
        "\n",
        "Use la simulación para responder y luego verifique los resultados usando las fórmulas de arriba."
      ]
    },
    {
      "cell_type": "code",
      "execution_count": null,
      "metadata": {
        "id": "0ogjc5iflNf1"
      },
      "outputs": [],
      "source": []
    },
    {
      "cell_type": "markdown",
      "metadata": {
        "id": "pSJvvAQglNf1"
      },
      "source": [
        "### Tarea:\n",
        "\n",
        "Convierta el código anterior en una función y usela para resolver los ejercicios propuestos (más tarde por classroom)"
      ]
    },
    {
      "cell_type": "code",
      "execution_count": null,
      "metadata": {
        "id": "5M52XQ9xlNf2"
      },
      "outputs": [],
      "source": []
    }
  ],
  "metadata": {
    "colab": {
      "name": "Simulacion de un sistema de linea de espera.ipynb",
      "provenance": []
    },
    "kernelspec": {
      "display_name": "Python 3",
      "language": "python",
      "name": "python3"
    },
    "language_info": {
      "codemirror_mode": {
        "name": "ipython",
        "version": 3
      },
      "file_extension": ".py",
      "mimetype": "text/x-python",
      "name": "python",
      "nbconvert_exporter": "python",
      "pygments_lexer": "ipython3",
      "version": "3.9.6"
    }
  },
  "nbformat": 4,
  "nbformat_minor": 0
}
