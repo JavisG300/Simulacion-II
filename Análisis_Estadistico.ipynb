{
  "cells": [
    {
      "cell_type": "markdown",
      "metadata": {
        "id": "RUHR-28yBY5O"
      },
      "source": [
        "# <font color='blue'> Análisis Estadístico de Parámetros de Estado Estable "
      ]
    },
    {
      "cell_type": "markdown",
      "metadata": {
        "id": "PxqrpbnDBY5P"
      },
      "source": [
        "Por lo general, los estudios de simulación se realizan para determinar el valor de cierta cantidad $\\theta$ relacionada con el modelo estocástico particular. Una simulación del sistema en cuestión produce los datos de salida $X$, una variable aleatoria cuyo valor esperado es la cantidad de interés $\\theta$, y se realiza durante $n$ ejecuciones. "
      ]
    },
    {
      "cell_type": "markdown",
      "metadata": {
        "id": "aHUwl49XBY5Q"
      },
      "source": [
        "El promedio de estos $n$ valores, "
      ]
    },
    {
      "cell_type": "markdown",
      "metadata": {
        "id": "AcoSgnL8BY5Q"
      },
      "source": [
        "<font color='red'>$$\\bar{X} = \\sum_{i=1}^n \\frac{X_i}{n}$$"
      ]
    },
    {
      "cell_type": "markdown",
      "metadata": {
        "id": "7R3UvEHaBY5Q"
      },
      "source": [
        "sirve como estimador, o aproximador de $\\theta$. Este promedio aritmético es la **media muestral**."
      ]
    },
    {
      "cell_type": "markdown",
      "metadata": {
        "id": "dNRKck5wBY5Q"
      },
      "source": [
        "Para determinar la \"bondad\" de $\\bar{X}$ como estimador de la media poblacional $\\theta$, consideramos el error cuadrático medio:"
      ]
    },
    {
      "cell_type": "markdown",
      "metadata": {
        "id": "J1l20xf-BY5Q"
      },
      "source": [
        "$$\\mathbb{E}[(\\bar{X}-\\theta)^2]=\\mathbb{Var}(\\bar{X})=\\frac{\\sigma^2}{n}$$"
      ]
    },
    {
      "cell_type": "markdown",
      "metadata": {
        "id": "wpjVS9YOBY5R"
      },
      "source": [
        "donde $\\mathbb{E}[\\bar{X}]=\\theta$ y $\\mathbb{Var}(X_i)=\\sigma^2$"
      ]
    },
    {
      "cell_type": "markdown",
      "metadata": {
        "id": "2IpmvFT8BY5R"
      },
      "source": [
        "Entonces, $\\bar{X}$ es un buen estimador de $\\theta$ cuando $\\frac{\\sigma}{\\sqrt{n}}$ es pequeño."
      ]
    },
    {
      "cell_type": "markdown",
      "metadata": {
        "id": "pQW6z61JBY5R"
      },
      "source": [
        "La dificultad de este indicador de bondad es que por lo general no se conoce la varianza poblacional $\\sigma^2$, así que también debe estimarse."
      ]
    },
    {
      "cell_type": "markdown",
      "metadata": {
        "id": "ETsSQd-sBY5R"
      },
      "source": [
        "Para ello se usa la varianza muestral, $S^2$:"
      ]
    },
    {
      "cell_type": "markdown",
      "metadata": {
        "id": "n4ERdatBBY5S"
      },
      "source": [
        "<font color='red'>$$S^2=\\frac{\\sum_{i=1}^n (X_i-\\bar{X})^2}{n-1}$$"
      ]
    },
    {
      "cell_type": "markdown",
      "metadata": {
        "id": "EXzZmBOaBY5S"
      },
      "source": [
        "$S^2$ es la **varianza poblacional** y $s=\\sqrt{S^2}$ es la **desviación estándar muestral**."
      ]
    },
    {
      "cell_type": "markdown",
      "metadata": {
        "id": "09na_NYWBY5S"
      },
      "source": [
        "De modo que la estimación del error cuadrático medio es:\n",
        "\n",
        "$$ECM = \\frac{S^2}{n}$$"
      ]
    },
    {
      "cell_type": "markdown",
      "metadata": {
        "id": "zF3j5v_lBY5S"
      },
      "source": [
        "De modo que la estimación del error estándar es:\n",
        "\n",
        "<font color='red'>$$e=\\frac{S}{\\sqrt{n}}$$"
      ]
    },
    {
      "cell_type": "markdown",
      "metadata": {
        "id": "vnqN8-epBY5S"
      },
      "source": [
        "### <font color='blue'> Ejercicio"
      ]
    },
    {
      "cell_type": "markdown",
      "metadata": {
        "id": "5ZC4BVmkBY5T"
      },
      "source": [
        "Estimemos el valor de la integral $\\int_0^1 \\sqrt( \\arctan x ) dx$."
      ]
    },
    {
      "cell_type": "markdown",
      "metadata": {
        "id": "gRzrHobwBY5T"
      },
      "source": [
        "Modificar el ejercicio ya realizado para obtener una estimación de la integral y una medida de su bondad. "
      ]
    },
    {
      "cell_type": "code",
      "execution_count": null,
      "metadata": {
        "id": "eU6hS_kQBY5T"
      },
      "outputs": [],
      "source": [
        ""
      ]
    },
    {
      "cell_type": "code",
      "execution_count": null,
      "metadata": {
        "id": "Q1bsgGAnBY5T"
      },
      "outputs": [],
      "source": [
        "import numpy as np\n",
        "import matplotlib.pyplot as plt"
      ]
    },
    {
      "cell_type": "code",
      "execution_count": null,
      "metadata": {
        "id": "zn3UvSJcBY5U"
      },
      "outputs": [],
      "source": [
        "#Definimos la función de prueba.\n",
        "def funcion(x):\n",
        "    return np.sqrt(np.arctan(x)) "
      ]
    },
    {
      "cell_type": "code",
      "execution_count": null,
      "metadata": {
        "id": "uWUpNJ9VBY5U"
      },
      "outputs": [],
      "source": [
        "#Graficamos la función de prueba.\n",
        "X=np.linspace(0,1,1000)\n",
        "plt.plot(X,funcion(X), color='red', label=\"$y=1/(1+x)$\")\n",
        "#plt.fill_between(X,funcion(X))\n",
        "plt.legend()\n",
        "plt.xlim(0.0, 1.2)\n",
        "plt.ylim(0.0, 1.2)\n",
        "plt.grid(True)\n",
        "plt.title('Función de prueba', color='b')\n",
        "plt.xlabel('X')\n",
        "plt.ylabel('Y')\n",
        "plt.show()"
      ]
    },
    {
      "cell_type": "code",
      "execution_count": null,
      "metadata": {
        "id": "nXBDChAqBY5U"
      },
      "outputs": [],
      "source": [
        "def integ(func=funcion, n=10000):\n",
        "    muestreo=[]\n",
        "    suma=[]\n",
        "    for i in range(n):\n",
        "        u= np.random.random_sample()\n",
        "        muestreo.append(u)\n",
        "        y=funcion(u)\n",
        "        suma.append(y)\n",
        "\n",
        "    return np.mean(suma), np.std(suma)/np.sqrt(n)\n",
        "\n",
        "print(\"El valor de la integral es:\", round(integ()[0],5))\n",
        "print(\"El error estándar es:\", round(integ()[1],5))"
      ]
    },
    {
      "cell_type": "code",
      "execution_count": null,
      "metadata": {
        "id": "I3VKCH-jBY5V"
      },
      "outputs": [],
      "source": [
        "integ(n=100)"
      ]
    },
    {
      "cell_type": "markdown",
      "metadata": {
        "id": "V_f3z--ABY5W"
      },
      "source": [
        "### Método para determinar cuando detenerse al generar nuevos datos"
      ]
    },
    {
      "cell_type": "markdown",
      "metadata": {
        "id": "G_0hrV6sBY5W"
      },
      "source": [
        "1. Elegir un valor aceptable $d$ para la desviación estándar del estimador.\n",
        "\n",
        "2. Generar al menos 30 datos.\n",
        "\n",
        "3. Continuar generando más datos, hasta detenerse cuando se hayan generado $k$ valores y $\\frac{S}{\\sqrt{k}}<d$, donde $S$ es la desviación estándar muestral basada en estos $k$ valores.\n",
        "\n",
        "4. La estimación de $\\theta$ está dada por $\\bar{X}=\\sum_{i=1}^k \\frac{X-i}{k}$."
      ]
    },
    {
      "cell_type": "markdown",
      "metadata": {
        "id": "wHLmm-tjBY5X"
      },
      "source": [
        "# <font color='blue'> Intervalos de Confianza"
      ]
    },
    {
      "cell_type": "markdown",
      "metadata": {
        "id": "jyE_w9r8BY5X"
      },
      "source": [
        "El intervalo de confianza a $((1-\\alpha) \\times 100)$ % para una población de media $\\mu$ está dado por la fórmula:"
      ]
    },
    {
      "cell_type": "markdown",
      "metadata": {
        "id": "uapv13jzBY5X"
      },
      "source": [
        "$$\\bar{x} \\pm t \\times \\frac{s}{\\sqrt{n}},$$"
      ]
    },
    {
      "cell_type": "markdown",
      "metadata": {
        "id": "g25V0rD5BY5Y"
      },
      "source": [
        "donde:\n",
        "\n",
        "$t$ es una variable aleatoria que tiene una distribución t de Student con $(n-1)$ grados de libertad.\n",
        "\n",
        "$\\bar{x}$ es la media muestral\n",
        "\n",
        "$s$ es la desviación estándar muestral\n",
        "\n",
        "$n$ es el tamaño de la muestra\n",
        "\n",
        "$\\alpha$ es el nivel de significancia \n",
        "\n",
        "$(1 - \\alpha)$ es el nivel de confianza"
      ]
    },
    {
      "cell_type": "code",
      "execution_count": null,
      "metadata": {
        "id": "P58VgKykBY5Y"
      },
      "outputs": [],
      "source": [
        ""
      ]
    },
    {
      "cell_type": "code",
      "execution_count": null,
      "metadata": {
        "id": "uZN_BgNEBY5Y"
      },
      "outputs": [],
      "source": [
        ""
      ]
    },
    {
      "cell_type": "code",
      "execution_count": null,
      "metadata": {
        "id": "r5ucoYSMBY5Y"
      },
      "outputs": [],
      "source": [
        "import statistics as stat\n",
        "import math"
      ]
    },
    {
      "cell_type": "code",
      "execution_count": null,
      "metadata": {
        "id": "R6eJk6LTBY5Z"
      },
      "outputs": [],
      "source": [
        "muestra = [3.2, 3, 2.8, 2.9, 3.1]"
      ]
    },
    {
      "cell_type": "code",
      "execution_count": null,
      "metadata": {
        "id": "lJUjt_7XBY5Z"
      },
      "outputs": [],
      "source": [
        "n=len(muestra)             # cantidad de datos\n",
        "mean=stat.mean(muestra)    # media muestral\n",
        "s=stat.stdev(muestra)      # desviacion estandar muestral\n",
        "\n",
        "t=2.776                    # para un nivel de confianza al 95%\n",
        "\n",
        "# usamos las formulas\n",
        "ic1 = mean - t*(s/math.sqrt(n))     \n",
        "ic2 = mean + t*(s/math.sqrt(n))\n",
        "\n",
        "print(\"Intervalo de confianza:\", round(ic1, 2), round(ic2, 2))"
      ]
    },
    {
      "cell_type": "markdown",
      "metadata": {
        "id": "TeyJxFznBY5Z"
      },
      "source": [
        "### Ejercicio:\n",
        "\n",
        "1. Hacer una función que devuelva el intervalo de confianza.\n",
        "\n",
        "2. Calcular los intervalos de confianza a 80, 90, 95, 98 y 99% con la muestra:\n",
        "\n",
        "  $\\{3.33, \\; 3.15,\\; 2.91,\\; 3.05,\\; 2.75 \\}$"
      ]
    },
    {
      "cell_type": "code",
      "execution_count": null,
      "metadata": {
        "id": "ZPHRLj-dBY5a"
      },
      "outputs": [],
      "source": [
        ""
      ]
    }
  ],
  "metadata": {
    "kernelspec": {
      "display_name": "Python 3",
      "language": "python",
      "name": "python3"
    },
    "language_info": {
      "codemirror_mode": {
        "name": "ipython",
        "version": 3
      },
      "file_extension": ".py",
      "mimetype": "text/x-python",
      "name": "python",
      "nbconvert_exporter": "python",
      "pygments_lexer": "ipython3",
      "version": "3.7.3"
    },
    "colab": {
      "name": "Análisis Estadistico.ipynb",
      "provenance": []
    }
  },
  "nbformat": 4,
  "nbformat_minor": 0
}