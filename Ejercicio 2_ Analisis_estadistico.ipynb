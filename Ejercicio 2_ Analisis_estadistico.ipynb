{
  "cells": [
    {
      "cell_type": "code",
      "execution_count": 1,
      "metadata": {
        "id": "r5ucoYSMBY5Y"
      },
      "outputs": [],
      "source": [
        "import statistics as stat\n",
        "import math"
      ]
    },
    {
      "cell_type": "code",
      "execution_count": 2,
      "metadata": {
        "id": "R6eJk6LTBY5Z"
      },
      "outputs": [],
      "source": [
        "muestra = [3.2, 3, 2.8, 2.9, 3.1]"
      ]
    },
    {
      "cell_type": "code",
      "execution_count": 3,
      "metadata": {
        "id": "lJUjt_7XBY5Z"
      },
      "outputs": [
        {
          "name": "stdout",
          "output_type": "stream",
          "text": [
            "Intervalo de confianza: 2.8 3.2\n"
          ]
        }
      ],
      "source": [
        "n=len(muestra)             # cantidad de datos\n",
        "mean=stat.mean(muestra)    # media muestral\n",
        "s=stat.stdev(muestra)      # desviacion estandar muestral\n",
        "\n",
        "t=2.776                    # para un nivel de confianza al 95%\n",
        "\n",
        "# usamos las formulas\n",
        "ic1 = mean - t*(s/math.sqrt(n))     \n",
        "ic2 = mean + t*(s/math.sqrt(n))\n",
        "\n",
        "print(\"Intervalo de confianza:\", round(ic1, 2), round(ic2, 2))"
      ]
    },
    {
      "cell_type": "markdown",
      "metadata": {
        "id": "TeyJxFznBY5Z"
      },
      "source": [
        "### Ejercicio:\n",
        "\n",
        "1. Hacer una función que devuelva el intervalo de confianza.\n",
        "\n",
        "2. Calcular los intervalos de confianza a 80, 90, 95, 98 y 99% con la muestra:\n",
        "\n",
        "  $\\{3.33, \\; 3.15,\\; 2.91,\\; 3.05,\\; 2.75 \\}$"
      ]
    },
    {
      "cell_type": "code",
      "execution_count": 5,
      "metadata": {
        "id": "ZPHRLj-dBY5a"
      },
      "outputs": [],
      "source": [
        "def int_conf(muestra,t):\n",
        "    n=len(muestra)             # cantidad de datos\n",
        "    mean=stat.mean(muestra)    # media muestral\n",
        "    s=stat.stdev(muestra)      # desviacion estandar muestral\n",
        "\n",
        "    # usamos las formulas\n",
        "    ic1 = mean - t*(s/math.sqrt(n))     \n",
        "    ic2 = mean + t*(s/math.sqrt(n))\n",
        "\n",
        "    print(f'Intervalo de confianza: [{round(ic1, 2)}, {round(ic2, 2)}]')"
      ]
    },
    {
      "cell_type": "code",
      "execution_count": 6,
      "metadata": {},
      "outputs": [],
      "source": [
        "muestra = [3.33, 3.15, 2.91, 3.05,2.75]"
      ]
    },
    {
      "cell_type": "markdown",
      "metadata": {},
      "source": [
        "Intervalo de confianza a 80%"
      ]
    },
    {
      "cell_type": "code",
      "execution_count": 7,
      "metadata": {},
      "outputs": [
        {
          "name": "stdout",
          "output_type": "stream",
          "text": [
            "Intervalo de confianza: [2.95, 3.13]\n"
          ]
        }
      ],
      "source": [
        "int_conf(muestra,0.9195)"
      ]
    },
    {
      "cell_type": "markdown",
      "metadata": {},
      "source": [
        "Intervalo de confianza a 90%"
      ]
    },
    {
      "cell_type": "code",
      "execution_count": 8,
      "metadata": {},
      "outputs": [
        {
          "name": "stdout",
          "output_type": "stream",
          "text": [
            "Intervalo de confianza: [2.89, 3.18]\n"
          ]
        }
      ],
      "source": [
        "int_conf(muestra,1.4759)"
      ]
    },
    {
      "cell_type": "markdown",
      "metadata": {},
      "source": [
        "Intervalo de confianza a 95%"
      ]
    },
    {
      "cell_type": "code",
      "execution_count": 9,
      "metadata": {},
      "outputs": [
        {
          "name": "stdout",
          "output_type": "stream",
          "text": [
            "Intervalo de confianza: [2.84, 3.24]\n"
          ]
        }
      ],
      "source": [
        "int_conf(muestra,2.0150)"
      ]
    },
    {
      "cell_type": "markdown",
      "metadata": {},
      "source": [
        "Intervalo de coanfianza a 98%"
      ]
    },
    {
      "cell_type": "code",
      "execution_count": 10,
      "metadata": {},
      "outputs": [
        {
          "name": "stdout",
          "output_type": "stream",
          "text": [
            "Intervalo de confianza: [2.7, 3.37]\n"
          ]
        }
      ],
      "source": [
        "int_conf(muestra,3.3649)"
      ]
    },
    {
      "cell_type": "markdown",
      "metadata": {},
      "source": [
        "Intervalo de confianza a 99%"
      ]
    },
    {
      "cell_type": "code",
      "execution_count": 11,
      "metadata": {},
      "outputs": [
        {
          "name": "stdout",
          "output_type": "stream",
          "text": [
            "Intervalo de confianza: [2.64, 3.44]\n"
          ]
        }
      ],
      "source": [
        "int_conf(muestra,4.0321)"
      ]
    }
  ],
  "metadata": {
    "colab": {
      "name": "Análisis Estadistico.ipynb",
      "provenance": []
    },
    "interpreter": {
      "hash": "11938c6bc6919ae2720b4d5011047913343b08a43b18698fd82dedb0d4417594"
    },
    "kernelspec": {
      "display_name": "Python 3.9.6 64-bit",
      "language": "python",
      "name": "python3"
    },
    "language_info": {
      "codemirror_mode": {
        "name": "ipython",
        "version": 3
      },
      "file_extension": ".py",
      "mimetype": "text/x-python",
      "name": "python",
      "nbconvert_exporter": "python",
      "pygments_lexer": "ipython3",
      "version": "3.9.6"
    }
  },
  "nbformat": 4,
  "nbformat_minor": 0
}
