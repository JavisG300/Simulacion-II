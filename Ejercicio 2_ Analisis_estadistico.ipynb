{
  "cells": [
    {
      "cell_type": "code",
      "execution_count": 4,
      "metadata": {
        "id": "r5ucoYSMBY5Y"
      },
      "outputs": [],
      "source": [
        "import statistics as stat\n",
        "import math"
      ]
    },
    {
      "cell_type": "code",
      "execution_count": 5,
      "metadata": {
        "id": "lJUjt_7XBY5Z"
      },
      "outputs": [
        {
          "name": "stdout",
          "output_type": "stream",
          "text": [
            "Intervalo de confianza: 2.76 3.31\n"
          ]
        }
      ],
      "source": [
        "n=len(muestra)             # cantidad de datos\n",
        "mean=stat.mean(muestra)    # media muestral\n",
        "s=stat.stdev(muestra)      # desviacion estandar muestral\n",
        "\n",
        "t=2.776                    # para un nivel de confianza al 95%\n",
        "\n",
        "# usamos las formulas\n",
        "ic1 = mean - t*(s/math.sqrt(n))     \n",
        "ic2 = mean + t*(s/math.sqrt(n))\n",
        "\n",
        "print(\"Intervalo de confianza:\", round(ic1, 2), round(ic2, 2))"
      ]
    },
    {
      "cell_type": "markdown",
      "metadata": {
        "id": "TeyJxFznBY5Z"
      },
      "source": [
        "### Ejercicio:\n",
        "\n",
        "1. Hacer una función que devuelva el intervalo de confianza.\n",
        "\n",
        "2. Calcular los intervalos de confianza a 80, 90, 95, 98 y 99% con la muestra:\n",
        "\n",
        "  $\\{3.33, \\; 3.15,\\; 2.91,\\; 3.05,\\; 2.75 \\}$"
      ]
    },
    {
      "cell_type": "code",
      "execution_count": 6,
      "metadata": {
        "id": "ZPHRLj-dBY5a"
      },
      "outputs": [],
      "source": [
        "def int_conf(muestra,t):\n",
        "    n=len(muestra)             # cantidad de datos\n",
        "    mean=stat.mean(muestra)    # media muestral\n",
        "    s=stat.stdev(muestra)      # desviacion estandar muestral\n",
        "\n",
        "    # usamos las formulas\n",
        "    ic1 = mean - t*(s/math.sqrt(n))     \n",
        "    ic2 = mean + t*(s/math.sqrt(n))\n",
        "\n",
        "    print(f'Intervalo de confianza: [{round(ic1, 2)}, {round(ic2, 2)}]')"
      ]
    },
    {
      "cell_type": "code",
      "execution_count": 7,
      "metadata": {},
      "outputs": [],
      "source": [
        "muestra = [3.33, 3.15, 2.91, 3.05,2.75]"
      ]
    },
    {
      "cell_type": "code",
      "execution_count": 18,
      "metadata": {},
      "outputs": [
        {
          "data": {
            "text/plain": [
              "5"
            ]
          },
          "execution_count": 18,
          "metadata": {},
          "output_type": "execute_result"
        }
      ],
      "source": [
        "len(muestra)"
      ]
    },
    {
      "cell_type": "markdown",
      "metadata": {},
      "source": [
        "Como n = 5, en la tabla observamos n-1 = 4"
      ]
    },
    {
      "cell_type": "code",
      "execution_count": 17,
      "metadata": {},
      "outputs": [
        {
          "name": "stdout",
          "output_type": "stream",
          "text": [
            "Al 80%\n",
            "Intervalo de confianza: [2.89, 3.19]\n",
            "Al 90%\n",
            "Intervalo de confianza: [2.83, 3.25]\n",
            "Al 95%\n",
            "Intervalo de confianza: [2.76, 3.31]\n",
            "Al 98%\n",
            "Intervalo de confianza: [2.67, 3.41]\n",
            "Al 99%\n",
            "Intervalo de confianza: [2.58, 3.5]\n"
          ]
        }
      ],
      "source": [
        "print('Al 80%')\n",
        "int_conf(muestra,1.533)\n",
        "print('Al 90%')\n",
        "int_conf(muestra,2.132)\n",
        "print('Al 95%')\n",
        "int_conf(muestra,2.776)\n",
        "print('Al 98%')\n",
        "int_conf(muestra,3.747)\n",
        "print('Al 99%')\n",
        "int_conf(muestra,4.604)"
      ]
    }
  ],
  "metadata": {
    "colab": {
      "name": "Análisis Estadistico.ipynb",
      "provenance": []
    },
    "interpreter": {
      "hash": "11938c6bc6919ae2720b4d5011047913343b08a43b18698fd82dedb0d4417594"
    },
    "kernelspec": {
      "display_name": "Python 3.9.6 64-bit",
      "language": "python",
      "name": "python3"
    },
    "language_info": {
      "codemirror_mode": {
        "name": "ipython",
        "version": 3
      },
      "file_extension": ".py",
      "mimetype": "text/x-python",
      "name": "python",
      "nbconvert_exporter": "python",
      "pygments_lexer": "ipython3",
      "version": "3.9.6"
    }
  },
  "nbformat": 4,
  "nbformat_minor": 0
}
