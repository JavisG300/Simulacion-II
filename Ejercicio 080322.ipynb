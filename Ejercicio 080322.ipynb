{
  "cells": [
    {
      "cell_type": "markdown",
      "metadata": {
        "id": "QwQIBVTRAZGF"
      },
      "source": [
        "### Ejercicio (080322):\n",
        "\n",
        "1. Escribir el código para la subrutina que genera $T_s$."
      ]
    },
    {
      "cell_type": "code",
      "execution_count": 24,
      "metadata": {},
      "outputs": [],
      "source": [
        "import random\n",
        "import matplotlib.pyplot as plt\n",
        "\n",
        "#Función que genera el tiempo y numero de llegadas\n",
        "def Ts(ta,T):  #Parámetros ta: tiempo de arrivo, T: tiempo total de simulación\n",
        "    N = 0      #contador de llegadas\n",
        "    t = 0      #Hora de simulación  \n",
        "    num_arrivals = []\n",
        "    time = []\n",
        "    while t <= T:\n",
        "        N += 1 #Se aumenta el número de llegadas\n",
        "        t = t + random.expovariate(1/ta) #Generación del siguiente tiempo de llegada\n",
        "        num_arrivals.append(N)\n",
        "        time.append(t)\n",
        "    print('Tiempo de ingresos al sistema: ', time)\n",
        "    print('Arrivos totales: ', N)\n",
        "    plt.scatter(time,num_arrivals)\n",
        "    plt.step(time,num_arrivals)\n",
        "    plt.ylabel('Número de llegada')\n",
        "    plt.xlabel('Tiempo de ingreso')\n",
        "    plt.show()"
      ]
    },
    {
      "cell_type": "code",
      "execution_count": 25,
      "metadata": {},
      "outputs": [
        {
          "name": "stdout",
          "output_type": "stream",
          "text": [
            "Tiempo de ingresos al sistema:  [1.5765447374253827, 2.698585284637575, 4.207207863673993, 13.11538559162473, 17.291770198760005]\n",
            "Arrivos totales:  5\n"
          ]
        },
        {
          "data": {
            "image/png": "[encoded data removed]",
            "text/plain": [
              "<Figure size 432x288 with 1 Axes>"
            ]
          },
          "metadata": {
            "needs_background": "light"
          },
          "output_type": "display_data"
        }
      ],
      "source": [
        "Ts(2,15)"
      ]
    },
    {
      "cell_type": "markdown",
      "metadata": {
        "id": "w5sSyKRuAZGH"
      },
      "source": [
        "### Tarea: Codificar inicialización y casos (pp. 89-91)"
      ]
    },
    {
      "cell_type": "code",
      "execution_count": 31,
      "metadata": {
        "id": "R8VIZd0aAZGH"
      },
      "outputs": [
        {
          "name": "stdout",
          "output_type": "stream",
          "text": [
            "Personas en el sistema      1     Tiempo de llegada      0.330\n",
            "Personas en el sistema      0     Tiempo de salida      0.866\n",
            "Personas en el sistema      1     Tiempo de llegada      2.966\n",
            "Personas en el sistema      0     Tiempo de salida      3.706\n",
            "Personas en el sistema      1     Tiempo de llegada      5.461\n",
            "Personas en el sistema      0     Tiempo de salida      6.550\n",
            "Personas en el sistema      1     Tiempo de llegada     10.513\n",
            "Personas en el sistema      0     Tiempo de salida     11.586\n",
            "Personas en el sistema      1     Tiempo de llegada     15.557\n",
            "Personas en el sistema      0     Tiempo de salida     16.629\n",
            "Personas en el sistema      1     Tiempo de llegada     18.309\n",
            "Personas en el sistema      0     Tiempo de salida     18.399\n",
            "Personas en el sistema      1     Tiempo de llegada     20.424\n",
            "Personas en el sistema      2     Tiempo de llegada     21.687\n",
            "Personas en el sistema      3     Tiempo de llegada     21.715\n",
            "Personas en el sistema      4     Tiempo de llegada     21.983\n",
            "Personas en el sistema      3     Tiempo de salida     22.669\n",
            "Personas en el sistema      2     Tiempo de salida     22.953\n",
            "Personas en el sistema      1     Tiempo de salida     23.050\n",
            "Personas en el sistema      2     Tiempo de llegada     23.483\n",
            "Personas en el sistema      1     Tiempo de salida     23.921\n",
            "Personas en el sistema      2     Tiempo de llegada     24.288\n",
            "Personas en el sistema      3     Tiempo de llegada     24.306\n",
            "Personas en el sistema      2     Tiempo de salida     25.417\n",
            "Personas en el sistema      3     Tiempo de llegada     25.998\n",
            "Personas en el sistema      4     Tiempo de llegada     26.208\n",
            "Personas en el sistema      5     Tiempo de llegada     26.531\n",
            "Personas en el sistema      4     Tiempo de salida     27.059\n",
            "Personas en el sistema      3     Tiempo de salida     27.515\n",
            "Personas en el sistema      4     Tiempo de llegada     28.248\n",
            "Personas en el sistema      3     Tiempo de salida     29.262\n",
            "Personas en el sistema      2     Tiempo de salida     29.329\n",
            "Personas en el sistema      1     Tiempo de salida     30.365\n",
            "Personas en el sistema      2     Tiempo de llegada     31.482\n",
            "Personas en el sistema      1     Tiempo de salida     31.819\n",
            "Personas en el sistema      2     Tiempo de llegada     32.097\n",
            "Personas en el sistema      3     Tiempo de llegada     32.145\n",
            "Personas en el sistema      2     Tiempo de salida     32.648\n",
            "Personas en el sistema      3     Tiempo de llegada     32.681\n",
            "Personas en el sistema      4     Tiempo de llegada     32.729\n",
            "Personas en el sistema      5     Tiempo de llegada     34.091\n",
            "Personas en el sistema      6     Tiempo de llegada     34.376\n",
            "Personas en el sistema      7     Tiempo de llegada     34.386\n",
            "Personas en el sistema      8     Tiempo de llegada     35.033\n",
            "Personas en el sistema      9     Tiempo de llegada     35.311\n",
            "Personas en el sistema      8     Tiempo de salida     35.433\n",
            "Personas en el sistema      7     Tiempo de salida     35.472\n",
            "Personas en el sistema      8     Tiempo de llegada     35.799\n",
            "Personas en el sistema      9     Tiempo de llegada     36.799\n",
            "Personas en el sistema     10     Tiempo de llegada     37.072\n",
            "Personas en el sistema      9     Tiempo de salida     37.107\n",
            "Personas en el sistema     10     Tiempo de llegada     38.089\n",
            "Personas en el sistema      9     Tiempo de salida     38.644\n",
            "Personas en el sistema      8     Tiempo de salida     38.689\n",
            "Personas en el sistema      7     Tiempo de salida     38.728\n",
            "Personas en el sistema      8     Tiempo de llegada     38.880\n",
            "Personas en el sistema      9     Tiempo de llegada     39.067\n",
            "Personas en el sistema      8     Tiempo de salida     39.945\n",
            "Personas en el sistema      7     Tiempo de salida     42.231\n",
            "Personas en el sistema      8     Tiempo de llegada     42.407\n",
            "Personas en el sistema      7     Tiempo de salida     42.458\n",
            "Personas en el sistema      6     Tiempo de salida     42.772\n",
            "Personas en el sistema      7     Tiempo de llegada     42.983\n",
            "Personas en el sistema      8     Tiempo de llegada     43.283\n",
            "Personas en el sistema      9     Tiempo de llegada     43.293\n",
            "Personas en el sistema      8     Tiempo de salida     43.387\n",
            "Personas en el sistema      7     Tiempo de salida     45.722\n",
            "Personas en el sistema      6     Tiempo de salida     45.890\n",
            "Personas en el sistema      5     Tiempo de salida     46.204\n",
            "Personas en el sistema      4     Tiempo de salida     47.293\n",
            "Personas en el sistema      3     Tiempo de salida     48.551\n",
            "Personas en el sistema      4     Tiempo de llegada     48.811\n",
            "Personas en el sistema      3     Tiempo de salida     49.673\n",
            "Personas en el sistema      2     Tiempo de salida     49.955\n",
            "Personas en el sistema      1     Tiempo de salida     50.211\n",
            "Personas en el sistema      2     Tiempo de llegada     50.686\n",
            "Personas en el sistema      1     Tiempo de salida     50.883\n",
            "Personas en el sistema      0     Tiempo de salida     50.997\n",
            "Personas en el sistema      1     Tiempo de llegada     52.011\n",
            "Personas en el sistema      2     Tiempo de llegada     53.604\n",
            "Personas en el sistema      1     Tiempo de salida     53.605\n",
            "Personas en el sistema      0     Tiempo de salida     53.732\n",
            "Personas en el sistema      1     Tiempo de llegada     55.681\n",
            "Personas en el sistema      2     Tiempo de llegada     55.870\n",
            "Personas en el sistema      1     Tiempo de salida     55.927\n",
            "Personas en el sistema      2     Tiempo de llegada     56.603\n",
            "Personas en el sistema      1     Tiempo de salida     58.529\n",
            "Personas en el sistema      0     Tiempo de salida     58.607\n",
            "Personas en el sistema      1     Tiempo de llegada     59.598\n",
            "Personas en el sistema      0     Tiempo de salida     59.944\n",
            "Personas en el sistema      1     Tiempo de llegada     62.754\n",
            "Personas en el sistema      0     Tiempo de salida     62.890\n",
            "Personas en el sistema      1     Tiempo de llegada     67.640\n",
            "Personas en el sistema      2     Tiempo de llegada     67.641\n",
            "Personas en el sistema      1     Tiempo de salida     68.512\n",
            "Personas en el sistema      2     Tiempo de llegada     69.502\n",
            "Personas en el sistema      1     Tiempo de salida     70.305\n",
            "Personas en el sistema      0     Tiempo de salida     70.650\n",
            "Personas en el sistema      1     Tiempo de llegada     71.888\n",
            "Personas en el sistema      2     Tiempo de llegada     72.962\n",
            "Personas en el sistema      1     Tiempo de salida     72.963\n",
            "Personas en el sistema      0     Tiempo de salida     72.996\n",
            "Personas en el sistema      1     Tiempo de llegada     74.937\n",
            "Personas en el sistema      0     Tiempo de salida     76.123\n",
            "Personas en el sistema      1     Tiempo de llegada     76.177\n",
            "Personas en el sistema      0     Tiempo de salida     76.513\n",
            "Personas en el sistema      1     Tiempo de llegada     76.687\n",
            "Personas en el sistema      0     Tiempo de salida     78.248\n",
            "Personas en el sistema      1     Tiempo de llegada     78.549\n",
            "Personas en el sistema      0     Tiempo de salida     78.762\n",
            "Personas en el sistema      1     Tiempo de llegada     80.802\n",
            "Personas en el sistema      0     Tiempo de salida     80.919\n",
            "Personas en el sistema      1     Tiempo de llegada     82.531\n",
            "Personas en el sistema      2     Tiempo de llegada     82.745\n",
            "Personas en el sistema      3     Tiempo de llegada     83.896\n",
            "Personas en el sistema      4     Tiempo de llegada     84.371\n",
            "Personas en el sistema      5     Tiempo de llegada     84.413\n",
            "Personas en el sistema      6     Tiempo de llegada     85.463\n",
            "Personas en el sistema      5     Tiempo de salida     86.801\n",
            "Personas en el sistema      6     Tiempo de llegada     87.026\n",
            "Personas en el sistema      5     Tiempo de salida     87.167\n",
            "Personas en el sistema      4     Tiempo de salida     87.258\n",
            "Personas en el sistema      3     Tiempo de salida     87.986\n",
            "Personas en el sistema      2     Tiempo de salida     88.369\n",
            "Personas en el sistema      1     Tiempo de salida     88.554\n",
            "Personas en el sistema      2     Tiempo de llegada     88.722\n",
            "Personas en el sistema      1     Tiempo de salida     88.863\n",
            "Personas en el sistema      0     Tiempo de salida     89.405\n",
            "Personas en el sistema      1     Tiempo de llegada     92.370\n",
            "Personas en el sistema      2     Tiempo de llegada     92.921\n",
            "Personas en el sistema      3     Tiempo de llegada     93.526\n",
            "Personas en el sistema      2     Tiempo de salida     93.841\n",
            "Personas en el sistema      1     Tiempo de salida     94.510\n",
            "Personas en el sistema      0     Tiempo de salida     95.827\n",
            "Personas en el sistema      1     Tiempo de llegada     97.291\n",
            "Personas en el sistema      2     Tiempo de llegada     98.477\n",
            "Personas en el sistema      1     Tiempo de salida     99.286\n",
            "Personas en el sistema      0     Tiempo de salida     99.848\n",
            "Personas en el sistema      1     Tiempo de llegada     99.893\n"
          ]
        },
        {
          "data": {
            "image/png": "[encoded data removed]",
            "text/plain": [
              "<Figure size 1440x576 with 1 Axes>"
            ]
          },
          "metadata": {
            "needs_background": "light"
          },
          "output_type": "display_data"
        }
      ],
      "source": [
        "#Inicialización \n",
        "lamb = 2         #tiempo promedio de llegadas\n",
        "mu = 1           #tiempo de atención\n",
        "t = 0            #tiempo transcrurrido\n",
        "NA = 0           #numero de llegadas\n",
        "ND = 0           #numero de salidas\n",
        "tA = t + random.expovariate(1/lamb) #hora de la primer llegada\n",
        "tD = 1000000     #hora de salida\n",
        "T = 100          #Tiempo de simulación\n",
        "x = []           #Tiempos de ingreso y salida\n",
        "y = []           #Personas en el sistema\n",
        "while min(tA,tD) < T: #Se usa el mínimo para no rebasar T = 100\n",
        "    if tA <= tD: #Simulación de llegada\n",
        "        t = tA\n",
        "        NA += 1\n",
        "        x.append(t)\n",
        "        y.append(NA)\n",
        "        print(\"Personas en el sistema \",\"%5d\"%NA, \"    Tiempo de llegada\", \"%10.3f\"%t)\n",
        "        tA = t + random.expovariate(1/lamb)\n",
        "        if NA == 1: #Si llega un cliente se genera su tiempo de salida, a partir de dos clientes ya es tD > tA y es el else\n",
        "            tD = t + random.expovariate(1/mu)\n",
        "    else:\n",
        "        t = tD\n",
        "        NA = NA - 1\n",
        "        x.append(t)\n",
        "        y.append(NA)\n",
        "        print(\"Personas en el sistema \", \"%5d\"%NA, \"    Tiempo de salida\", \"%10.3f\"%t)\n",
        "        if NA > 0:\n",
        "            tD = t + random.expovariate(1/mu) #Si hay mas clientes se genera el proximo tiempo de salida\n",
        "        else:\n",
        "            tD = 1000000 #Se vuelve a hacer un tiempo muy grande para que el proximo timepo sea de salida\n",
        "plt.figure(1, figsize=(20, 8))\n",
        "plt.step(x,y,color = 'Black')\n",
        "plt.show()"
      ]
    }
  ],
  "metadata": {
    "colab": {
      "name": "Simulacion de un sistema de linea de espera.ipynb",
      "provenance": []
    },
    "kernelspec": {
      "display_name": "Python 3",
      "language": "python",
      "name": "python3"
    },
    "language_info": {
      "codemirror_mode": {
        "name": "ipython",
        "version": 3
      },
      "file_extension": ".py",
      "mimetype": "text/x-python",
      "name": "python",
      "nbconvert_exporter": "python",
      "pygments_lexer": "ipython3",
      "version": "3.9.6"
    }
  },
  "nbformat": 4,
  "nbformat_minor": 0
}
