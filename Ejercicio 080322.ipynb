{
  "cells": [
    {
      "cell_type": "markdown",
      "metadata": {
        "id": "QwQIBVTRAZGF"
      },
      "source": [
        "### Ejercicio (080322):\n",
        "\n",
        "1. Escribir el código para la subrutina que genera $T_s$."
      ]
    },
    {
      "cell_type": "code",
      "execution_count": 24,
      "metadata": {},
      "outputs": [],
      "source": [
        "import random\n",
        "import matplotlib.pyplot as plt\n",
        "\n",
        "#Función que genera el tiempo y numero de llegadas\n",
        "def Ts(ta,T):  #Parámetros ta: tiempo de arrivo, T: tiempo total de simulación\n",
        "    N = 0      #contador de llegadas\n",
        "    t = 0      #Hora de simulación  \n",
        "    num_arrivals = []\n",
        "    time = []\n",
        "    while t <= T:\n",
        "        N += 1 #Se aumenta el número de llegadas\n",
        "        t = t + random.expovariate(1/ta) #Generación del siguiente tiempo de llegada\n",
        "        num_arrivals.append(N)\n",
        "        time.append(t)\n",
        "    print('Tiempo de ingresos al sistema: ', time)\n",
        "    print('Arrivos totales: ', N)\n",
        "    plt.scatter(time,num_arrivals)\n",
        "    plt.step(time,num_arrivals)\n",
        "    plt.ylabel('Número de llegada')\n",
        "    plt.xlabel('Tiempo de ingreso')\n",
        "    plt.show()"
      ]
    },
    {
      "cell_type": "code",
      "execution_count": 25,
      "metadata": {},
      "outputs": [
        {
          "name": "stdout",
          "output_type": "stream",
          "text": [
            "Tiempo de ingresos al sistema:  [1.5765447374253827, 2.698585284637575, 4.207207863673993, 13.11538559162473, 17.291770198760005]\n",
            "Arrivos totales:  5\n"
          ]
        },
        {
          "data": {
            "image/png": "[encoded data removed]",
            "text/plain": [
              "<Figure size 432x288 with 1 Axes>"
            ]
          },
          "metadata": {
            "needs_background": "light"
          },
          "output_type": "display_data"
        }
      ],
      "source": [
        "Ts(2,15)"
      ]
    },
    {
      "cell_type": "markdown",
      "metadata": {
        "id": "w5sSyKRuAZGH"
      },
      "source": [
        "### Tarea: Codificar inicialización y casos (pp. 89-91)"
      ]
    },
    {
      "cell_type": "code",
      "execution_count": 30,
      "metadata": {
        "id": "R8VIZd0aAZGH"
      },
      "outputs": [
        {
          "name": "stdout",
          "output_type": "stream",
          "text": [
            "Personas en el sistema      1     Tiempo de llegada      1.889\n",
            "Personas en el sistema      2     Tiempo de llegada      1.951\n",
            "Personas en el sistema      1     Tiempo de salida      3.381\n",
            "Personas en el sistema      0     Tiempo de salida      3.413\n",
            "Personas en el sistema      1     Tiempo de llegada      6.731\n",
            "Personas en el sistema      0     Tiempo de salida      7.935\n",
            "Personas en el sistema      1     Tiempo de llegada      9.143\n",
            "Personas en el sistema      0     Tiempo de salida     10.670\n",
            "Personas en el sistema      1     Tiempo de llegada     14.517\n",
            "Personas en el sistema      2     Tiempo de llegada     15.209\n",
            "Personas en el sistema      3     Tiempo de llegada     15.569\n",
            "Personas en el sistema      2     Tiempo de salida     16.029\n",
            "Personas en el sistema      1     Tiempo de salida     16.379\n",
            "Personas en el sistema      0     Tiempo de salida     16.526\n",
            "Personas en el sistema      1     Tiempo de llegada     16.714\n",
            "Personas en el sistema      2     Tiempo de llegada     17.624\n",
            "Personas en el sistema      1     Tiempo de salida     17.868\n",
            "Personas en el sistema      0     Tiempo de salida     18.526\n",
            "Personas en el sistema      1     Tiempo de llegada     19.022\n",
            "Personas en el sistema      0     Tiempo de salida     19.959\n",
            "Personas en el sistema      1     Tiempo de llegada     20.631\n",
            "Personas en el sistema      0     Tiempo de salida     20.959\n",
            "Personas en el sistema      1     Tiempo de llegada     24.449\n",
            "Personas en el sistema      2     Tiempo de llegada     24.494\n",
            "Personas en el sistema      1     Tiempo de salida     24.751\n",
            "Personas en el sistema      0     Tiempo de salida     25.029\n",
            "Personas en el sistema      1     Tiempo de llegada     25.546\n",
            "Personas en el sistema      0     Tiempo de salida     26.619\n",
            "Personas en el sistema      1     Tiempo de llegada     27.747\n",
            "Personas en el sistema      2     Tiempo de llegada     28.073\n",
            "Personas en el sistema      1     Tiempo de salida     28.772\n",
            "Personas en el sistema      0     Tiempo de salida     29.604\n",
            "Personas en el sistema      1     Tiempo de llegada     35.462\n",
            "Personas en el sistema      0     Tiempo de salida     36.176\n",
            "Personas en el sistema      1     Tiempo de llegada     38.346\n",
            "Personas en el sistema      0     Tiempo de salida     38.408\n",
            "Personas en el sistema      1     Tiempo de llegada     41.119\n",
            "Personas en el sistema      0     Tiempo de salida     41.598\n",
            "Personas en el sistema      1     Tiempo de llegada     45.934\n",
            "Personas en el sistema      2     Tiempo de llegada     46.122\n",
            "Personas en el sistema      1     Tiempo de salida     48.181\n",
            "Personas en el sistema      2     Tiempo de llegada     49.046\n",
            "Personas en el sistema      3     Tiempo de llegada     51.771\n",
            "Personas en el sistema      4     Tiempo de llegada     53.152\n",
            "Personas en el sistema      3     Tiempo de salida     53.795\n",
            "Personas en el sistema      4     Tiempo de llegada     54.605\n",
            "Personas en el sistema      3     Tiempo de salida     54.937\n",
            "Personas en el sistema      2     Tiempo de salida     57.908\n",
            "Personas en el sistema      3     Tiempo de llegada     58.712\n",
            "Personas en el sistema      2     Tiempo de salida     59.793\n",
            "Personas en el sistema      1     Tiempo de salida     61.079\n",
            "Personas en el sistema      2     Tiempo de llegada     61.314\n",
            "Personas en el sistema      1     Tiempo de salida     61.480\n",
            "Personas en el sistema      0     Tiempo de salida     64.264\n",
            "Personas en el sistema      1     Tiempo de llegada     64.628\n",
            "Personas en el sistema      0     Tiempo de salida     64.642\n",
            "Personas en el sistema      1     Tiempo de llegada     65.234\n",
            "Personas en el sistema      0     Tiempo de salida     66.157\n",
            "Personas en el sistema      1     Tiempo de llegada     66.730\n",
            "Personas en el sistema      2     Tiempo de llegada     66.912\n",
            "Personas en el sistema      3     Tiempo de llegada     68.124\n",
            "Personas en el sistema      4     Tiempo de llegada     68.210\n",
            "Personas en el sistema      5     Tiempo de llegada     68.836\n",
            "Personas en el sistema      4     Tiempo de salida     72.589\n",
            "Personas en el sistema      3     Tiempo de salida     73.893\n",
            "Personas en el sistema      4     Tiempo de llegada     73.998\n",
            "Personas en el sistema      3     Tiempo de salida     74.310\n",
            "Personas en el sistema      4     Tiempo de llegada     77.274\n",
            "Personas en el sistema      3     Tiempo de salida     78.826\n",
            "Personas en el sistema      4     Tiempo de llegada     78.979\n",
            "Personas en el sistema      5     Tiempo de llegada     79.154\n",
            "Personas en el sistema      4     Tiempo de salida     79.422\n",
            "Personas en el sistema      3     Tiempo de salida     80.115\n",
            "Personas en el sistema      2     Tiempo de salida     80.460\n",
            "Personas en el sistema      3     Tiempo de llegada     80.567\n",
            "Personas en el sistema      4     Tiempo de llegada     81.018\n",
            "Personas en el sistema      3     Tiempo de salida     83.347\n",
            "Personas en el sistema      2     Tiempo de salida     83.678\n",
            "Personas en el sistema      1     Tiempo de salida     84.378\n",
            "Personas en el sistema      2     Tiempo de llegada     85.771\n",
            "Personas en el sistema      1     Tiempo de salida     86.399\n",
            "Personas en el sistema      2     Tiempo de llegada     87.898\n",
            "Personas en el sistema      3     Tiempo de llegada     88.696\n",
            "Personas en el sistema      4     Tiempo de llegada     89.539\n",
            "Personas en el sistema      3     Tiempo de salida     91.271\n",
            "Personas en el sistema      2     Tiempo de salida     92.468\n",
            "Personas en el sistema      3     Tiempo de llegada     93.246\n",
            "Personas en el sistema      4     Tiempo de llegada     93.615\n",
            "Personas en el sistema      3     Tiempo de salida     97.551\n",
            "Personas en el sistema      2     Tiempo de salida     97.798\n",
            "Personas en el sistema      1     Tiempo de salida     99.311\n"
          ]
        },
        {
          "data": {
            "image/png": "[encoded data removed]",
            "text/plain": [
              "<Figure size 1152x576 with 1 Axes>"
            ]
          },
          "metadata": {
            "needs_background": "light"
          },
          "output_type": "display_data"
        }
      ],
      "source": [
        "#Inicialización \n",
        "lamb = 2         #tiempo promedio de llegadas\n",
        "mu = 1           #tiempo de atención\n",
        "t = 0            #tiempo transcrurrido\n",
        "NA = 0           #numero de llegadas\n",
        "ND = 0           #numero de salidas\n",
        "tA = t + random.expovariate(1/lamb) #hora de la primer llegada\n",
        "tD = 1000000     #hora de salida\n",
        "T = 100          #Tiempo de simulación\n",
        "x = []           #Tiempos de ingreso y salida\n",
        "y = []           #Personas en el sistema\n",
        "while min(tA,tD) < T: #Se usa el mínimo para no rebasar T = 100\n",
        "    if tA <= tD: #Simulación de llegada\n",
        "        t = tA\n",
        "        NA += 1\n",
        "        x.append(t)\n",
        "        y.append(NA)\n",
        "        print(\"Personas en el sistema \",\"%5d\"%NA, \"    Tiempo de llegada\", \"%10.3f\"%t)\n",
        "        tA = t + random.expovariate(1/lamb)\n",
        "        if NA == 1: #Si llega un cliente se genera su tiempo de salida, a partir de dos clientes ya es tD > tA y es el else\n",
        "            tD = t + random.expovariate(1/mu)\n",
        "    else:\n",
        "        t = tD\n",
        "        NA = NA - 1\n",
        "        x.append(t)\n",
        "        y.append(NA)\n",
        "        print(\"Personas en el sistema \", \"%5d\"%NA, \"    Tiempo de salida\", \"%10.3f\"%t)\n",
        "        if NA > 0:\n",
        "            tD = t + random.expovariate(1/mu) #Si hay mas clientes se genera el proximo tiempo de salida\n",
        "        else:\n",
        "            tD = 1000000 #Se vuelve a hacer un tiempo muy grande para que el proximo timepo sea de salida\n",
        "plt.figure(1, figsize=(20, 8))\n",
        "plt.step(x,y,color = 'Black')\n",
        "plt.show()"
      ]
    }
  ],
  "metadata": {
    "colab": {
      "name": "Simulacion de un sistema de linea de espera.ipynb",
      "provenance": []
    },
    "kernelspec": {
      "display_name": "Python 3",
      "language": "python",
      "name": "python3"
    },
    "language_info": {
      "codemirror_mode": {
        "name": "ipython",
        "version": 3
      },
      "file_extension": ".py",
      "mimetype": "text/x-python",
      "name": "python",
      "nbconvert_exporter": "python",
      "pygments_lexer": "ipython3",
      "version": "3.9.6"
    }
  },
  "nbformat": 4,
  "nbformat_minor": 0
}
