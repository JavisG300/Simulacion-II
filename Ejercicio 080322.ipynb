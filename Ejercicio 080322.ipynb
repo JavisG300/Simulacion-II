{
  "cells": [
    {
      "cell_type": "markdown",
      "metadata": {
        "id": "QwQIBVTRAZGF"
      },
      "source": [
        "### Ejercicio (080322):\n",
        "\n",
        "1. Escribir el código para la subrutina que genera $T_s$."
      ]
    },
    {
      "cell_type": "code",
      "execution_count": 9,
      "metadata": {},
      "outputs": [],
      "source": [
        "import random\n",
        "import matplotlib.pyplot as plt\n",
        "\n",
        "#Función que genera el tiempo y numero de llegadas\n",
        "def Ts(ta,T):  #Parámetros ta: tiempo de arrivo, T: tiempo total de simulación\n",
        "    N = 0      #contador de llegadas\n",
        "    t = 0      #Hora de simulación  \n",
        "    num_arrivals = []\n",
        "    time = []\n",
        "    while t <= T:\n",
        "        N += 1 #Se aumenta el número de llegadas\n",
        "        t = t + random.expovariate(1/ta) #Generación del siguiente tiempo de llegada\n",
        "        num_arrivals.append(N)\n",
        "        time.append(t)\n",
        "    print('Tiempo de ingresos al sistema: ', time)\n",
        "    print('Arrivos totales: ', N)\n",
        "    plt.plot(time,num_arrivals)\n",
        "    plt.ylabel('Número de llegada')\n",
        "    plt.xlabel('Tiempo de ingreso')\n",
        "    plt.show()"
      ]
    },
    {
      "cell_type": "code",
      "execution_count": 13,
      "metadata": {},
      "outputs": [
        {
          "name": "stdout",
          "output_type": "stream",
          "text": [
            "Tiempo de ingresos al sistema:  [3.7888539304424182, 6.600188998104857, 7.31918294596796, 8.432761782682585, 10.177411078847967, 10.913527482146486, 16.532151158876033]\n",
            "Arrivos totales:  7\n"
          ]
        },
        {
          "data": {
            "image/png": "[encoded data removed]",
            "text/plain": [
              "<Figure size 432x288 with 1 Axes>"
            ]
          },
          "metadata": {
            "needs_background": "light"
          },
          "output_type": "display_data"
        }
      ],
      "source": [
        "Ts(2,15)"
      ]
    },
    {
      "cell_type": "markdown",
      "metadata": {
        "id": "w5sSyKRuAZGH"
      },
      "source": [
        "### Tarea: Codificar inicialización y casos (pp. 89-91)"
      ]
    },
    {
      "cell_type": "code",
      "execution_count": 30,
      "metadata": {
        "id": "R8VIZd0aAZGH"
      },
      "outputs": [
        {
          "name": "stdout",
          "output_type": "stream",
          "text": [
            "Personas en el sistema      1     Tiempo de llegada      1.332\n",
            "Personas en el sistema      2     Tiempo de llegada      1.375\n",
            "Personas en el sistema      1     Tiempo de salida      1.434\n",
            "Personas en el sistema      0     Tiempo de salida      1.631\n",
            "Personas en el sistema      1     Tiempo de llegada      2.478\n",
            "Personas en el sistema      0     Tiempo de salida      3.070\n",
            "Personas en el sistema      1     Tiempo de llegada      9.895\n",
            "Personas en el sistema      2     Tiempo de llegada     10.080\n",
            "Personas en el sistema      1     Tiempo de salida     10.560\n",
            "Personas en el sistema      0     Tiempo de salida     10.696\n",
            "Personas en el sistema      1     Tiempo de llegada     10.926\n",
            "Personas en el sistema      0     Tiempo de salida     11.173\n",
            "Personas en el sistema      1     Tiempo de llegada     24.512\n",
            "Personas en el sistema      2     Tiempo de llegada     26.119\n",
            "Personas en el sistema      3     Tiempo de llegada     26.353\n",
            "Personas en el sistema      2     Tiempo de salida     26.877\n",
            "Personas en el sistema      1     Tiempo de salida     27.687\n",
            "Personas en el sistema      2     Tiempo de llegada     27.806\n",
            "Personas en el sistema      3     Tiempo de llegada     27.926\n",
            "Personas en el sistema      2     Tiempo de salida     28.656\n",
            "Personas en el sistema      1     Tiempo de salida     28.877\n",
            "Personas en el sistema      0     Tiempo de salida     29.477\n",
            "Personas en el sistema      1     Tiempo de llegada     30.164\n",
            "Personas en el sistema      0     Tiempo de salida     31.521\n",
            "Personas en el sistema      1     Tiempo de llegada     34.125\n",
            "Personas en el sistema      0     Tiempo de salida     34.201\n",
            "Personas en el sistema      1     Tiempo de llegada     34.286\n",
            "Personas en el sistema      0     Tiempo de salida     36.801\n",
            "Personas en el sistema      1     Tiempo de llegada     38.151\n",
            "Personas en el sistema      0     Tiempo de salida     38.281\n",
            "Personas en el sistema      1     Tiempo de llegada     39.249\n",
            "Personas en el sistema      0     Tiempo de salida     39.464\n",
            "Personas en el sistema      1     Tiempo de llegada     40.172\n",
            "Personas en el sistema      0     Tiempo de salida     40.239\n",
            "Personas en el sistema      1     Tiempo de llegada     41.164\n",
            "Personas en el sistema      0     Tiempo de salida     41.656\n",
            "Personas en el sistema      1     Tiempo de llegada     43.649\n",
            "Personas en el sistema      0     Tiempo de salida     44.642\n",
            "Personas en el sistema      1     Tiempo de llegada     47.021\n",
            "Personas en el sistema      0     Tiempo de salida     47.883\n",
            "Personas en el sistema      1     Tiempo de llegada     48.358\n",
            "Personas en el sistema      0     Tiempo de salida     49.030\n",
            "Personas en el sistema      1     Tiempo de llegada     51.831\n",
            "Personas en el sistema      0     Tiempo de salida     52.846\n",
            "Personas en el sistema      1     Tiempo de llegada     54.640\n",
            "Personas en el sistema      2     Tiempo de llegada     54.661\n",
            "Personas en el sistema      1     Tiempo de salida     54.720\n",
            "Personas en el sistema      0     Tiempo de salida     54.909\n",
            "Personas en el sistema      1     Tiempo de llegada     55.042\n",
            "Personas en el sistema      0     Tiempo de salida     55.107\n",
            "Personas en el sistema      1     Tiempo de llegada     57.387\n",
            "Personas en el sistema      0     Tiempo de salida     57.460\n",
            "Personas en el sistema      1     Tiempo de llegada     58.491\n",
            "Personas en el sistema      0     Tiempo de salida     58.543\n",
            "Personas en el sistema      1     Tiempo de llegada     59.387\n",
            "Personas en el sistema      2     Tiempo de llegada     59.603\n",
            "Personas en el sistema      1     Tiempo de salida     59.715\n",
            "Personas en el sistema      2     Tiempo de llegada     59.826\n",
            "Personas en el sistema      1     Tiempo de salida     59.921\n",
            "Personas en el sistema      2     Tiempo de llegada     60.133\n",
            "Personas en el sistema      1     Tiempo de salida     60.587\n",
            "Personas en el sistema      2     Tiempo de llegada     62.082\n",
            "Personas en el sistema      3     Tiempo de llegada     63.059\n",
            "Personas en el sistema      2     Tiempo de salida     64.447\n",
            "Personas en el sistema      1     Tiempo de salida     64.459\n",
            "Personas en el sistema      2     Tiempo de llegada     64.611\n",
            "Personas en el sistema      1     Tiempo de salida     64.797\n",
            "Personas en el sistema      2     Tiempo de llegada     67.347\n",
            "Personas en el sistema      3     Tiempo de llegada     68.135\n",
            "Personas en el sistema      4     Tiempo de llegada     68.464\n",
            "Personas en el sistema      3     Tiempo de salida     69.342\n",
            "Personas en el sistema      2     Tiempo de salida     69.532\n",
            "Personas en el sistema      3     Tiempo de llegada     69.580\n",
            "Personas en el sistema      2     Tiempo de salida     70.554\n",
            "Personas en el sistema      1     Tiempo de salida     71.214\n",
            "Personas en el sistema      0     Tiempo de salida     71.621\n",
            "Personas en el sistema      1     Tiempo de llegada     77.892\n",
            "Personas en el sistema      0     Tiempo de salida     78.719\n",
            "Personas en el sistema      1     Tiempo de llegada     79.287\n",
            "Personas en el sistema      2     Tiempo de llegada     80.080\n",
            "Personas en el sistema      3     Tiempo de llegada     80.206\n",
            "Personas en el sistema      4     Tiempo de llegada     80.216\n",
            "Personas en el sistema      3     Tiempo de salida     80.250\n",
            "Personas en el sistema      4     Tiempo de llegada     82.511\n",
            "Personas en el sistema      3     Tiempo de salida     82.610\n",
            "Personas en el sistema      2     Tiempo de salida     82.816\n",
            "Personas en el sistema      3     Tiempo de llegada     83.577\n",
            "Personas en el sistema      2     Tiempo de salida     84.982\n",
            "Personas en el sistema      3     Tiempo de llegada     85.635\n",
            "Personas en el sistema      4     Tiempo de llegada     85.910\n",
            "Personas en el sistema      3     Tiempo de salida     87.857\n",
            "Personas en el sistema      4     Tiempo de llegada     89.132\n",
            "Personas en el sistema      3     Tiempo de salida     89.293\n",
            "Personas en el sistema      2     Tiempo de salida     90.376\n",
            "Personas en el sistema      1     Tiempo de salida     90.576\n",
            "Personas en el sistema      0     Tiempo de salida     91.712\n",
            "Personas en el sistema      1     Tiempo de llegada     91.720\n",
            "Personas en el sistema      0     Tiempo de salida     91.744\n",
            "Personas en el sistema      1     Tiempo de llegada     92.018\n",
            "Personas en el sistema      2     Tiempo de llegada     94.178\n",
            "Personas en el sistema      1     Tiempo de salida     94.676\n",
            "Personas en el sistema      2     Tiempo de llegada     96.193\n",
            "Personas en el sistema      1     Tiempo de salida     96.768\n",
            "Personas en el sistema      0     Tiempo de salida     96.924\n",
            "Personas en el sistema      1     Tiempo de llegada     97.303\n",
            "Personas en el sistema      0     Tiempo de salida     97.844\n",
            "Personas en el sistema      1     Tiempo de llegada     99.789\n"
          ]
        }
      ],
      "source": [
        "#Inicialización \n",
        "lamb = 2         #tiempo promedio de llegadas\n",
        "mu = 1           #tiempo de atención\n",
        "t = 0            #tiempo transcrurrido\n",
        "NA = 0           #numero de llegadas\n",
        "ND = 0           #numero de salidas\n",
        "tA = t + random.expovariate(1/lamb) #hora de la primer llegada\n",
        "tD = 1000000     #hora de salida\n",
        "T = 100          #Tiempo de simulación\n",
        "while min(tA,tD) < T: #Se usa el mínimo para no rebasar T = 100\n",
        "    if tA <= tD: #Simulación de llegada\n",
        "        t = tA\n",
        "        NA += 1\n",
        "        print(\"Personas en el sistema \",\"%5d\"%NA, \"    Tiempo de llegada\", \"%10.3f\"%t)\n",
        "        tA = t + random.expovariate(1/lamb)\n",
        "        if NA == 1: #Si llega un cliente se genera su tiempo de salida, a partir de dos clientes ya es tD > tA y es el else\n",
        "            tD = t + random.expovariate(1/mu)\n",
        "    else:\n",
        "        t = tD\n",
        "        NA = NA - 1\n",
        "        print(\"Personas en el sistema \", \"%5d\"%NA, \"    Tiempo de salida\", \"%10.3f\"%t)\n",
        "        if NA > 0:\n",
        "            tD = t + random.expovariate(1/mu) #Si hay mas clientes se genera el proximo tiempo de salida\n",
        "        else:\n",
        "            tD = 1000000 #Se vuelve a hacer un tiempo muy grande para que el proximo timepo sea de salida"
      ]
    }
  ],
  "metadata": {
    "colab": {
      "name": "Simulacion de un sistema de linea de espera.ipynb",
      "provenance": []
    },
    "kernelspec": {
      "display_name": "Python 3",
      "language": "python",
      "name": "python3"
    },
    "language_info": {
      "codemirror_mode": {
        "name": "ipython",
        "version": 3
      },
      "file_extension": ".py",
      "mimetype": "text/x-python",
      "name": "python",
      "nbconvert_exporter": "python",
      "pygments_lexer": "ipython3",
      "version": "3.9.6"
    }
  },
  "nbformat": 4,
  "nbformat_minor": 0
}
