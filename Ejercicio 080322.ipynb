{
  "cells": [
    {
      "cell_type": "markdown",
      "metadata": {
        "id": "QwQIBVTRAZGF"
      },
      "source": [
        "### Ejercicio (080322):\n",
        "\n",
        "1. Escribir el código para la subrutina que genera $T_s$."
      ]
    },
    {
      "cell_type": "code",
      "execution_count": 2,
      "metadata": {},
      "outputs": [],
      "source": [
        "import random\n",
        "import matplotlib.pyplot as plt\n",
        "\n",
        "#Función que genera el tiempo y numero de llegadas\n",
        "def Ts(ta,T):  #Parámetros ta: tiempo de arrivo, T: tiempo total de simulación\n",
        "    N = 0      #contador de llegadas\n",
        "    t = 0      #Hora de simulación  \n",
        "    num_arrivals = []\n",
        "    time = []\n",
        "    while t <= T:\n",
        "        N += 1 #Se aumenta el número de llegadas\n",
        "        t = t + random.expovariate(1/ta) #Generación del siguiente tiempo de llegada\n",
        "        num_arrivals.append(N)\n",
        "        time.append(t)\n",
        "    print('Tiempo de ingresos al sistema: ', time)\n",
        "    print('Arrivos totales: ', N)\n",
        "    plt.scatter(time,num_arrivals)\n",
        "    plt.step(time,num_arrivals)\n",
        "    plt.ylabel('Número de llegada')\n",
        "    plt.xlabel('Tiempo de ingreso')\n",
        "    plt.show()"
      ]
    },
    {
      "cell_type": "code",
      "execution_count": 25,
      "metadata": {},
      "outputs": [
        {
          "name": "stdout",
          "output_type": "stream",
          "text": [
            "Tiempo de ingresos al sistema:  [1.5765447374253827, 2.698585284637575, 4.207207863673993, 13.11538559162473, 17.291770198760005]\n",
            "Arrivos totales:  5\n"
          ]
        },
        {
          "data": {
            "image/png": "[encoded data removed]",
            "text/plain": [
              "<Figure size 432x288 with 1 Axes>"
            ]
          },
          "metadata": {
            "needs_background": "light"
          },
          "output_type": "display_data"
        }
      ],
      "source": [
        "Ts(2,15)"
      ]
    },
    {
      "cell_type": "markdown",
      "metadata": {
        "id": "w5sSyKRuAZGH"
      },
      "source": [
        "### Tarea: Codificar inicialización y casos (pp. 89-91)"
      ]
    },
    {
      "cell_type": "code",
      "execution_count": 7,
      "metadata": {
        "id": "R8VIZd0aAZGH"
      },
      "outputs": [
        {
          "name": "stdout",
          "output_type": "stream",
          "text": [
            "Personas en el sistema      1     Tiempo de llegada      3.563\n",
            "1\n",
            "Personas en el sistema      0     Tiempo de salida      4.046\n",
            "0.5\n",
            "Personas en el sistema      1     Tiempo de llegada      8.167\n",
            "0.6666666666666666\n",
            "Personas en el sistema      0     Tiempo de salida      8.298\n",
            "0.5\n",
            "Personas en el sistema      1     Tiempo de llegada      9.305\n",
            "0.6\n",
            "Personas en el sistema      0     Tiempo de salida      9.965\n",
            "0.5\n",
            "Personas en el sistema      1     Tiempo de llegada     11.904\n",
            "0.5714285714285714\n",
            "Personas en el sistema      0     Tiempo de salida     12.845\n",
            "0.5\n",
            "Personas en el sistema      1     Tiempo de llegada     14.448\n",
            "0.5555555555555556\n",
            "Personas en el sistema      0     Tiempo de salida     15.716\n",
            "0.5\n",
            "Personas en el sistema      1     Tiempo de llegada     16.825\n",
            "0.5454545454545454\n",
            "Personas en el sistema      0     Tiempo de salida     17.394\n",
            "0.5\n",
            "Personas en el sistema      1     Tiempo de llegada     17.520\n",
            "0.5384615384615384\n",
            "Personas en el sistema      0     Tiempo de salida     17.567\n",
            "0.5\n",
            "Personas en el sistema      1     Tiempo de llegada     19.026\n",
            "0.5333333333333333\n",
            "Personas en el sistema      0     Tiempo de salida     20.464\n",
            "0.5\n",
            "Personas en el sistema      1     Tiempo de llegada     24.099\n",
            "0.5294117647058824\n",
            "Personas en el sistema      0     Tiempo de salida     24.955\n",
            "0.5\n",
            "Personas en el sistema      1     Tiempo de llegada     33.059\n",
            "0.5263157894736842\n",
            "Personas en el sistema      0     Tiempo de salida     33.593\n",
            "0.5\n",
            "Personas en el sistema      1     Tiempo de llegada     34.254\n",
            "0.5238095238095238\n",
            "Personas en el sistema      2     Tiempo de llegada     34.676\n",
            "0.5909090909090909\n",
            "Personas en el sistema      1     Tiempo de salida     36.608\n",
            "0.6086956521739131\n",
            "Personas en el sistema      0     Tiempo de salida     36.974\n",
            "0.5833333333333334\n",
            "Personas en el sistema      1     Tiempo de llegada     38.076\n",
            "0.6\n",
            "Personas en el sistema      0     Tiempo de salida     39.320\n",
            "0.5769230769230769\n",
            "Personas en el sistema      1     Tiempo de llegada     43.007\n",
            "0.5925925925925926\n",
            "Personas en el sistema      0     Tiempo de salida     43.096\n",
            "0.5714285714285714\n",
            "Personas en el sistema      1     Tiempo de llegada     44.314\n",
            "0.5862068965517241\n",
            "Personas en el sistema      2     Tiempo de llegada     44.413\n",
            "0.6333333333333333\n",
            "Personas en el sistema      3     Tiempo de llegada     44.839\n",
            "0.7096774193548387\n",
            "Personas en el sistema      4     Tiempo de llegada     47.577\n",
            "0.8125\n",
            "Personas en el sistema      3     Tiempo de salida     47.875\n",
            "0.8787878787878788\n",
            "Personas en el sistema      4     Tiempo de llegada     48.797\n",
            "0.9705882352941176\n",
            "Personas en el sistema      3     Tiempo de salida     48.908\n",
            "1.0285714285714285\n",
            "Personas en el sistema      2     Tiempo de salida     49.179\n",
            "1.0555555555555556\n",
            "Personas en el sistema      1     Tiempo de salida     50.817\n",
            "1.054054054054054\n",
            "Personas en el sistema      0     Tiempo de salida     51.005\n",
            "1.0263157894736843\n",
            "Personas en el sistema      1     Tiempo de llegada     52.410\n",
            "1.0256410256410255\n",
            "Personas en el sistema      2     Tiempo de llegada     53.678\n",
            "1.05\n",
            "Personas en el sistema      1     Tiempo de salida     54.518\n",
            "1.048780487804878\n",
            "Personas en el sistema      0     Tiempo de salida     54.821\n",
            "1.0238095238095237\n",
            "Personas en el sistema      1     Tiempo de llegada     55.031\n",
            "1.0232558139534884\n",
            "Personas en el sistema      0     Tiempo de salida     55.176\n",
            "1\n",
            "Personas en el sistema      1     Tiempo de llegada     58.585\n",
            "1\n",
            "Personas en el sistema      2     Tiempo de llegada     59.427\n",
            "1.0217391304347827\n",
            "Personas en el sistema      1     Tiempo de salida     59.825\n",
            "1.0212765957446808\n",
            "Personas en el sistema      0     Tiempo de salida     59.853\n",
            "1\n",
            "Personas en el sistema      1     Tiempo de llegada     61.498\n",
            "1\n",
            "Personas en el sistema      0     Tiempo de salida     61.875\n",
            "0.98\n",
            "Personas en el sistema      1     Tiempo de llegada     66.156\n",
            "0.9803921568627451\n",
            "Personas en el sistema      0     Tiempo de salida     66.317\n",
            "0.9615384615384616\n",
            "Personas en el sistema      1     Tiempo de llegada     69.717\n",
            "0.9622641509433962\n",
            "Personas en el sistema      0     Tiempo de salida     69.789\n",
            "0.9444444444444444\n",
            "Personas en el sistema      1     Tiempo de llegada     70.017\n",
            "0.9454545454545454\n",
            "Personas en el sistema      2     Tiempo de llegada     70.246\n",
            "0.9642857142857143\n",
            "Personas en el sistema      1     Tiempo de salida     70.877\n",
            "0.9649122807017544\n",
            "Personas en el sistema      0     Tiempo de salida     71.101\n",
            "0.9482758620689655\n",
            "Personas en el sistema      1     Tiempo de llegada     75.327\n",
            "0.9491525423728814\n",
            "Personas en el sistema      2     Tiempo de llegada     76.558\n",
            "0.9666666666666667\n",
            "Personas en el sistema      1     Tiempo de salida     76.593\n",
            "0.9672131147540983\n",
            "Personas en el sistema      2     Tiempo de llegada     76.669\n",
            "0.9838709677419355\n",
            "Personas en el sistema      3     Tiempo de llegada     77.563\n",
            "1.0158730158730158\n",
            "Personas en el sistema      2     Tiempo de salida     80.072\n",
            "1.03125\n",
            "Personas en el sistema      1     Tiempo de salida     81.584\n",
            "1.0307692307692307\n",
            "Personas en el sistema      2     Tiempo de llegada     81.689\n",
            "1.0454545454545454\n",
            "Personas en el sistema      1     Tiempo de salida     81.743\n",
            "1.044776119402985\n",
            "Personas en el sistema      2     Tiempo de llegada     81.945\n",
            "1.0588235294117647\n",
            "Personas en el sistema      1     Tiempo de salida     83.077\n",
            "1.0579710144927537\n",
            "Personas en el sistema      0     Tiempo de salida     84.331\n",
            "1.042857142857143\n",
            "Personas en el sistema      1     Tiempo de llegada     85.667\n",
            "1.0422535211267605\n",
            "Personas en el sistema      0     Tiempo de salida     86.076\n",
            "1.0277777777777777\n",
            "Personas en el sistema      1     Tiempo de llegada     87.933\n",
            "1.0273972602739727\n",
            "Personas en el sistema      0     Tiempo de salida     89.239\n",
            "1.0135135135135136\n",
            "Personas en el sistema      1     Tiempo de llegada     91.927\n",
            "1.0133333333333334\n",
            "Personas en el sistema      0     Tiempo de salida     92.317\n",
            "1\n",
            "Personas en el sistema      1     Tiempo de llegada     92.337\n",
            "1\n",
            "Personas en el sistema      0     Tiempo de salida     92.434\n",
            "0.9871794871794872\n",
            "Personas en el sistema      1     Tiempo de llegada     92.589\n",
            "0.9873417721518988\n",
            "Personas en el sistema      0     Tiempo de salida     93.265\n",
            "0.975\n",
            "Personas en el sistema      1     Tiempo de llegada     95.162\n",
            "0.9753086419753086\n",
            "Personas en el sistema      0     Tiempo de salida     95.385\n",
            "0.9634146341463414\n",
            "Personas en el sistema      1     Tiempo de llegada     95.943\n",
            "0.963855421686747\n",
            "Personas en el sistema      0     Tiempo de salida     95.999\n",
            "0.9523809523809523\n"
          ]
        },
        {
          "data": {
            "image/png": "[encoded data removed]",
            "text/plain": [
              "<Figure size 1440x576 with 1 Axes>"
            ]
          },
          "metadata": {
            "needs_background": "light"
          },
          "output_type": "display_data"
        }
      ],
      "source": [
        "#Inicialización \n",
        "lamb = 2         #tiempo promedio de llegadas\n",
        "mu = 1           #tiempo de atención\n",
        "t = 0            #tiempo transcrurrido\n",
        "NA = 0           #numero de llegadas\n",
        "ND = 0           #numero de salidas\n",
        "tA = t + random.expovariate(1/lamb) #hora de la primer llegada\n",
        "tD = 1000000     #hora de salida\n",
        "T = 100          #Tiempo de simulación\n",
        "x = []           #Tiempos de ingreso y salida\n",
        "y = []           #Personas en el sistema\n",
        "while min(tA,tD) < T: #Se usa el mínimo para no rebasar T = 100\n",
        "    if tA <= tD: #Simulación de llegada\n",
        "        t = tA\n",
        "        NA += 1\n",
        "        x.append(t)\n",
        "        y.append(NA)\n",
        "        print(\"Personas en el sistema \",\"%5d\"%NA, \"    Tiempo de llegada\", \"%10.3f\"%t)\n",
        "        tA = t + random.expovariate(1/lamb)\n",
        "        if NA == 1: #Si llega un cliente se genera su tiempo de salida, a partir de dos clientes ya es tD > tA y es el else\n",
        "            tD = t + random.expovariate(1/mu)\n",
        "    else:\n",
        "        t = tD\n",
        "        NA = NA - 1\n",
        "        x.append(t)\n",
        "        y.append(NA)\n",
        "        print(\"Personas en el sistema \", \"%5d\"%NA, \"    Tiempo de salida\", \"%10.3f\"%t)\n",
        "        if NA > 0:\n",
        "            tD = t + random.expovariate(1/mu) #Si hay mas clientes se genera el proximo tiempo de salida\n",
        "        else:\n",
        "            tD = 1000000 #Se vuelve a hacer un tiempo muy grande para que el proximo timepo sea de salida\n",
        "plt.figure(1, figsize=(20, 8))\n",
        "plt.step(x,y,color = 'Black')\n",
        "plt.show()"
      ]
    }
  ],
  "metadata": {
    "colab": {
      "name": "Simulacion de un sistema de linea de espera.ipynb",
      "provenance": []
    },
    "kernelspec": {
      "display_name": "Python 3",
      "language": "python",
      "name": "python3"
    },
    "language_info": {
      "codemirror_mode": {
        "name": "ipython",
        "version": 3
      },
      "file_extension": ".py",
      "mimetype": "text/x-python",
      "name": "python",
      "nbconvert_exporter": "python",
      "pygments_lexer": "ipython3",
      "version": "3.9.6"
    }
  },
  "nbformat": 4,
  "nbformat_minor": 0
}
