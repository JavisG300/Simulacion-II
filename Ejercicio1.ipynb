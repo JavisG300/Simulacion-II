{
  "cells": [
    {
      "cell_type": "code",
      "execution_count": null,
      "metadata": {},
      "outputs": [],
      "source": [
        "#importamos el módulo que vamos a usar \n",
        "import random   "
      ]
    },
    {
      "cell_type": "markdown",
      "metadata": {
        "id": "UWWaVdC8PnDz"
      },
      "source": [
        "## Ejercicio 1: \n",
        "    a)Usar la función random() para simular 1 volado.\n",
        "    b)Usar la función random() para simular 1000 volados.\n",
        "    c)Determinar de b) la probabilidad de que ocurra \"sol\" en un volado. "
      ]
    },
    {
      "cell_type": "code",
      "execution_count": 7,
      "metadata": {},
      "outputs": [],
      "source": [
        "#Función volado\n",
        "def volado():\n",
        "    x=random.random() #podemos usar la librería que se importó antes en el documento\n",
        "    if x <= 0.5:\n",
        "        moneda = \"aguila\"\n",
        "    else:\n",
        "        moneda = \"sol\"\n",
        "    return moneda"
      ]
    },
    {
      "cell_type": "code",
      "execution_count": 8,
      "metadata": {},
      "outputs": [
        {
          "name": "stdout",
          "output_type": "stream",
          "text": [
            "aguila\n"
          ]
        }
      ],
      "source": [
        "print(volado())"
      ]
    },
    {
      "cell_type": "code",
      "execution_count": 9,
      "metadata": {},
      "outputs": [
        {
          "name": "stdout",
          "output_type": "stream",
          "text": [
            "['sol', 'sol', 'aguila', 'aguila', 'aguila', 'aguila', 'aguila', 'aguila', 'aguila', 'aguila', 'aguila', 'aguila', 'aguila', 'aguila', 'aguila', 'sol', 'sol', 'sol', 'aguila', 'sol', 'sol', 'aguila', 'aguila', 'sol', 'sol', 'sol', 'aguila', 'sol', 'sol', 'aguila', 'sol', 'sol', 'sol', 'sol', 'sol', 'aguila', 'aguila', 'sol', 'aguila', 'aguila', 'sol', 'sol', 'sol', 'aguila', 'aguila', 'sol', 'sol', 'sol', 'aguila', 'aguila', 'aguila', 'aguila', 'sol', 'sol', 'sol', 'aguila', 'aguila', 'sol', 'sol', 'sol', 'sol', 'sol', 'aguila', 'sol', 'sol', 'sol', 'aguila', 'aguila', 'sol', 'sol', 'aguila', 'sol', 'sol', 'sol', 'sol', 'sol', 'sol', 'sol', 'aguila', 'aguila', 'sol', 'sol', 'aguila', 'sol', 'aguila', 'aguila', 'aguila', 'sol', 'sol', 'sol', 'aguila', 'aguila', 'aguila', 'aguila', 'sol', 'sol', 'sol', 'sol', 'sol', 'aguila', 'sol', 'sol', 'aguila', 'aguila', 'aguila', 'sol', 'aguila', 'aguila', 'sol', 'aguila', 'aguila', 'aguila', 'sol', 'aguila', 'aguila', 'sol', 'aguila', 'aguila', 'aguila', 'aguila', 'aguila', 'aguila', 'aguila', 'aguila', 'sol', 'sol', 'aguila', 'sol', 'sol', 'aguila', 'aguila', 'aguila', 'sol', 'aguila', 'sol', 'sol', 'sol', 'aguila', 'sol', 'sol', 'sol', 'aguila', 'sol', 'aguila', 'sol', 'aguila', 'sol', 'aguila', 'aguila', 'sol', 'sol', 'aguila', 'sol', 'aguila', 'sol', 'sol', 'aguila', 'aguila', 'aguila', 'sol', 'aguila', 'sol', 'sol', 'sol', 'aguila', 'sol', 'sol', 'sol', 'sol', 'aguila', 'aguila', 'aguila', 'sol', 'aguila', 'aguila', 'aguila', 'sol', 'aguila', 'aguila', 'aguila', 'sol', 'sol', 'aguila', 'aguila', 'aguila', 'sol', 'sol', 'aguila', 'aguila', 'sol', 'sol', 'sol', 'aguila', 'sol', 'sol', 'aguila', 'sol', 'aguila', 'sol', 'aguila', 'aguila', 'sol', 'aguila', 'sol', 'sol', 'sol', 'aguila', 'aguila', 'aguila', 'sol', 'sol', 'sol', 'sol', 'aguila', 'sol', 'aguila', 'aguila', 'aguila', 'sol', 'sol', 'sol', 'aguila', 'sol', 'sol', 'aguila', 'sol', 'aguila', 'aguila', 'aguila', 'sol', 'sol', 'sol', 'aguila', 'aguila', 'sol', 'sol', 'aguila', 'sol', 'aguila', 'aguila', 'sol', 'aguila', 'aguila', 'sol', 'aguila', 'aguila', 'aguila', 'aguila', 'sol', 'aguila', 'sol', 'aguila', 'sol', 'sol', 'aguila', 'aguila', 'aguila', 'aguila', 'sol', 'aguila', 'aguila', 'sol', 'aguila', 'sol', 'aguila', 'aguila', 'aguila', 'sol', 'sol', 'sol', 'aguila', 'aguila', 'sol', 'sol', 'sol', 'sol', 'sol', 'aguila', 'sol', 'aguila', 'aguila', 'aguila', 'aguila', 'sol', 'aguila', 'sol', 'sol', 'sol', 'aguila', 'aguila', 'aguila', 'aguila', 'sol', 'sol', 'aguila', 'aguila', 'sol', 'sol', 'sol', 'aguila', 'aguila', 'aguila', 'aguila', 'sol', 'aguila', 'aguila', 'sol', 'aguila', 'sol', 'aguila', 'sol', 'aguila', 'sol', 'sol', 'aguila', 'sol', 'aguila', 'sol', 'sol', 'sol', 'aguila', 'aguila', 'sol', 'sol', 'aguila', 'sol', 'aguila', 'sol', 'aguila', 'aguila', 'sol', 'sol', 'sol', 'sol', 'sol', 'sol', 'aguila', 'aguila', 'aguila', 'sol', 'sol', 'aguila', 'aguila', 'sol', 'sol', 'sol', 'sol', 'sol', 'aguila', 'aguila', 'aguila', 'aguila', 'aguila', 'sol', 'aguila', 'sol', 'aguila', 'aguila', 'aguila', 'aguila', 'aguila', 'sol', 'aguila', 'aguila', 'sol', 'aguila', 'aguila', 'sol', 'sol', 'sol', 'aguila', 'sol', 'sol', 'aguila', 'aguila', 'aguila', 'aguila', 'aguila', 'sol', 'sol', 'sol', 'aguila', 'sol', 'aguila', 'aguila', 'sol', 'sol', 'aguila', 'sol', 'sol', 'aguila', 'sol', 'sol', 'aguila', 'sol', 'sol', 'sol', 'sol', 'sol', 'sol', 'sol', 'aguila', 'aguila', 'aguila', 'sol', 'sol', 'aguila', 'sol', 'sol', 'aguila', 'sol', 'aguila', 'sol', 'aguila', 'sol', 'sol', 'sol', 'aguila', 'sol', 'sol', 'aguila', 'sol', 'sol', 'sol', 'sol', 'aguila', 'sol', 'sol', 'aguila', 'sol', 'aguila', 'aguila', 'aguila', 'aguila', 'sol', 'sol', 'aguila', 'sol', 'aguila', 'aguila', 'aguila', 'aguila', 'sol', 'aguila', 'aguila', 'aguila', 'aguila', 'sol', 'sol', 'sol', 'aguila', 'aguila', 'sol', 'aguila', 'sol', 'aguila', 'sol', 'sol', 'sol', 'sol', 'sol', 'aguila', 'sol', 'sol', 'sol', 'aguila', 'aguila', 'aguila', 'sol', 'aguila', 'sol', 'sol', 'sol', 'sol', 'sol', 'aguila', 'sol', 'sol', 'aguila', 'sol', 'aguila', 'sol', 'aguila', 'aguila', 'aguila', 'aguila', 'aguila', 'sol', 'sol', 'aguila', 'sol', 'aguila', 'aguila', 'aguila', 'aguila', 'sol', 'sol', 'sol', 'sol', 'sol', 'aguila', 'sol', 'aguila', 'sol', 'sol', 'aguila', 'aguila', 'sol', 'sol', 'aguila', 'aguila', 'aguila', 'aguila', 'aguila', 'sol', 'sol', 'sol', 'sol', 'sol', 'aguila', 'sol', 'sol', 'sol', 'sol', 'aguila', 'sol', 'sol', 'sol', 'sol', 'sol', 'sol', 'sol', 'sol', 'aguila', 'aguila', 'sol', 'sol', 'sol', 'aguila', 'sol', 'aguila', 'aguila', 'aguila', 'sol', 'sol', 'aguila', 'aguila', 'sol', 'aguila', 'sol', 'sol', 'sol', 'aguila', 'sol', 'sol', 'aguila', 'aguila', 'sol', 'aguila', 'aguila', 'sol', 'sol', 'aguila', 'sol', 'sol', 'aguila', 'sol', 'sol', 'sol', 'aguila', 'sol', 'aguila', 'sol', 'aguila', 'sol', 'sol', 'aguila', 'aguila', 'sol', 'sol', 'sol', 'aguila', 'sol', 'sol', 'aguila', 'aguila', 'sol', 'sol', 'aguila', 'sol', 'aguila', 'sol', 'aguila', 'sol', 'sol', 'sol', 'aguila', 'sol', 'aguila', 'aguila', 'sol', 'aguila', 'sol', 'aguila', 'sol', 'sol', 'aguila', 'aguila', 'aguila', 'aguila', 'aguila', 'aguila', 'aguila', 'sol', 'sol', 'aguila', 'aguila', 'sol', 'sol', 'sol', 'sol', 'aguila', 'sol', 'aguila', 'sol', 'aguila', 'aguila', 'aguila', 'aguila', 'aguila', 'aguila', 'sol', 'aguila', 'sol', 'aguila', 'sol', 'aguila', 'sol', 'sol', 'sol', 'aguila', 'sol', 'sol', 'aguila', 'aguila', 'sol', 'sol', 'aguila', 'sol', 'sol', 'aguila', 'sol', 'aguila', 'aguila', 'sol', 'aguila', 'aguila', 'aguila', 'aguila', 'sol', 'sol', 'aguila', 'aguila', 'sol', 'aguila', 'aguila', 'aguila', 'aguila', 'aguila', 'sol', 'sol', 'sol', 'sol', 'sol', 'aguila', 'sol', 'sol', 'sol', 'aguila', 'aguila', 'sol', 'sol', 'aguila', 'sol', 'sol', 'sol', 'aguila', 'aguila', 'aguila', 'aguila', 'sol', 'aguila', 'sol', 'sol', 'sol', 'sol', 'sol', 'aguila', 'sol', 'aguila', 'sol', 'sol', 'sol', 'aguila', 'aguila', 'sol', 'aguila', 'aguila', 'sol', 'aguila', 'sol', 'aguila', 'aguila', 'aguila', 'sol', 'sol', 'aguila', 'sol', 'aguila', 'sol', 'aguila', 'aguila', 'aguila', 'sol', 'aguila', 'aguila', 'sol', 'sol', 'sol', 'aguila', 'aguila', 'aguila', 'sol', 'aguila', 'aguila', 'sol', 'sol', 'sol', 'aguila', 'sol', 'aguila', 'sol', 'sol', 'sol', 'sol', 'sol', 'sol', 'sol', 'aguila', 'aguila', 'aguila', 'sol', 'aguila', 'aguila', 'sol', 'aguila', 'sol', 'sol', 'aguila', 'aguila', 'aguila', 'aguila', 'sol', 'sol', 'sol', 'aguila', 'sol', 'aguila', 'aguila', 'aguila', 'sol', 'aguila', 'sol', 'sol', 'sol', 'sol', 'sol', 'sol', 'sol', 'aguila', 'sol', 'sol', 'sol', 'sol', 'sol', 'sol', 'aguila', 'sol', 'sol', 'aguila', 'aguila', 'sol', 'sol', 'aguila', 'aguila', 'sol', 'sol', 'sol', 'aguila', 'aguila', 'sol', 'aguila', 'aguila', 'sol', 'aguila', 'aguila', 'aguila', 'sol', 'sol', 'aguila', 'aguila', 'sol', 'sol', 'aguila', 'sol', 'aguila', 'aguila', 'sol', 'sol', 'aguila', 'sol', 'sol', 'sol', 'sol', 'aguila', 'sol', 'sol', 'sol', 'sol', 'sol', 'sol', 'sol', 'aguila', 'aguila', 'sol', 'sol', 'sol', 'aguila', 'aguila', 'sol', 'sol', 'sol', 'aguila', 'sol', 'aguila', 'aguila', 'aguila', 'sol', 'aguila', 'aguila', 'aguila', 'sol', 'sol', 'sol', 'sol', 'sol', 'sol', 'sol', 'sol', 'sol', 'sol', 'aguila', 'sol', 'aguila', 'aguila', 'sol', 'sol', 'sol', 'sol', 'aguila', 'sol', 'sol', 'sol', 'sol', 'aguila', 'aguila', 'sol', 'sol', 'sol', 'sol', 'sol', 'sol', 'aguila', 'aguila', 'sol', 'aguila', 'sol', 'aguila', 'aguila', 'aguila', 'aguila', 'aguila', 'aguila', 'aguila', 'aguila', 'aguila', 'sol', 'sol', 'aguila', 'sol', 'aguila', 'sol', 'sol', 'sol', 'aguila', 'sol', 'aguila', 'sol', 'aguila', 'sol', 'sol', 'aguila', 'aguila', 'sol', 'aguila', 'aguila', 'aguila', 'aguila', 'sol', 'aguila', 'sol', 'sol', 'aguila', 'sol', 'sol', 'sol', 'sol', 'aguila', 'sol', 'sol', 'aguila', 'sol', 'aguila', 'sol', 'aguila', 'aguila', 'aguila', 'aguila', 'sol', 'sol', 'sol', 'sol', 'aguila', 'aguila', 'sol', 'aguila', 'sol', 'sol', 'aguila', 'sol', 'aguila', 'aguila', 'sol', 'aguila', 'sol', 'aguila', 'sol', 'sol', 'aguila', 'aguila', 'sol', 'sol', 'aguila', 'sol', 'aguila', 'aguila', 'aguila', 'sol', 'sol', 'sol', 'sol', 'aguila', 'sol', 'aguila', 'sol', 'sol', 'aguila', 'aguila', 'sol', 'aguila', 'aguila', 'aguila', 'sol', 'sol', 'sol', 'sol', 'sol', 'aguila', 'aguila', 'aguila', 'sol', 'aguila', 'aguila', 'aguila', 'aguila', 'aguila', 'sol', 'aguila', 'sol', 'sol']\n",
            "probabilidad de obtener sol 0.527\n",
            "numero de volados 1000\n"
          ]
        }
      ],
      "source": [
        "#Simulación de 1000 volados y probabilidad de salir sol\n",
        "from statistics import mean\n",
        "nr=1000\n",
        "l=[]\n",
        "lp=[]\n",
        "ca=0\n",
        "cs=0\n",
        "for i in range(nr):\n",
        "    l.append(volado())\n",
        "for i in l:\n",
        "    if i == \"aguila\":\n",
        "       ca=ca+1\n",
        "    else:\n",
        "        cs=cs+1\n",
        "probabilidad_sol= cs/(ca+cs)\n",
        "lp.append(probabilidad_sol)\n",
        "medproba = mean(lp)\n",
        "print(l)\n",
        "print(\"probabilidad de obtener sol\", medproba)\n",
        "print(\"numero de volados\", len(l))"
      ]
    }
  ],
  "metadata": {
    "colab": {
      "name": "Uso de los números aleatorios.ipynb",
      "provenance": []
    },
    "kernelspec": {
      "display_name": "Python 3",
      "language": "python",
      "name": "python3"
    },
    "language_info": {
      "codemirror_mode": {
        "name": "ipython",
        "version": 3
      },
      "file_extension": ".py",
      "mimetype": "text/x-python",
      "name": "python",
      "nbconvert_exporter": "python",
      "pygments_lexer": "ipython3",
      "version": "3.9.6"
    }
  },
  "nbformat": 4,
  "nbformat_minor": 0
}
