{
  "cells": [
    {
      "cell_type": "markdown",
      "metadata": {
        "id": "pPKGOcxVbi6j"
      },
      "source": [
        "#### Ejercicio: Simulación manual. (100322)\n",
        "\n",
        "1. Completar la tabla."
      ]
    },
    {
      "cell_type": "markdown",
      "metadata": {
        "id": "_5aSrT1mbi6k"
      },
      "source": [
        "| Pkt No. |Tpll  |tps  |Tiempo de arribo|Inicio de servicio|Hora de salida|Tiempo en fila |Tiempo en el sistema  |Tamaño de la cola después de t|Clientes en el sistema después de t|\n",
        "|---------|-----|----|--------------|-------------------|----------------|---------------|-----------------|---------------|-----------------| \n",
        "|    1    |  2  | 12 |       2      |         2         |      14        |      0        |       12        |      0        |       1         |\n",
        "|    2    |  5  | 10 |       7      |         14        |      24        |      7        |       17        |      1        |        2        | \n",
        "|    3    |  1  | 16 |       8      |         24        |      40        |      16       |       32        |      2        |       3         |\n",
        "|    4    |  4  | 9  |       12     |         40        |      49        |      28       |       37        |      3        |       4         |\n",
        "|    5    |  1  | 10 |       13     |         49        |      59        |      36       |       46        |      4        |       5         |\n",
        "|    6    |  3  | 13 |       16     |         59        |      72        |      43       |       56        |      4        |       5         |\n",
        "|    7    |  3  | 17 |       19     |         72        |      89        |      53       |       70        |      5        |       6         |\n",
        "|    8    |  2  | 10 |       21     |         89        |      99        |      68       |       78        |      6        |       7         |\n",
        "|    9    |  4  | 8  |       25     |         99        |      107       |      74       |       82        |      6        |       7        |\n",
        "|   10    |  5  | 12 |       30     |         107       |      119       |      77       |       89        |      7        |       8        |"
      ]
    },
    {
      "cell_type": "markdown",
      "metadata": {
        "id": "kMJUmZGGbi6k"
      },
      "source": [
        "#### Ejercicio: Continuación ... (170322)\n",
        "\n",
        "1. Agregar dos columnas a la tabla anterior: Tamaño de la cola despues de $t$ Clientes en el sistema después de $t$.\n",
        "2. Con la información de la tabla completa, determinar: $\\lambda$, $\\mu$, $L$ y $L_q$."
      ]
    },
    {
      "cell_type": "markdown",
      "metadata": {},
      "source": [
        "# Inciso 1"
      ]
    },
    {
      "cell_type": "markdown",
      "metadata": {},
      "source": [
        "Calculando lambda:\n",
        "\n",
        "$\\lambda = $ número de llegadas por unidad de tiempo\n",
        "\n",
        "El tiempo transcurrido desde que llegó el primero hasta que llegó el último fueron 30 unidades de tiempo, y fueron 10 llegadas por lo tanto:\n",
        "\n",
        "$\\lambda = \\frac{10}{30}$"
      ]
    },
    {
      "cell_type": "code",
      "execution_count": 5,
      "metadata": {},
      "outputs": [
        {
          "name": "stdout",
          "output_type": "stream",
          "text": [
            "0.3333333333333333\n"
          ]
        }
      ],
      "source": [
        "lamb = 10/30\n",
        "print(lamb)"
      ]
    },
    {
      "cell_type": "markdown",
      "metadata": {},
      "source": [
        "$\\mu$: Número de servicios por unidad de tiempo si el servidor está ocupado.\n",
        "\n",
        "El tiempo en el que el servidor estuvo ocupado fueron $119-2 = 117$ unidades de tiempo\n",
        "\n",
        "$\\mu = \\frac{10}{117}$"
      ]
    },
    {
      "cell_type": "code",
      "execution_count": 6,
      "metadata": {},
      "outputs": [
        {
          "name": "stdout",
          "output_type": "stream",
          "text": [
            "0.08547008547008547\n"
          ]
        }
      ],
      "source": [
        "mu = 10/117\n",
        "print(mu)"
      ]
    },
    {
      "cell_type": "markdown",
      "metadata": {},
      "source": [
        "# Inciso 2"
      ]
    },
    {
      "cell_type": "markdown",
      "metadata": {},
      "source": [
        "Para calcular **L:** Número medio de clientes en el sistema, usamos la columna que lleva ese nombre en la tabla para obtener un promedio:\n"
      ]
    },
    {
      "cell_type": "code",
      "execution_count": 7,
      "metadata": {},
      "outputs": [
        {
          "name": "stdout",
          "output_type": "stream",
          "text": [
            "4.8\n"
          ]
        }
      ],
      "source": [
        "from statistics import mean \n",
        "l = [1,2,3,4,5,5,6,7,7,8]\n",
        "print(mean(l))"
      ]
    },
    {
      "cell_type": "markdown",
      "metadata": {},
      "source": [
        "Para calcular **$L_q$** : Número medio de clientes en la cola. Usamos la columna de la tabla \"Tamaño de la cola al tiempo t\" y obtenemos la media:"
      ]
    },
    {
      "cell_type": "code",
      "execution_count": 8,
      "metadata": {},
      "outputs": [
        {
          "name": "stdout",
          "output_type": "stream",
          "text": [
            "3.8\n"
          ]
        }
      ],
      "source": [
        "lq = [0,1,2,3,4,4,5,6,6,7]\n",
        "print(mean(lq))"
      ]
    },
    {
      "cell_type": "markdown",
      "metadata": {},
      "source": [
        "#### Conclusión\n",
        "Los resultados suenan lógicos pues al haber $4.8\\approx 5$ clientes en el sistema , en la cola habrá $3.8\\approx 4$ es decir uno menos pues es el que se está atendiendo. "
      ]
    },
    {
      "cell_type": "markdown",
      "metadata": {},
      "source": [
        "### Tarea"
      ]
    },
    {
      "cell_type": "markdown",
      "metadata": {},
      "source": [
        "|  Cliente i:                       |  1 | 2 | 3 |4 |5 |6 |7 |8 |9 |10 | 11 | 12 |\n",
        "|-----------------------------------|----|---|---|--|--|--|--|--|--|---|----|----|\n",
        "|Tiempo de llegada entre i + 1 e i: |2   | 1 | 3 |1 |1 | 4|2 |5 |1 | 2 | 2  |    |\n",
        "|Tiempo de servicio al cliente:     | 1  | 3 | 6 |2 |1 | 1|4 | 2|5 |1  | 1  | 3  |"
      ]
    },
    {
      "cell_type": "markdown",
      "metadata": {},
      "source": [
        "1. Contruir la tabla completa\n",
        "\n",
        "|N| t | Entrada/salida i| Ini serv i | Ter serv i |T en cola |T en sist | Tamaño de cola t |Clientes en el sistema hasta t|\n",
        "|--|---|-----------------|------------|------------|----------|----------|------------------|------------------------------|\n",
        "|1| 0 |     1-E         |     0      |     1      |   0      |    1     |      0           |              1               |\n",
        "|2| 2 |1-E / 1-S        |     2      |     5      |     0    |    3     |      0           |              1               |\n",
        "|3| 3 |     1-E         |     5      |     11      |      2   |    8     |      1           |              2               |\n",
        "|4| 6 |    1-E/1-S      |     11     |     13      |     5    |    7     |        1       |                2              |\n",
        "|5| 7 |     1-E         |     13     |    14      |     6    |    7     |        2         |              3              |\n",
        "|6| 8 |     1-E         |     14     |     15      |     6    |    7     |       3         |              4              |\n",
        "|7| 12|      1-E/1-S    |     15      |     19      |     3    |    7     |      2          |             3               |\n",
        "|8| 14|      1-S         |     19      |     21     |     5    |    7     |      1           |             2              |\n",
        "|9| 19|     1-E/1-S      |     21     |     26      |     2    |    7     |      1           |           2                |\n",
        "|10| 20|     1-E         |     26      |     27      |     6    |    7     |      2           |              3               |\n",
        "|11| 22 |     1-E/1-S    |     27      |    28      |     5    |   6     |      2           |              3               |\n",
        "|12| 24|     1-S         |     28      |     31      |    4    |    7     |      3           |              4               |"
      ]
    }
  ],
  "metadata": {
    "colab": {
      "name": "Simulacion de un sistema de linea de espera.ipynb",
      "provenance": []
    },
    "kernelspec": {
      "display_name": "Python 3",
      "language": "python",
      "name": "python3"
    },
    "language_info": {
      "codemirror_mode": {
        "name": "ipython",
        "version": 3
      },
      "file_extension": ".py",
      "mimetype": "text/x-python",
      "name": "python",
      "nbconvert_exporter": "python",
      "pygments_lexer": "ipython3",
      "version": "3.9.6"
    }
  },
  "nbformat": 4,
  "nbformat_minor": 0
}
