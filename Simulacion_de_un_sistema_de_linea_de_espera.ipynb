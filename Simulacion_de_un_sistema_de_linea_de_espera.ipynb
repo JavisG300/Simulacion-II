{
  "cells": [
    {
      "cell_type": "markdown",
      "metadata": {
        "id": "o0QmSlIgAZF_"
      },
      "source": [
        "### Vamos a tomar como guía el libro Simulación, segunda edición de Sheldon M. Ross  "
      ]
    },
    {
      "cell_type": "markdown",
      "metadata": {
        "id": "q9S2IJrLAZGC"
      },
      "source": [
        "Del Capítulo 6: Método de Simulación por eventos discretos"
      ]
    },
    {
      "cell_type": "markdown",
      "metadata": {
        "id": "oNPvytFGAZGD"
      },
      "source": [
        "#### Variables:\n",
        "\n",
        "1. Variable de tiempo $t$: tiempo (simulado) transcurrido.\n",
        "\n",
        "2. Variables de conteo: número de veces que ciertos eventos han ocurrido, hasta el instante $t$.\n",
        "    \n",
        "3. Variables de estado del sistema (ES): Describen el estado del sistema en el instante $t$."
      ]
    },
    {
      "cell_type": "markdown",
      "metadata": {
        "id": "TEV93px-AZGE"
      },
      "source": [
        "Subrutina para generar $T_s$, el tiempo de la primera llegada después del instante s."
      ]
    },
    {
      "cell_type": "markdown",
      "metadata": {
        "id": "7Dz0e34CAZGE"
      },
      "source": [
        "Paso 1: Sea $t = s$.\n",
        "\n",
        "Paso 2: Generar $U$.\n",
        "\n",
        "Paso 3: Sea $t = t - \\frac{1}{\\lambda} logU$.\n",
        "\n",
        "Paso 4: Generar $U$.\n",
        "\n",
        "Paso 5: Si $U \\leq \\frac{\\lambda(t)}{\\lambda}$, hacer $T_s = t$ y terminar.\n",
        "\n",
        "Paso 6: Ir al paso 2."
      ]
    },
    {
      "cell_type": "markdown",
      "metadata": {
        "id": "QwQIBVTRAZGF"
      },
      "source": [
        "### Ejercicio (080322):\n",
        "\n",
        "1. Escribir el código para la subrutina que genera $T_s$."
      ]
    },
    {
      "cell_type": "code",
      "execution_count": 3,
      "metadata": {},
      "outputs": [],
      "source": [
        "import random\n",
        "import numpy as np\n",
        "\n",
        "def Ts(n):       #n es el tiempo de simulación\n",
        "    t = 0        #contador del tiempo de llegada\n",
        "    lamb = 1     # tiempo promedio de llegada\n",
        "    Ts = []      #Lista para guardar los tiempos\n",
        "    N = 0        #contador de llegadas\n",
        "    for i in range(n):\n",
        "        u = random.random()\n",
        "        lambt = random.expovariate(lamb)\n",
        "        if u <= lambt/lamb:\n",
        "            t = t + random.expovariate(1/lamb)\n",
        "            N += 1\n",
        "            Ts.append(t)\n",
        "    return Ts,N   #La función regresa los tiempos de llegadas y el numero de llegadas"
      ]
    },
    {
      "cell_type": "code",
      "execution_count": 4,
      "metadata": {},
      "outputs": [
        {
          "name": "stdout",
          "output_type": "stream",
          "text": [
            "([2.367787696952046, 2.50886564083927, 2.917884147578862, 3.244411328440061, 3.7341181880325407], 5)\n"
          ]
        }
      ],
      "source": [
        "print(Ts(10))"
      ]
    },
    {
      "cell_type": "markdown",
      "metadata": {
        "id": "zd9u6lCyAZGF"
      },
      "source": [
        "### Línea de espera con un servidor."
      ]
    },
    {
      "cell_type": "markdown",
      "metadata": {
        "id": "iuLVDxjyAZGF"
      },
      "source": [
        "Se requieren las siguientes variables:\n",
        "\n",
        "1. Variable de tiempo: $t$.\n",
        "\n",
        "2. Variables de conteo: \n",
        "\n",
        "$N_A$: tiempo de llegadas hasta $t$.\n",
        "                        \n",
        "$N_D$: número de salidas hasta $t$.\n",
        "\n",
        "3. Variables de estado del sistema:  $n$: número de clientes en el sistema en el instante $t$.\n",
        "\n",
        "Lista de eventos: $t_A, t_D$, llegadas y salidas."
      ]
    },
    {
      "cell_type": "markdown",
      "metadata": {
        "id": "pYhcqXR9AZGG"
      },
      "source": [
        "### Inicialización:"
      ]
    },
    {
      "cell_type": "markdown",
      "metadata": {
        "id": "l-MxCRjyAZGH"
      },
      "source": [
        "Sea $t = N_A = N_D = 0$.\n",
        "\n",
        "Sea ES = 0.\n",
        "\n",
        "Generar $T_0$ y hacer $t_A = T_0, t_D = \\infty$"
      ]
    },
    {
      "cell_type": "markdown",
      "metadata": {
        "id": "w5sSyKRuAZGH"
      },
      "source": [
        "### Tarea: Codificar inicialización y casos (pp. 89-91)"
      ]
    },
    {
      "cell_type": "code",
      "execution_count": 28,
      "metadata": {
        "id": "R8VIZd0aAZGH"
      },
      "outputs": [
        {
          "name": "stdout",
          "output_type": "stream",
          "text": [
            " Personas en el sistema      1 Tiempo de llegada      0.260\n",
            "Personas en el sistema      0 Tiempo de salida      1.622\n",
            " Personas en el sistema      1 Tiempo de llegada      3.515\n",
            "Personas en el sistema      0 Tiempo de salida      4.127\n",
            " Personas en el sistema      1 Tiempo de llegada      5.936\n",
            "Personas en el sistema      0 Tiempo de salida      5.969\n",
            " Personas en el sistema      1 Tiempo de llegada      6.713\n",
            "Personas en el sistema      0 Tiempo de salida      6.789\n",
            " Personas en el sistema      1 Tiempo de llegada      9.359\n",
            "Personas en el sistema      0 Tiempo de salida      9.621\n",
            " Personas en el sistema      1 Tiempo de llegada     10.187\n",
            " Personas en el sistema      2 Tiempo de llegada     11.987\n",
            "Personas en el sistema      1 Tiempo de salida     12.418\n",
            " Personas en el sistema      2 Tiempo de llegada     13.025\n",
            "Personas en el sistema      1 Tiempo de salida     14.128\n",
            "Personas en el sistema      0 Tiempo de salida     14.684\n",
            " Personas en el sistema      1 Tiempo de llegada     15.823\n",
            "Personas en el sistema      0 Tiempo de salida     15.920\n",
            " Personas en el sistema      1 Tiempo de llegada     18.446\n",
            " Personas en el sistema      2 Tiempo de llegada     19.025\n",
            "Personas en el sistema      1 Tiempo de salida     19.779\n",
            "Personas en el sistema      0 Tiempo de salida     19.935\n",
            " Personas en el sistema      1 Tiempo de llegada     25.550\n",
            "Personas en el sistema      0 Tiempo de salida     26.343\n",
            " Personas en el sistema      1 Tiempo de llegada     27.360\n",
            " Personas en el sistema      2 Tiempo de llegada     27.411\n",
            " Personas en el sistema      3 Tiempo de llegada     27.598\n",
            "Personas en el sistema      2 Tiempo de salida     27.912\n",
            " Personas en el sistema      3 Tiempo de llegada     28.677\n",
            "Personas en el sistema      2 Tiempo de salida     29.004\n",
            "Personas en el sistema      1 Tiempo de salida     30.394\n",
            "Personas en el sistema      0 Tiempo de salida     31.436\n",
            " Personas en el sistema      1 Tiempo de llegada     35.089\n",
            " Personas en el sistema      2 Tiempo de llegada     35.740\n",
            "Personas en el sistema      1 Tiempo de salida     36.241\n",
            "Personas en el sistema      0 Tiempo de salida     37.239\n",
            " Personas en el sistema      1 Tiempo de llegada     37.526\n",
            "Personas en el sistema      0 Tiempo de salida     38.556\n",
            " Personas en el sistema      1 Tiempo de llegada     44.137\n",
            " Personas en el sistema      2 Tiempo de llegada     44.358\n",
            "Personas en el sistema      1 Tiempo de salida     45.858\n",
            " Personas en el sistema      2 Tiempo de llegada     47.701\n",
            " Personas en el sistema      3 Tiempo de llegada     48.064\n",
            "Personas en el sistema      2 Tiempo de salida     48.859\n",
            "Personas en el sistema      1 Tiempo de salida     48.954\n",
            "Personas en el sistema      0 Tiempo de salida     49.839\n",
            " Personas en el sistema      1 Tiempo de llegada     55.801\n",
            " Personas en el sistema      2 Tiempo de llegada     55.928\n",
            "Personas en el sistema      1 Tiempo de salida     55.963\n",
            "Personas en el sistema      0 Tiempo de salida     56.091\n",
            " Personas en el sistema      1 Tiempo de llegada     59.562\n",
            "Personas en el sistema      0 Tiempo de salida     60.146\n",
            " Personas en el sistema      1 Tiempo de llegada     62.649\n",
            "Personas en el sistema      0 Tiempo de salida     63.562\n",
            " Personas en el sistema      1 Tiempo de llegada     64.182\n",
            "Personas en el sistema      0 Tiempo de salida     64.417\n",
            " Personas en el sistema      1 Tiempo de llegada     67.142\n",
            " Personas en el sistema      2 Tiempo de llegada     67.860\n",
            "Personas en el sistema      1 Tiempo de salida     67.924\n",
            "Personas en el sistema      0 Tiempo de salida     68.869\n",
            " Personas en el sistema      1 Tiempo de llegada     75.549\n",
            " Personas en el sistema      2 Tiempo de llegada     76.235\n",
            "Personas en el sistema      1 Tiempo de salida     76.581\n",
            " Personas en el sistema      2 Tiempo de llegada     76.799\n",
            " Personas en el sistema      3 Tiempo de llegada     77.474\n",
            "Personas en el sistema      2 Tiempo de salida     79.720\n",
            " Personas en el sistema      3 Tiempo de llegada     80.081\n",
            "Personas en el sistema      2 Tiempo de salida     80.832\n",
            " Personas en el sistema      3 Tiempo de llegada     80.923\n",
            "Personas en el sistema      2 Tiempo de salida     80.929\n",
            " Personas en el sistema      3 Tiempo de llegada     81.188\n",
            "Personas en el sistema      2 Tiempo de salida     81.988\n",
            "Personas en el sistema      1 Tiempo de salida     82.268\n",
            " Personas en el sistema      2 Tiempo de llegada     83.748\n",
            " Personas en el sistema      3 Tiempo de llegada     84.316\n",
            "Personas en el sistema      2 Tiempo de salida     84.594\n",
            "Personas en el sistema      1 Tiempo de salida     84.846\n",
            " Personas en el sistema      2 Tiempo de llegada     85.062\n",
            "Personas en el sistema      1 Tiempo de salida     86.099\n",
            "Personas en el sistema      0 Tiempo de salida     86.228\n",
            " Personas en el sistema      1 Tiempo de llegada     86.801\n",
            "Personas en el sistema      0 Tiempo de salida     88.442\n",
            " Personas en el sistema      1 Tiempo de llegada     89.039\n",
            "Personas en el sistema      0 Tiempo de salida     89.266\n",
            " Personas en el sistema      1 Tiempo de llegada     91.022\n",
            "Personas en el sistema      0 Tiempo de salida     91.585\n",
            " Personas en el sistema      1 Tiempo de llegada     92.186\n",
            "Personas en el sistema      0 Tiempo de salida     92.206\n",
            " Personas en el sistema      1 Tiempo de llegada     93.619\n",
            "Personas en el sistema      0 Tiempo de salida     93.727\n"
          ]
        }
      ],
      "source": [
        "#Inicialización \n",
        "lamb = 2         #tiempo promedio de llegadas\n",
        "mu = 1           #tiempo de atención\n",
        "t = 0            #tiempo transcrurrido\n",
        "NA = 0           #numero de llegadas\n",
        "ND = 0           #numero de salidas\n",
        "tA = t + random.expovariate(1/lamb) #hora de la primer llegada\n",
        "tD = 1000000     #hora de salida\n",
        "T = 100          #Tiempo de simulación\n",
        "while min(tA,tD) < T: #Se usa el mínimo para no rebasar T = 100\n",
        "    if tA <= tD: #Simulación de llegada\n",
        "        t = tA\n",
        "        NA += 1\n",
        "        print(\" Personas en el sistema \",\"%5d\"%NA, \"Tiempo de llegada\", \"%10.3f\"%t)\n",
        "        tA = t + random.expovariate(1/lamb)\n",
        "        if NA == 1: #Si llega un cliente se genera su tiempo de salida, a partir de dos clientes ya es tD > tA y es el else\n",
        "            tD = t + random.expovariate(1/mu)\n",
        "    else:\n",
        "        t = tD\n",
        "        NA = NA - 1\n",
        "        print(\"Personas en el sistema \", \"%5d\"%NA, \"Tiempo de salida\", \"%10.3f\"%t)\n",
        "        if NA > 0:\n",
        "            tD = t + random.expovariate(1/mu) #Si hay mas clientes se genera el proximo tiempo de salida\n",
        "        else:\n",
        "            tD = 1000000 #Se vuelve a hacer un tiempo muy grande para que el proximo timepo sea de salida"
      ]
    }
  ],
  "metadata": {
    "colab": {
      "name": "Simulacion de un sistema de linea de espera.ipynb",
      "provenance": []
    },
    "kernelspec": {
      "display_name": "Python 3",
      "language": "python",
      "name": "python3"
    },
    "language_info": {
      "codemirror_mode": {
        "name": "ipython",
        "version": 3
      },
      "file_extension": ".py",
      "mimetype": "text/x-python",
      "name": "python",
      "nbconvert_exporter": "python",
      "pygments_lexer": "ipython3",
      "version": "3.9.6"
    }
  },
  "nbformat": 4,
  "nbformat_minor": 0
}
