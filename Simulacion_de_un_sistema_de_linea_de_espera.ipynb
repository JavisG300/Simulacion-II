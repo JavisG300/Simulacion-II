{
  "cells": [
    {
      "cell_type": "markdown",
      "metadata": {
        "id": "o0QmSlIgAZF_"
      },
      "source": [
        "### Vamos a tomar como guía el libro Simulación, segunda edición de Sheldon M. Ross  "
      ]
    },
    {
      "cell_type": "markdown",
      "metadata": {
        "id": "q9S2IJrLAZGC"
      },
      "source": [
        "Del Capítulo 6: Método de Simulación por eventos discretos"
      ]
    },
    {
      "cell_type": "markdown",
      "metadata": {
        "id": "oNPvytFGAZGD"
      },
      "source": [
        "#### Variables:\n",
        "\n",
        "1. Variable de tiempo $t$: tiempo (simulado) transcurrido.\n",
        "\n",
        "2. Variables de conteo: número de veces que ciertos eventos han ocurrido, hasta el instante $t$.\n",
        "    \n",
        "3. Variables de estado del sistema (ES): Describen el estado del sistema en el instante $t$."
      ]
    },
    {
      "cell_type": "markdown",
      "metadata": {
        "id": "TEV93px-AZGE"
      },
      "source": [
        "Subrutina para generar $T_s$, el tiempo de la primera llegada después del instante s."
      ]
    },
    {
      "cell_type": "markdown",
      "metadata": {
        "id": "7Dz0e34CAZGE"
      },
      "source": [
        "Paso 1: Sea $t = s$.\n",
        "\n",
        "Paso 2: Generar $U$.\n",
        "\n",
        "Paso 3: Sea $t = t - \\frac{1}{\\lambda} logU$.\n",
        "\n",
        "Paso 4: Generar $U$.\n",
        "\n",
        "Paso 5: Si $U \\leq \\frac{\\lambda(t)}{\\lambda}$, hacer $T_s = t$ y terminar.\n",
        "\n",
        "Paso 6: Ir al paso 2."
      ]
    },
    {
      "cell_type": "markdown",
      "metadata": {
        "id": "QwQIBVTRAZGF"
      },
      "source": [
        "### Ejercicio (080322):\n",
        "\n",
        "1. Escribir el código para la subrutina que genera $T_s$."
      ]
    },
    {
      "cell_type": "code",
      "execution_count": 1,
      "metadata": {},
      "outputs": [],
      "source": [
        "import random\n",
        "import matplotlib.pyplot as plt\n",
        "\n",
        "#Función que genera el tiempo y numero de llegadas\n",
        "def Ts(ta,T):  #Parámetros ta: tiempo de arrivo, T: tiempo total de simulación\n",
        "    N = 0      #contador de llegadas\n",
        "    t = 0      #Hora de simulación  \n",
        "    num_arrivals = []\n",
        "    time = []\n",
        "    while t <= T:\n",
        "        N += 1 #Se aumenta el número de llegadas\n",
        "        t = t + random.expovariate(1/ta) #Generación del siguiente tiempo de llegada\n",
        "        num_arrivals.append(N)\n",
        "        time.append(t)\n",
        "    print('Tiempo de ingresos al sistema: ', time)\n",
        "    print('Arrivos totales: ', N)\n",
        "    plt.scatter(time,num_arrivals)\n",
        "    plt.step(time,num_arrivals)\n",
        "    plt.ylabel('Número de llegada')\n",
        "    plt.xlabel('Tiempo de ingreso')\n",
        "    plt.show()"
      ]
    },
    {
      "cell_type": "code",
      "execution_count": 2,
      "metadata": {},
      "outputs": [
        {
          "name": "stdout",
          "output_type": "stream",
          "text": [
            "Tiempo de ingresos al sistema:  [0.07000483855731957, 2.461167645081177, 2.779762654532672, 3.7381145712962622, 8.302086370951933, 9.47857093172298, 11.45351944252842, 13.52399167328552, 16.42140303469391]\n",
            "Arrivos totales:  9\n"
          ]
        },
        {
          "data": {
            "image/png": "[encoded data removed]",
            "text/plain": [
              "<Figure size 432x288 with 1 Axes>"
            ]
          },
          "metadata": {
            "needs_background": "light"
          },
          "output_type": "display_data"
        }
      ],
      "source": [
        "Ts(2,15)"
      ]
    },
    {
      "cell_type": "markdown",
      "metadata": {
        "id": "zd9u6lCyAZGF"
      },
      "source": [
        "### Línea de espera con un servidor."
      ]
    },
    {
      "cell_type": "markdown",
      "metadata": {
        "id": "iuLVDxjyAZGF"
      },
      "source": [
        "Se requieren las siguientes variables:\n",
        "\n",
        "1. Variable de tiempo: $t$.\n",
        "\n",
        "2. Variables de conteo: \n",
        "\n",
        "$N_A$: tiempo de llegadas hasta $t$.\n",
        "                        \n",
        "$N_D$: número de salidas hasta $t$.\n",
        "\n",
        "3. Variables de estado del sistema:  $n$: número de clientes en el sistema en el instante $t$.\n",
        "\n",
        "Lista de eventos: $t_A, t_D$, llegadas y salidas."
      ]
    },
    {
      "cell_type": "markdown",
      "metadata": {
        "id": "pYhcqXR9AZGG"
      },
      "source": [
        "### Inicialización:"
      ]
    },
    {
      "cell_type": "markdown",
      "metadata": {
        "id": "l-MxCRjyAZGH"
      },
      "source": [
        "Sea $t = N_A = N_D = 0$.\n",
        "\n",
        "Sea ES = 0.\n",
        "\n",
        "Generar $T_0$ y hacer $t_A = T_0, t_D = \\infty$"
      ]
    },
    {
      "cell_type": "markdown",
      "metadata": {
        "id": "w5sSyKRuAZGH"
      },
      "source": [
        "### Tarea: Codificar inicialización y casos (pp. 89-91)"
      ]
    },
    {
      "cell_type": "code",
      "execution_count": 3,
      "metadata": {
        "id": "R8VIZd0aAZGH"
      },
      "outputs": [
        {
          "name": "stdout",
          "output_type": "stream",
          "text": [
            "Personas en el sistema      1     Tiempo de llegada      2.011\n",
            "Personas en el sistema      0     Tiempo de salida      3.733\n",
            "Personas en el sistema      1     Tiempo de llegada      8.778\n",
            "Personas en el sistema      0     Tiempo de salida      8.908\n",
            "Personas en el sistema      1     Tiempo de llegada      9.481\n",
            "Personas en el sistema      2     Tiempo de llegada     10.906\n",
            "Personas en el sistema      1     Tiempo de salida     11.447\n",
            "Personas en el sistema      0     Tiempo de salida     11.649\n",
            "Personas en el sistema      1     Tiempo de llegada     12.337\n",
            "Personas en el sistema      0     Tiempo de salida     12.346\n",
            "Personas en el sistema      1     Tiempo de llegada     13.547\n",
            "Personas en el sistema      0     Tiempo de salida     14.032\n",
            "Personas en el sistema      1     Tiempo de llegada     19.276\n",
            "Personas en el sistema      0     Tiempo de salida     19.680\n",
            "Personas en el sistema      1     Tiempo de llegada     22.430\n",
            "Personas en el sistema      0     Tiempo de salida     24.178\n",
            "Personas en el sistema      1     Tiempo de llegada     24.436\n",
            "Personas en el sistema      2     Tiempo de llegada     24.957\n",
            "Personas en el sistema      3     Tiempo de llegada     25.277\n",
            "Personas en el sistema      4     Tiempo de llegada     27.897\n",
            "Personas en el sistema      3     Tiempo de salida     27.924\n",
            "Personas en el sistema      4     Tiempo de llegada     28.163\n",
            "Personas en el sistema      3     Tiempo de salida     28.173\n",
            "Personas en el sistema      4     Tiempo de llegada     28.324\n",
            "Personas en el sistema      3     Tiempo de salida     28.789\n",
            "Personas en el sistema      2     Tiempo de salida     29.276\n",
            "Personas en el sistema      1     Tiempo de salida     29.393\n",
            "Personas en el sistema      2     Tiempo de llegada     30.668\n",
            "Personas en el sistema      1     Tiempo de salida     31.992\n",
            "Personas en el sistema      0     Tiempo de salida     32.298\n",
            "Personas en el sistema      1     Tiempo de llegada     32.605\n",
            "Personas en el sistema      0     Tiempo de salida     33.563\n",
            "Personas en el sistema      1     Tiempo de llegada     38.273\n",
            "Personas en el sistema      0     Tiempo de salida     38.754\n",
            "Personas en el sistema      1     Tiempo de llegada     38.768\n",
            "Personas en el sistema      2     Tiempo de llegada     38.887\n",
            "Personas en el sistema      1     Tiempo de salida     40.060\n",
            "Personas en el sistema      0     Tiempo de salida     40.559\n",
            "Personas en el sistema      1     Tiempo de llegada     48.681\n",
            "Personas en el sistema      0     Tiempo de salida     48.826\n",
            "Personas en el sistema      1     Tiempo de llegada     49.046\n",
            "Personas en el sistema      2     Tiempo de llegada     49.236\n",
            "Personas en el sistema      3     Tiempo de llegada     50.166\n",
            "Personas en el sistema      4     Tiempo de llegada     50.660\n",
            "Personas en el sistema      3     Tiempo de salida     51.266\n",
            "Personas en el sistema      4     Tiempo de llegada     51.826\n",
            "Personas en el sistema      3     Tiempo de salida     53.692\n",
            "Personas en el sistema      4     Tiempo de llegada     53.956\n",
            "Personas en el sistema      3     Tiempo de salida     55.377\n",
            "Personas en el sistema      2     Tiempo de salida     56.037\n",
            "Personas en el sistema      1     Tiempo de salida     56.844\n",
            "Personas en el sistema      0     Tiempo de salida     59.206\n",
            "Personas en el sistema      1     Tiempo de llegada     62.789\n",
            "Personas en el sistema      0     Tiempo de salida     62.898\n",
            "Personas en el sistema      1     Tiempo de llegada     63.969\n",
            "Personas en el sistema      0     Tiempo de salida     64.501\n",
            "Personas en el sistema      1     Tiempo de llegada     64.949\n",
            "Personas en el sistema      0     Tiempo de salida     66.343\n",
            "Personas en el sistema      1     Tiempo de llegada     67.751\n",
            "Personas en el sistema      2     Tiempo de llegada     68.259\n",
            "Personas en el sistema      3     Tiempo de llegada     68.864\n",
            "Personas en el sistema      2     Tiempo de salida     69.175\n",
            "Personas en el sistema      3     Tiempo de llegada     69.740\n",
            "Personas en el sistema      2     Tiempo de salida     70.573\n",
            "Personas en el sistema      1     Tiempo de salida     70.911\n",
            "Personas en el sistema      2     Tiempo de llegada     70.958\n",
            "Personas en el sistema      1     Tiempo de salida     71.422\n",
            "Personas en el sistema      0     Tiempo de salida     73.184\n",
            "Personas en el sistema      1     Tiempo de llegada     73.792\n",
            "Personas en el sistema      0     Tiempo de salida     74.848\n",
            "Personas en el sistema      1     Tiempo de llegada     74.979\n",
            "Personas en el sistema      2     Tiempo de llegada     75.321\n",
            "Personas en el sistema      1     Tiempo de salida     75.326\n",
            "Personas en el sistema      0     Tiempo de salida     76.647\n",
            "Personas en el sistema      1     Tiempo de llegada     77.697\n",
            "Personas en el sistema      0     Tiempo de salida     77.992\n",
            "Personas en el sistema      1     Tiempo de llegada     78.024\n",
            "Personas en el sistema      2     Tiempo de llegada     78.131\n",
            "Personas en el sistema      3     Tiempo de llegada     78.259\n",
            "Personas en el sistema      4     Tiempo de llegada     79.117\n",
            "Personas en el sistema      5     Tiempo de llegada     79.889\n",
            "Personas en el sistema      4     Tiempo de salida     79.924\n",
            "Personas en el sistema      3     Tiempo de salida     81.142\n",
            "Personas en el sistema      2     Tiempo de salida     81.237\n",
            "Personas en el sistema      1     Tiempo de salida     82.334\n",
            "Personas en el sistema      2     Tiempo de llegada     82.938\n",
            "Personas en el sistema      1     Tiempo de salida     83.102\n",
            "Personas en el sistema      0     Tiempo de salida     83.932\n",
            "Personas en el sistema      1     Tiempo de llegada     85.689\n",
            "Personas en el sistema      0     Tiempo de salida     86.202\n",
            "Personas en el sistema      1     Tiempo de llegada     89.324\n",
            "Personas en el sistema      0     Tiempo de salida     89.431\n",
            "Personas en el sistema      1     Tiempo de llegada     92.302\n",
            "Personas en el sistema      0     Tiempo de salida     92.344\n",
            "Personas en el sistema      1     Tiempo de llegada     93.148\n",
            "Personas en el sistema      0     Tiempo de salida     93.616\n",
            "Personas en el sistema      1     Tiempo de llegada     94.659\n",
            "Personas en el sistema      0     Tiempo de salida     95.011\n",
            "Personas en el sistema      1     Tiempo de llegada     96.940\n",
            "Personas en el sistema      0     Tiempo de salida     97.337\n",
            "Personas en el sistema      1     Tiempo de llegada     97.623\n",
            "Personas en el sistema      0     Tiempo de salida     98.051\n",
            "Personas en el sistema      1     Tiempo de llegada     98.917\n"
          ]
        },
        {
          "data": {
            "image/png": "[encoded data removed]",
            "text/plain": [
              "<Figure size 1440x576 with 1 Axes>"
            ]
          },
          "metadata": {
            "needs_background": "light"
          },
          "output_type": "display_data"
        }
      ],
      "source": [
        "#Inicialización \n",
        "lamb = 2         #tiempo promedio de llegadas\n",
        "mu = 1           #tiempo de atención\n",
        "t = 0            #tiempo transcrurrido\n",
        "NA = 0           #numero de llegadas\n",
        "ND = 0           #numero de salidas\n",
        "tA = t + random.expovariate(1/lamb) #hora de la primer llegada\n",
        "tD = 1000000     #hora de salida\n",
        "T = 100          #Tiempo de simulación\n",
        "x = []           #Tiempos de ingreso y salida\n",
        "y = []           #Personas en el sistema\n",
        "while min(tA,tD) < T: #Se usa el mínimo para no rebasar T = 100\n",
        "    if tA <= tD: #Simulación de llegada\n",
        "        t = tA\n",
        "        NA += 1\n",
        "        x.append(t)\n",
        "        y.append(NA)\n",
        "        print(\"Personas en el sistema \",\"%5d\"%NA, \"    Tiempo de llegada\", \"%10.3f\"%t)\n",
        "        tA = t + random.expovariate(1/lamb)\n",
        "        if NA == 1: #Si llega un cliente se genera su tiempo de salida, a partir de dos clientes ya es tD > tA y es el else\n",
        "            tD = t + random.expovariate(1/mu)\n",
        "    else:\n",
        "        t = tD\n",
        "        NA = NA - 1\n",
        "        x.append(t)\n",
        "        y.append(NA)\n",
        "        print(\"Personas en el sistema \", \"%5d\"%NA, \"    Tiempo de salida\", \"%10.3f\"%t)\n",
        "        if NA > 0:\n",
        "            tD = t + random.expovariate(1/mu) #Si hay mas clientes se genera el proximo tiempo de salida\n",
        "        else:\n",
        "            tD = 1000000 #Se vuelve a hacer un tiempo muy grande para que el proximo timepo sea de salida\n",
        "plt.figure(1, figsize=(20, 8))\n",
        "plt.step(x,y,color = 'Black')\n",
        "plt.show()"
      ]
    }
  ],
  "metadata": {
    "colab": {
      "name": "Simulacion de un sistema de linea de espera.ipynb",
      "provenance": []
    },
    "kernelspec": {
      "display_name": "Python 3",
      "language": "python",
      "name": "python3"
    },
    "language_info": {
      "codemirror_mode": {
        "name": "ipython",
        "version": 3
      },
      "file_extension": ".py",
      "mimetype": "text/x-python",
      "name": "python",
      "nbconvert_exporter": "python",
      "pygments_lexer": "ipython3",
      "version": "3.9.6"
    }
  },
  "nbformat": 4,
  "nbformat_minor": 0
}
