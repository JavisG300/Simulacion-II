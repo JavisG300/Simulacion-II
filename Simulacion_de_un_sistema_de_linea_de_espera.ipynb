{
  "cells": [
    {
      "cell_type": "markdown",
      "metadata": {
        "id": "o0QmSlIgAZF_"
      },
      "source": [
        "### Vamos a tomar como guía el libro Simulación, segunda edición de Sheldon M. Ross  "
      ]
    },
    {
      "cell_type": "markdown",
      "metadata": {
        "id": "q9S2IJrLAZGC"
      },
      "source": [
        "Del Capítulo 6: Método de Simulación por eventos discretos"
      ]
    },
    {
      "cell_type": "markdown",
      "metadata": {
        "id": "oNPvytFGAZGD"
      },
      "source": [
        "#### Variables:\n",
        "\n",
        "1. Variable de tiempo $t$: tiempo (simulado) transcurrido.\n",
        "\n",
        "2. Variables de conteo: número de veces que ciertos eventos han ocurrido, hasta el instante $t$.\n",
        "    \n",
        "3. Variables de estado del sistema (ES): Describen el estado del sistema en el instante $t$."
      ]
    },
    {
      "cell_type": "markdown",
      "metadata": {
        "id": "TEV93px-AZGE"
      },
      "source": [
        "Subrutina para generar $T_s$, el tiempo de la primera llegada después del instante s."
      ]
    },
    {
      "cell_type": "markdown",
      "metadata": {
        "id": "7Dz0e34CAZGE"
      },
      "source": [
        "Paso 1: Sea $t = s$.\n",
        "\n",
        "Paso 2: Generar $U$.\n",
        "\n",
        "Paso 3: Sea $t = t - \\frac{1}{\\lambda} logU$.\n",
        "\n",
        "Paso 4: Generar $U$.\n",
        "\n",
        "Paso 5: Si $U \\leq \\frac{\\lambda(t)}{\\lambda}$, hacer $T_s = t$ y terminar.\n",
        "\n",
        "Paso 6: Ir al paso 2."
      ]
    },
    {
      "cell_type": "markdown",
      "metadata": {
        "id": "QwQIBVTRAZGF"
      },
      "source": [
        "### Ejercicio (080322):\n",
        "\n",
        "1. Escribir el código para la subrutina que genera $T_s$."
      ]
    },
    {
      "cell_type": "code",
      "execution_count": 3,
      "metadata": {},
      "outputs": [],
      "source": [
        "import random\n",
        "import numpy as np\n",
        "\n",
        "def Ts(n):       #n es el tiempo de simulación\n",
        "    t = 0        #contador del tiempo de llegada\n",
        "    lamb = 1     # tiempo promedio de llegada\n",
        "    Ts = []      #Lista para guardar los tiempos\n",
        "    N = 0        #contador de llegadas\n",
        "    for i in range(n):\n",
        "        u = random.random()\n",
        "        lambt = random.expovariate(lamb)\n",
        "        if u <= lambt/lamb:\n",
        "            t = t + random.expovariate(1/lamb)\n",
        "            N += 1\n",
        "            Ts.append(t)\n",
        "    return Ts,N   #La función regresa los tiempos de llegadas y el numero de llegadas"
      ]
    },
    {
      "cell_type": "code",
      "execution_count": 4,
      "metadata": {},
      "outputs": [
        {
          "name": "stdout",
          "output_type": "stream",
          "text": [
            "([2.367787696952046, 2.50886564083927, 2.917884147578862, 3.244411328440061, 3.7341181880325407], 5)\n"
          ]
        }
      ],
      "source": [
        "print(Ts(10))"
      ]
    },
    {
      "cell_type": "markdown",
      "metadata": {
        "id": "zd9u6lCyAZGF"
      },
      "source": [
        "### Línea de espera con un servidor."
      ]
    },
    {
      "cell_type": "markdown",
      "metadata": {
        "id": "iuLVDxjyAZGF"
      },
      "source": [
        "Se requieren las siguientes variables:\n",
        "\n",
        "1. Variable de tiempo: $t$.\n",
        "\n",
        "2. Variables de conteo: \n",
        "\n",
        "$N_A$: tiempo de llegadas hasta $t$.\n",
        "                        \n",
        "$N_D$: número de salidas hasta $t$.\n",
        "\n",
        "3. Variables de estado del sistema:  $n$: número de clientes en el sistema en el instante $t$.\n",
        "\n",
        "Lista de eventos: $t_A, t_D$, llegadas y salidas."
      ]
    },
    {
      "cell_type": "markdown",
      "metadata": {
        "id": "pYhcqXR9AZGG"
      },
      "source": [
        "### Inicialización:"
      ]
    },
    {
      "cell_type": "markdown",
      "metadata": {
        "id": "l-MxCRjyAZGH"
      },
      "source": [
        "Sea $t = N_A = N_D = 0$.\n",
        "\n",
        "Sea ES = 0.\n",
        "\n",
        "Generar $T_0$ y hacer $t_A = T_0, t_D = \\infty$"
      ]
    },
    {
      "cell_type": "markdown",
      "metadata": {
        "id": "w5sSyKRuAZGH"
      },
      "source": [
        "### Tarea: Codificar inicialización y casos (pp. 89-91)"
      ]
    },
    {
      "cell_type": "code",
      "execution_count": 27,
      "metadata": {
        "id": "R8VIZd0aAZGH"
      },
      "outputs": [
        {
          "name": "stdout",
          "output_type": "stream",
          "text": [
            " Personas en el sistema      1 Tiempo de llegada      2.679\n",
            " Personas en el sistema      2 Tiempo de llegada      3.113\n",
            "Personas en el sistema      1 Tiempo de salida      3.143\n",
            "Personas en el sistema      0 Tiempo de salida      3.345\n",
            " Personas en el sistema      1 Tiempo de llegada      6.212\n",
            "Personas en el sistema      0 Tiempo de salida      6.434\n",
            " Personas en el sistema      1 Tiempo de llegada      9.395\n",
            "Personas en el sistema      0 Tiempo de salida      9.622\n",
            " Personas en el sistema      1 Tiempo de llegada     10.081\n",
            " Personas en el sistema      2 Tiempo de llegada     10.384\n",
            "Personas en el sistema      1 Tiempo de salida     11.561\n",
            " Personas en el sistema      2 Tiempo de llegada     12.072\n",
            "Personas en el sistema      1 Tiempo de salida     12.596\n",
            "Personas en el sistema      0 Tiempo de salida     13.089\n",
            " Personas en el sistema      1 Tiempo de llegada     13.366\n",
            "Personas en el sistema      0 Tiempo de salida     13.930\n",
            " Personas en el sistema      1 Tiempo de llegada     14.319\n",
            " Personas en el sistema      2 Tiempo de llegada     15.000\n",
            " Personas en el sistema      3 Tiempo de llegada     15.118\n",
            " Personas en el sistema      4 Tiempo de llegada     15.674\n",
            "Personas en el sistema      3 Tiempo de salida     16.167\n",
            " Personas en el sistema      4 Tiempo de llegada     16.168\n",
            " Personas en el sistema      5 Tiempo de llegada     17.143\n",
            "Personas en el sistema      4 Tiempo de salida     17.674\n",
            " Personas en el sistema      5 Tiempo de llegada     18.220\n",
            " Personas en el sistema      6 Tiempo de llegada     20.181\n",
            "Personas en el sistema      5 Tiempo de salida     20.615\n",
            " Personas en el sistema      6 Tiempo de llegada     22.083\n",
            "Personas en el sistema      5 Tiempo de salida     22.537\n",
            "Personas en el sistema      4 Tiempo de salida     23.073\n",
            "Personas en el sistema      3 Tiempo de salida     23.223\n",
            " Personas en el sistema      4 Tiempo de llegada     24.684\n",
            "Personas en el sistema      3 Tiempo de salida     24.855\n",
            "Personas en el sistema      2 Tiempo de salida     25.100\n",
            "Personas en el sistema      1 Tiempo de salida     25.951\n",
            " Personas en el sistema      2 Tiempo de llegada     26.144\n",
            " Personas en el sistema      3 Tiempo de llegada     27.389\n",
            " Personas en el sistema      4 Tiempo de llegada     27.591\n",
            " Personas en el sistema      5 Tiempo de llegada     29.578\n",
            " Personas en el sistema      6 Tiempo de llegada     29.599\n",
            "Personas en el sistema      5 Tiempo de salida     29.718\n",
            " Personas en el sistema      6 Tiempo de llegada     30.553\n",
            "Personas en el sistema      5 Tiempo de salida     31.080\n",
            "Personas en el sistema      4 Tiempo de salida     32.248\n",
            " Personas en el sistema      5 Tiempo de llegada     32.371\n",
            "Personas en el sistema      4 Tiempo de salida     33.313\n",
            " Personas en el sistema      5 Tiempo de llegada     33.552\n",
            "Personas en el sistema      4 Tiempo de salida     34.112\n",
            "Personas en el sistema      3 Tiempo de salida     34.367\n",
            "Personas en el sistema      2 Tiempo de salida     34.564\n",
            " Personas en el sistema      3 Tiempo de llegada     35.965\n",
            "Personas en el sistema      2 Tiempo de salida     35.977\n",
            "Personas en el sistema      1 Tiempo de salida     36.117\n",
            "Personas en el sistema      0 Tiempo de salida     36.610\n",
            " Personas en el sistema      1 Tiempo de llegada     43.009\n",
            "Personas en el sistema      0 Tiempo de salida     43.321\n",
            " Personas en el sistema      1 Tiempo de llegada     46.906\n",
            "Personas en el sistema      0 Tiempo de salida     47.227\n",
            " Personas en el sistema      1 Tiempo de llegada     48.132\n",
            " Personas en el sistema      2 Tiempo de llegada     48.696\n",
            "Personas en el sistema      1 Tiempo de salida     48.963\n",
            "Personas en el sistema      0 Tiempo de salida     49.083\n",
            " Personas en el sistema      1 Tiempo de llegada     50.788\n",
            "Personas en el sistema      0 Tiempo de salida     51.242\n",
            " Personas en el sistema      1 Tiempo de llegada     51.510\n",
            "Personas en el sistema      0 Tiempo de salida     52.139\n",
            " Personas en el sistema      1 Tiempo de llegada     55.044\n",
            "Personas en el sistema      0 Tiempo de salida     55.750\n",
            " Personas en el sistema      1 Tiempo de llegada     56.405\n",
            "Personas en el sistema      0 Tiempo de salida     59.500\n",
            " Personas en el sistema      1 Tiempo de llegada     60.130\n",
            "Personas en el sistema      0 Tiempo de salida     60.466\n",
            " Personas en el sistema      1 Tiempo de llegada     62.260\n",
            " Personas en el sistema      2 Tiempo de llegada     62.340\n",
            " Personas en el sistema      3 Tiempo de llegada     63.192\n",
            "Personas en el sistema      2 Tiempo de salida     63.475\n",
            " Personas en el sistema      3 Tiempo de llegada     63.722\n",
            " Personas en el sistema      4 Tiempo de llegada     64.760\n",
            "Personas en el sistema      3 Tiempo de salida     64.963\n",
            " Personas en el sistema      4 Tiempo de llegada     65.537\n",
            "Personas en el sistema      3 Tiempo de salida     66.393\n",
            "Personas en el sistema      2 Tiempo de salida     67.011\n",
            " Personas en el sistema      3 Tiempo de llegada     68.197\n",
            "Personas en el sistema      2 Tiempo de salida     69.670\n",
            "Personas en el sistema      1 Tiempo de salida     69.875\n",
            "Personas en el sistema      0 Tiempo de salida     71.620\n",
            " Personas en el sistema      1 Tiempo de llegada     73.524\n",
            "Personas en el sistema      0 Tiempo de salida     74.229\n",
            " Personas en el sistema      1 Tiempo de llegada     79.060\n",
            "Personas en el sistema      0 Tiempo de salida     79.209\n",
            " Personas en el sistema      1 Tiempo de llegada     82.217\n",
            " Personas en el sistema      2 Tiempo de llegada     82.545\n",
            " Personas en el sistema      3 Tiempo de llegada     82.772\n",
            "Personas en el sistema      2 Tiempo de salida     83.369\n",
            " Personas en el sistema      3 Tiempo de llegada     83.462\n",
            "Personas en el sistema      2 Tiempo de salida     83.554\n",
            "Personas en el sistema      1 Tiempo de salida     83.676\n",
            " Personas en el sistema      2 Tiempo de llegada     83.991\n",
            " Personas en el sistema      3 Tiempo de llegada     84.770\n",
            "Personas en el sistema      2 Tiempo de salida     85.880\n",
            "Personas en el sistema      1 Tiempo de salida     86.209\n",
            "Personas en el sistema      0 Tiempo de salida     86.779\n",
            " Personas en el sistema      1 Tiempo de llegada     88.225\n",
            " Personas en el sistema      2 Tiempo de llegada     88.544\n",
            "Personas en el sistema      1 Tiempo de salida     88.926\n",
            "Personas en el sistema      0 Tiempo de salida     89.463\n",
            " Personas en el sistema      1 Tiempo de llegada     94.858\n",
            "Personas en el sistema      0 Tiempo de salida     94.967\n",
            " Personas en el sistema      1 Tiempo de llegada     96.046\n",
            "Personas en el sistema      0 Tiempo de salida     96.611\n",
            "0\n"
          ]
        }
      ],
      "source": [
        "#Inicialización \n",
        "lamb = 2         #tiempo promedio de llegadas\n",
        "mu = 1           #tiempo de atención\n",
        "t = 0            #tiempo transcrurrido\n",
        "NA = 0           #numero de llegadas\n",
        "ND = 0           #numero de salidas\n",
        "tA = t + random.expovariate(1/lamb) #hora de la primer llegada\n",
        "tD = 1000000     #hora de salida\n",
        "T = 100          #Tiempo de simulación\n",
        "while min(tA,tD) < T: #Se usa el mínimo para no rebasar T = 100\n",
        "    if tA <= tD: #Simulación de llegada\n",
        "        t = tA\n",
        "        NA += 1\n",
        "        print(\" Personas en el sistema \",\"%5d\"%NA, \"Tiempo de llegada\", \"%10.3f\"%t)\n",
        "        tA = t + random.expovariate(1/lamb)\n",
        "        if NA == 1: #Si llega un cliente se genera su tiempo de salida, a partir de dos clientes ya es tD > tA y es el else\n",
        "            tD = t + random.expovariate(1/mu)\n",
        "    else:\n",
        "        t = tD\n",
        "        NA = NA - 1\n",
        "        print(\"Personas en el sistema \", \"%5d\"%NA, \"Tiempo de salida\", \"%10.3f\"%t)\n",
        "        if NA > 0:\n",
        "            tD = t + random.expovariate(1/mu) #Si hay mas clientes se genera el proximo tiempo de salida\n",
        "        else:\n",
        "            tD = 1000000 #Se vuelve a hacer un tiempo muy grande para que el proximo timepo sea de salida"
      ]
    }
  ],
  "metadata": {
    "colab": {
      "name": "Simulacion de un sistema de linea de espera.ipynb",
      "provenance": []
    },
    "kernelspec": {
      "display_name": "Python 3",
      "language": "python",
      "name": "python3"
    },
    "language_info": {
      "codemirror_mode": {
        "name": "ipython",
        "version": 3
      },
      "file_extension": ".py",
      "mimetype": "text/x-python",
      "name": "python",
      "nbconvert_exporter": "python",
      "pygments_lexer": "ipython3",
      "version": "3.9.6"
    }
  },
  "nbformat": 4,
  "nbformat_minor": 0
}
