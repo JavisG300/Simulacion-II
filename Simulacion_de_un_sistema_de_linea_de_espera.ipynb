{
  "cells": [
    {
      "cell_type": "markdown",
      "metadata": {
        "id": "o0QmSlIgAZF_"
      },
      "source": [
        "### Vamos a tomar como guía el libro Simulación, segunda edición de Sheldon M. Ross  "
      ]
    },
    {
      "cell_type": "markdown",
      "metadata": {
        "id": "q9S2IJrLAZGC"
      },
      "source": [
        "Del Capítulo 6: Método de Simulación por eventos discretos"
      ]
    },
    {
      "cell_type": "markdown",
      "metadata": {
        "id": "oNPvytFGAZGD"
      },
      "source": [
        "#### Variables:\n",
        "\n",
        "1. Variable de tiempo $t$: tiempo (simulado) transcurrido.\n",
        "\n",
        "2. Variables de conteo: número de veces que ciertos eventos han ocurrido, hasta el instante $t$.\n",
        "    \n",
        "3. Variables de estado del sistema (ES): Describen el estado del sistema en el instante $t$."
      ]
    },
    {
      "cell_type": "markdown",
      "metadata": {
        "id": "TEV93px-AZGE"
      },
      "source": [
        "Subrutina para generar $T_s$, el tiempo de la primera llegada después del instante s."
      ]
    },
    {
      "cell_type": "markdown",
      "metadata": {
        "id": "7Dz0e34CAZGE"
      },
      "source": [
        "Paso 1: Sea $t = s$.\n",
        "\n",
        "Paso 2: Generar $U$.\n",
        "\n",
        "Paso 3: Sea $t = t - \\frac{1}{\\lambda} logU$.\n",
        "\n",
        "Paso 4: Generar $U$.\n",
        "\n",
        "Paso 5: Si $U \\leq \\frac{\\lambda(t)}{\\lambda}$, hacer $T_s = t$ y terminar.\n",
        "\n",
        "Paso 6: Ir al paso 2."
      ]
    },
    {
      "cell_type": "markdown",
      "metadata": {
        "id": "QwQIBVTRAZGF"
      },
      "source": [
        "### Ejercicio (080322):\n",
        "\n",
        "1. Escribir el código para la subrutina que genera $T_s$."
      ]
    },
    {
      "cell_type": "code",
      "execution_count": 24,
      "metadata": {},
      "outputs": [
        {
          "name": "stdout",
          "output_type": "stream",
          "text": [
            "0.4555067458023509\n",
            "2.2268310036967316\n",
            "3.948749791535357\n",
            "3.948749791535357\n",
            "3.948749791535357\n",
            "4.616886708403912\n",
            "5.6066295999945615\n",
            "6.231970945806935\n",
            "9.966119316640686\n",
            "11.50821847194576\n"
          ]
        }
      ],
      "source": [
        "import random\n",
        "import numpy as np\n",
        "t = 0\n",
        "lamb = 1\n",
        "for i in range(10):\n",
        "    u = random.random()\n",
        "    lambt = random.expovariate(lamb)\n",
        "    if u <= lambt/lamb:\n",
        "        t = t - (1/lamb)*np.log(u)\n",
        "    print(t)"
      ]
    },
    {
      "cell_type": "markdown",
      "metadata": {
        "id": "zd9u6lCyAZGF"
      },
      "source": [
        "### Línea de espera con un servidor."
      ]
    },
    {
      "cell_type": "markdown",
      "metadata": {
        "id": "iuLVDxjyAZGF"
      },
      "source": [
        "Se requieren las siguientes variables:\n",
        "\n",
        "1. Variable de tiempo: $t$.\n",
        "\n",
        "2. Variables de conteo: \n",
        "\n",
        "$N_A$: tiempo de llegadas hasta $t$.\n",
        "                        \n",
        "$N_D$: número de salidas hasta $t$.\n",
        "\n",
        "3. Variables de estado del sistema:  $n$: número de clientes en el sistema en el instante $t$.\n",
        "\n",
        "Lista de eventos: $t_A, t_D$, llegadas y salidas."
      ]
    },
    {
      "cell_type": "markdown",
      "metadata": {
        "id": "pYhcqXR9AZGG"
      },
      "source": [
        "### Inicialización:"
      ]
    },
    {
      "cell_type": "markdown",
      "metadata": {
        "id": "l-MxCRjyAZGH"
      },
      "source": [
        "Sea $t = N_A = N_D = 0$.\n",
        "\n",
        "Sea ES = 0.\n",
        "\n",
        "Generar $T_0$ y hacer $t_A = T_0, t_D = \\infty$"
      ]
    },
    {
      "cell_type": "markdown",
      "metadata": {
        "id": "w5sSyKRuAZGH"
      },
      "source": [
        "### Tarea: Codificar inicialización y casos (pp. 89-91)"
      ]
    },
    {
      "cell_type": "code",
      "execution_count": null,
      "metadata": {
        "id": "R8VIZd0aAZGH"
      },
      "outputs": [],
      "source": []
    }
  ],
  "metadata": {
    "colab": {
      "name": "Simulacion de un sistema de linea de espera.ipynb",
      "provenance": []
    },
    "kernelspec": {
      "display_name": "Python 3",
      "language": "python",
      "name": "python3"
    },
    "language_info": {
      "codemirror_mode": {
        "name": "ipython",
        "version": 3
      },
      "file_extension": ".py",
      "mimetype": "text/x-python",
      "name": "python",
      "nbconvert_exporter": "python",
      "pygments_lexer": "ipython3",
      "version": "3.7.3"
    }
  },
  "nbformat": 4,
  "nbformat_minor": 0
}
