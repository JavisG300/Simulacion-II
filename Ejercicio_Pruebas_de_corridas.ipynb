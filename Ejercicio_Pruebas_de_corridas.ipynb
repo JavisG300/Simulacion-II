{
  "cells": [
    {
      "cell_type": "markdown",
      "metadata": {
        "id": "H84n0zQlwAZq"
      },
      "source": [
        "# Pruebas de corridas"
      ]
    },
    {
      "cell_type": "markdown",
      "metadata": {
        "id": "0TZO1bTJwAZt"
      },
      "source": [
        "Son pruebas estadísticas no paramétricas para verificar la aleatoriedad de datos. Utiliza series de datos para decidir si son aleatorios o no."
      ]
    },
    {
      "cell_type": "markdown",
      "metadata": {
        "id": "BQzxu9KKwAZu"
      },
      "source": [
        "Una **corrida** se define como una serie de eventos similares. El número de tales eventos es la duración de la corrida."
      ]
    },
    {
      "cell_type": "markdown",
      "metadata": {
        "id": "6g_8JiE6wAZu"
      },
      "source": [
        "#### Ejemplo: \n",
        "\n",
        "En un volado,\n",
        "    \n",
        "$$a, s, s, a, a, a, s, a ,s, s$$"
      ]
    },
    {
      "cell_type": "markdown",
      "metadata": {
        "id": "B2RQmVV9wAZv"
      },
      "source": [
        "¿Cuántas corridas hay?"
      ]
    },
    {
      "cell_type": "code",
      "execution_count": null,
      "metadata": {
        "id": "73c9BycwwHTU"
      },
      "outputs": [],
      "source": []
    },
    {
      "cell_type": "markdown",
      "metadata": {
        "id": "vGqNCD62wAZv"
      },
      "source": [
        "#### Ejemplo: "
      ]
    },
    {
      "cell_type": "code",
      "execution_count": 1,
      "metadata": {
        "id": "dJevuCRmxw3C"
      },
      "outputs": [],
      "source": [
        "from statistics import mean, median"
      ]
    },
    {
      "cell_type": "code",
      "execution_count": 2,
      "metadata": {
        "id": "RsIi_hTnwAZw"
      },
      "outputs": [],
      "source": [
        "l = [1, 3, 9, 8, 0, 4, 6, 5, 2, 7]"
      ]
    },
    {
      "cell_type": "code",
      "execution_count": 3,
      "metadata": {
        "colab": {
          "base_uri": "https://localhost:8080/"
        },
        "id": "XP_TKzzgxvLH",
        "outputId": "0d940a4c-55e8-475e-f8c4-332d76de30d0"
      },
      "outputs": [
        {
          "data": {
            "text/plain": [
              "4.5"
            ]
          },
          "execution_count": 3,
          "metadata": {},
          "output_type": "execute_result"
        }
      ],
      "source": [
        "mean(l)"
      ]
    },
    {
      "cell_type": "code",
      "execution_count": 4,
      "metadata": {
        "colab": {
          "base_uri": "https://localhost:8080/"
        },
        "id": "cUg7NwgUyG8m",
        "outputId": "8f6297fa-3402-47b8-9c67-94adc92e4849"
      },
      "outputs": [
        {
          "data": {
            "text/plain": [
              "4.5"
            ]
          },
          "execution_count": 4,
          "metadata": {},
          "output_type": "execute_result"
        }
      ],
      "source": [
        "median(l)"
      ]
    },
    {
      "cell_type": "markdown",
      "metadata": {
        "id": "IwFGAFHUyUDR"
      },
      "source": [
        "Esta lista la podemos transformar a experimentos de Bernulli considerando si los elementos están por encima o por debajo de la media o la mediana"
      ]
    },
    {
      "cell_type": "code",
      "execution_count": 5,
      "metadata": {
        "id": "mZaIdy3lyeJG"
      },
      "outputs": [],
      "source": [
        "l1 = [0,0,1,1,0,0,1,1,0,1]"
      ]
    },
    {
      "cell_type": "code",
      "execution_count": 6,
      "metadata": {
        "id": "0KCNY4X8wAZx"
      },
      "outputs": [],
      "source": [
        "m = [0, 1, 2, 3, 4, 5, 6, 7, 8, 9]"
      ]
    },
    {
      "cell_type": "code",
      "execution_count": 7,
      "metadata": {
        "colab": {
          "base_uri": "https://localhost:8080/"
        },
        "id": "RjcZN8ftx8Ew",
        "outputId": "ff63023e-cb4e-4994-bc55-947262522ca2"
      },
      "outputs": [
        {
          "data": {
            "text/plain": [
              "4.5"
            ]
          },
          "execution_count": 7,
          "metadata": {},
          "output_type": "execute_result"
        }
      ],
      "source": [
        "mean(m)"
      ]
    },
    {
      "cell_type": "markdown",
      "metadata": {
        "id": "bUcvazLEwAZy"
      },
      "source": [
        "Hay varias formas de definir corridas, sin embargo, en todos los casos la formulación debe producir una secuencia dicotómica de valores. En nuestro caso, los valores por encima de la mediana se tratan como positivos y los valores por debajo de la mediana como negativos. Una corrida se define como una serie de valores consecutivos positivos o negativos.\n",
        "\n",
        "El primer paso en la prueba de corridas es contar el número de corridas en la secuencia de datos."
      ]
    },
    {
      "cell_type": "markdown",
      "metadata": {
        "id": "qXgHELV1wAZ0"
      },
      "source": [
        "Formulamos entonces la hipótesis nula y alternativa:"
      ]
    },
    {
      "cell_type": "markdown",
      "metadata": {
        "id": "QdxKKAIowAZ1"
      },
      "source": [
        "$H_0:$ La secuencia se produjo de forma aleatoria.\n",
        "\n",
        "$H_1:$ La secuencia no se produjo de forma aleatoria."
      ]
    },
    {
      "cell_type": "markdown",
      "metadata": {
        "id": "xWLdcF5_wAZ1"
      },
      "source": [
        "Usamos el estadistico $Z$ como prueba:"
      ]
    },
    {
      "cell_type": "markdown",
      "metadata": {
        "id": "XSIXa2dnwAZ2"
      },
      "source": [
        "$$Z = \\frac{R - \\bar{R}}{S_{R}}$$"
      ]
    },
    {
      "cell_type": "markdown",
      "metadata": {
        "id": "S4N2GRbNwAZ2"
      },
      "source": [
        "donde $R$ es el número de corridas observadas, $\\bar{R}$, definido como:"
      ]
    },
    {
      "cell_type": "markdown",
      "metadata": {
        "id": "O07144EfwAZ2"
      },
      "source": [
        "$$\\bar{R}=\\frac{2n_1 n_2}{n_1 + n_2} + 1$$"
      ]
    },
    {
      "cell_type": "markdown",
      "metadata": {
        "id": "aG-3mB6UwAZ2"
      },
      "source": [
        "es el número de corridas esperadas. Y la desviación estándar del número de corridas es:"
      ]
    },
    {
      "cell_type": "markdown",
      "metadata": {
        "id": "tz0b1NkpwAZ3"
      },
      "source": [
        "$$S_R^2 = \\frac{2n_1 n_2 (2n_1 n_2 - n_1 - n_2)}{(n_1+n_2)^2 (n_1 + n_2 - 1)}$$"
      ]
    },
    {
      "cell_type": "markdown",
      "metadata": {
        "id": "eDRemTHkwAZ3"
      },
      "source": [
        "Y $n_1$ y $n_2$ son los números de valores positivos y negativos de la serie."
      ]
    },
    {
      "cell_type": "markdown",
      "metadata": {
        "id": "s_CrRBM_wAZ3"
      },
      "source": [
        "Entonces comparamos el valor del estadístico $Z$ calculado con el $Z_{crítico}$  para un nivel de confianza dado ($Z_{crítico} = 1.96$ para un nivel de confianza del 95%). La hipótesis nula se rechaza, es decir, se declara que los números no son aleatorios si $| Z |> Z_{crítico}$."
      ]
    },
    {
      "cell_type": "markdown",
      "metadata": {
        "id": "DQj8CmnmwAZ3"
      },
      "source": [
        "#### Para hacer un programa que haga la prueba de corridas"
      ]
    },
    {
      "cell_type": "code",
      "execution_count": 8,
      "metadata": {
        "id": "_XN_dlaJwAZ4"
      },
      "outputs": [],
      "source": [
        "import random \n",
        "import math \n",
        "from statistics import mean, median\n",
        "from matplotlib.pyplot import *"
      ]
    },
    {
      "cell_type": "code",
      "execution_count": 9,
      "metadata": {
        "id": "t3REifWSwAZ4"
      },
      "outputs": [],
      "source": [
        "l= [946,1058,1133,869,927,742,1113,665,955,1288,1074,838,815,910,1193,\n",
        "    1386,955,1187,891,1302,867,837,1138,868,969,737,1143,947,763,1029]"
      ]
    },
    {
      "cell_type": "code",
      "execution_count": 10,
      "metadata": {
        "id": "iV-UkCKa3obw"
      },
      "outputs": [],
      "source": [
        "#Este programa implementa una prueba de rachas arriba y abajo de la media\n",
        "def prueba_corridas(l):\n",
        "    media = mean(l)\n",
        "    n1, n2 = 0,0\n",
        "    lcyu = []    #Lista de 0 y 1\n",
        "    R = 1        #Al empezar a recorrer la lista empiezan las corridas\n",
        "\n",
        "    for i in range(len(l)): #Contamos los numeros que están por debajo y por arriba de la media\n",
        "        if l[i] <= media:\n",
        "            lcyu.append(0)\n",
        "            n1 += 1  #Cantidad de números por debajo de la media\n",
        "        else:\n",
        "            lcyu.append(1)\n",
        "            n2 += 1  #Cantidad de números por arriba de la media\n",
        "\n",
        "    elemento = lcyu[0]  \n",
        "    for i in lcyu:\n",
        "        if i != elemento:\n",
        "            R += 1\n",
        "        elemento = i\n",
        "\n",
        "    #Calculando los parámetros \n",
        "    R_esperada = ((2*n1*n2)/(n1+n2))+1\n",
        "    Sr = math.sqrt((2*n1*n2*(2*n1*n2-n1-n2))/(((n1+n2)**2)*(n1+n2-1))) \n",
        "    z = (R - R_esperada)/Sr\n",
        "    z_critico = 1.96\n",
        "\n",
        "    if abs(z) > z_critico:\n",
        "        salida = 'La secuencia no es aleatoria'\n",
        "    elif abs(z) < z_critico:\n",
        "        salida = 'La secuencia es aleatoria'\n",
        "    return R, n1,n2, z, salida\n"
      ]
    },
    {
      "cell_type": "markdown",
      "metadata": {
        "id": "wspM3LWkwAZ5"
      },
      "source": [
        "### Ejercicio:\n",
        "\n",
        "* Completar la función para que imprima todas las salidas de interés.\n",
        "* Desordenar la lista y volver a aplicar la prueba de corridas. Comparar el resultado.\n",
        "* Repetir el ejercicio con la lista l_1"
      ]
    },
    {
      "cell_type": "code",
      "execution_count": 11,
      "metadata": {
        "colab": {
          "base_uri": "https://localhost:8080/"
        },
        "id": "aeABvAkTwAZ5",
        "outputId": "dddbc991-5040-48f7-ac4a-01214f8cec32"
      },
      "outputs": [
        {
          "name": "stdout",
          "output_type": "stream",
          "text": [
            "Estadistico = 1.0079493327443436 \n",
            "R = 18, n1 = 18, n2 = 12\n",
            "La secuencia es aleatoria\n"
          ]
        }
      ],
      "source": [
        "R = prueba_corridas(l)[0]\n",
        "n1 = prueba_corridas(l)[1]\n",
        "n2 = prueba_corridas(l)[2]\n",
        "z = prueba_corridas(l)[3]\n",
        "salida = prueba_corridas(l)[4]\n",
        "print(f'Estadistico = {z} ')\n",
        "print(f'R = {R}, n1 = {n1}, n2 = {n2}')\n",
        "print(salida)"
      ]
    },
    {
      "cell_type": "code",
      "execution_count": 18,
      "metadata": {
        "colab": {
          "base_uri": "https://localhost:8080/"
        },
        "id": "epBtv_JlVhOO",
        "outputId": "bbb3c6dd-80f0-409e-c339-37629792ae2c"
      },
      "outputs": [
        {
          "name": "stdout",
          "output_type": "stream",
          "text": [
            "[763, 955, 868, 1193, 1074, 927, 955, 1058, 1113, 1029, 737, 837, 838, 867, 947, 1386, 891, 1138, 815, 910, 1302, 742, 665, 1288, 869, 1143, 1133, 969, 946, 1187]\n"
          ]
        }
      ],
      "source": [
        "random.shuffle(l)\n",
        "print(l)"
      ]
    },
    {
      "cell_type": "code",
      "execution_count": 19,
      "metadata": {
        "colab": {
          "base_uri": "https://localhost:8080/"
        },
        "id": "DqzJzy-xVIku",
        "outputId": "4e85b1ef-4fc7-42fb-b25d-5e1a85a4a19d"
      },
      "outputs": [
        {
          "name": "stdout",
          "output_type": "stream",
          "text": [
            "Estadistico = 0.23260369217177151 \n",
            "R = 16, n1 = 18, n2 = 12\n",
            "La secuencia es aleatoria\n"
          ]
        }
      ],
      "source": [
        "R = prueba_corridas(l)[0]\n",
        "n1 = prueba_corridas(l)[1]\n",
        "n2 = prueba_corridas(l)[2]\n",
        "z = prueba_corridas(l)[3]\n",
        "salida = prueba_corridas(l)[4]\n",
        "print(f'Estadistico = {z} ')\n",
        "print(f'R = {R}, n1 = {n1}, n2 = {n2}')\n",
        "print(salida)"
      ]
    },
    {
      "cell_type": "code",
      "execution_count": 15,
      "metadata": {
        "id": "BbvIm9X6wAZ6"
      },
      "outputs": [],
      "source": [
        "l_1 = [0.809, 0.042,  0.432,  0.538,  0.225,  0.88,  0.688,  0.772,  0.036,  0.854, 0.397,  0.268,  0.821,  0.897,  \n",
        "     0.07,  0.721,  0.087,  0.35,  0.779,  0.482, 0.136,  0.855,  0.453,  0.197,  0.444,  0.799,  0.809,  0.691,  \n",
        "     0.545,  0.857, 0.692,  0.055,  0.348, 0.373,  0.436,  0.29,  0.015,  0.834,  0.599,  0.724,  0.564,  0.709,  \n",
        "     0.946,  0.754,  0.677,  0.128,  0.012,  0.498,  0.6,  0.913]"
      ]
    },
    {
      "cell_type": "code",
      "execution_count": 20,
      "metadata": {
        "colab": {
          "base_uri": "https://localhost:8080/"
        },
        "id": "c2-vPKeMW648",
        "outputId": "9c051331-52a0-4a90-bf48-47dbdc4c5e9b"
      },
      "outputs": [
        {
          "name": "stdout",
          "output_type": "stream",
          "text": [
            "Estadistico = -1.3922411963646792 \n",
            "R = 21, n1 = 23, n2 = 27\n",
            "La secuencia es aleatoria\n"
          ]
        }
      ],
      "source": [
        "R = prueba_corridas(l_1)[0]\n",
        "n1 = prueba_corridas(l_1)[1]\n",
        "n2 = prueba_corridas(l_1)[2]\n",
        "z = prueba_corridas(l_1)[3]\n",
        "salida = prueba_corridas(l_1)[4]\n",
        "print(f'Estadistico = {z} ')\n",
        "print(f'R = {R}, n1 = {n1}, n2 = {n2}')\n",
        "print(salida)"
      ]
    }
  ],
  "metadata": {
    "colab": {
      "name": "Pruebas de corridas.ipynb",
      "provenance": []
    },
    "interpreter": {
      "hash": "11938c6bc6919ae2720b4d5011047913343b08a43b18698fd82dedb0d4417594"
    },
    "kernelspec": {
      "display_name": "Python 3.9.6 64-bit",
      "language": "python",
      "name": "python3"
    },
    "language_info": {
      "codemirror_mode": {
        "name": "ipython",
        "version": 3
      },
      "file_extension": ".py",
      "mimetype": "text/x-python",
      "name": "python",
      "nbconvert_exporter": "python",
      "pygments_lexer": "ipython3",
      "version": "3.9.6"
    }
  },
  "nbformat": 4,
  "nbformat_minor": 0
}
