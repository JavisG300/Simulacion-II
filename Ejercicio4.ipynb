{
  "cells": [
    {
      "cell_type": "code",
      "execution_count": 2,
      "metadata": {},
      "outputs": [],
      "source": [
        "#importamos el módulo que vamos a usar \n",
        "import random   "
      ]
    },
    {
      "cell_type": "code",
      "execution_count": 3,
      "metadata": {
        "id": "fuO7WTdaPnD1"
      },
      "outputs": [],
      "source": [
        "import matplotlib.pyplot as plt\n",
        "import numpy as np"
      ]
    },
    {
      "cell_type": "markdown",
      "metadata": {
        "id": "LPB_VhVcPnD6"
      },
      "source": [
        "## Ejercicio 4:\n",
        "\n",
        "a) Calcular $E[X_i]$ y $V[X_i]$\n",
        "\n",
        "\n"
      ]
    },
    {
      "cell_type": "markdown",
      "metadata": {},
      "source": [
        "$E[X_i] = \\sum_i x_{i}P(X=x_{i}) = 1*P(x=1) + 0*P(x=0) = 1*\\frac{\\pi}{4} + 0 * 1-\\frac{\\pi}{4} = \\frac{\\pi}{4} \\approx 0.785398$ \n",
        "\n",
        "$V[x_{i}] = E[X_{i}^{2}] - E[X_i]^{2} = 1^{2}*\\frac{\\pi}{4} - (\\frac{\\pi}{4})^{2} = \\frac{\\pi}{4}(1-\\frac{\\pi}{4}) \\approx 0.1685479$"
      ]
    },
    {
      "cell_type": "markdown",
      "metadata": {
        "id": "l7PluYmcPnD6"
      },
      "source": [
        "Para el experimento de simulación, definimos $Z_N = \\frac{X_1 + X_2 + ... + X_N}{N}$"
      ]
    },
    {
      "cell_type": "markdown",
      "metadata": {},
      "source": [
        "En el siguiente código se obtiene la esperanza y la varianza mediante simulación"
      ]
    },
    {
      "cell_type": "code",
      "execution_count": 59,
      "metadata": {},
      "outputs": [],
      "source": [
        "#Utilizando el mismo código para calcular la esperanza y varianza por simulación\n",
        "from statistics import mean, variance\n",
        "def pi_mc(n):\n",
        "    pi = 0\n",
        "    lx = []\n",
        "    ly = []\n",
        "    counter = 0\n",
        "    xi = 0\n",
        "    Z = []\n",
        "    for i in range(n):\n",
        "        x = random.random()\n",
        "        y = random.random()\n",
        "        if x**2 + y**2 <1:\n",
        "            counter = counter + 1\n",
        "            lx.append(counter)\n",
        "            ly.append(4.0*float(counter)/(i + 1))\n",
        "            xi = 1\n",
        "            Z.append(xi) #Se añade el valor de xi = 1\n",
        "        else:\n",
        "            xi = 0\n",
        "            Z.append(xi) #Se añade el valor de xi = 0\n",
        "        pi = 4.0*float(counter)/(i + 1)\n",
        "        e = np.absolute((pi - np.pi)/np.pi)\n",
        "        \n",
        "    media = mean(Z) #Obtenemos la media de la V.A xi\n",
        "    p=np.pi/4\n",
        "    errorE = np.absolute((media - (p))/(p)) \n",
        "    varianza = variance(Z)\n",
        "    errorV = np.absolute((varianza - ((p)*(1-p)))/(p))\n",
        "    print(\"pi =\", pi)\n",
        "    print(\"error =\", e)\n",
        "    print(\"Valor esperado obtenido mediante simulación\", media,\"Error en el calculo de la esperanza\", errorE)\n",
        "    print(\"Valor de la varianza por simulación\", varianza, \"Error respecto al valor real\", errorV)\n",
        "    \n",
        "    fig = plt.figure(1, figsize=(8, 8))        \n",
        "    plt.xlabel(\"Iteraciones\")\n",
        "    plt.ylabel(\"Estimación de $\\pi$\")\n",
        "    plt.grid()\n",
        "    plt.plot(lx, ly, color=\"blue\", markersize=1)\n",
        "    plt.show()"
      ]
    },
    {
      "cell_type": "code",
      "execution_count": 60,
      "metadata": {},
      "outputs": [
        {
          "name": "stdout",
          "output_type": "stream",
          "text": [
            "pi = 3.1484\n",
            "error = 0.0021668456610466173\n",
            "Valor esperado obtenido mediante simulación 0.7871 Error en el calculo de la esperanza 0.0021668456610466173\n",
            "Valor de la varianza por simulación 0.1675903490349035 Error respecto al valor real 0.0012191768953441623\n"
          ]
        },
        {
          "data": {
            "image/png": "[encoded data removed]",
            "text/plain": [
              "<Figure size 576x576 with 1 Axes>"
            ]
          },
          "metadata": {
            "needs_background": "light"
          },
          "output_type": "display_data"
        }
      ],
      "source": [
        "pi_mc(10000)"
      ]
    }
  ],
  "metadata": {
    "colab": {
      "name": "Uso de los números aleatorios.ipynb",
      "provenance": []
    },
    "kernelspec": {
      "display_name": "Python 3",
      "language": "python",
      "name": "python3"
    },
    "language_info": {
      "codemirror_mode": {
        "name": "ipython",
        "version": 3
      },
      "file_extension": ".py",
      "mimetype": "text/x-python",
      "name": "python",
      "nbconvert_exporter": "python",
      "pygments_lexer": "ipython3",
      "version": "3.9.6"
    }
  },
  "nbformat": 4,
  "nbformat_minor": 0
}
