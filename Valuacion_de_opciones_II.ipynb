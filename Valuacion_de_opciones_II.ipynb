{
  "cells": [
    {
      "cell_type": "markdown",
      "metadata": {
        "id": "qVM9frjIem1n"
      },
      "source": [
        "# <font color='blue'> Movimiento browniano "
      ]
    },
    {
      "cell_type": "markdown",
      "metadata": {
        "id": "mp0zgNhLem1p"
      },
      "source": [
        "La colección de variables aleatorias $X(t), t \\geq 0$ es un **movimiento browniano** de parámetros $\\mu$ y $\\sigma^2$ si satisface:  \n",
        "\n",
        "* $X(0)$ es una constante dada.\n",
        "\n",
        "* Para todo $y$ y $t$ positivos, la variable aleatoria $X(t+y)-X(y)$ es independiente de los valores del proceso hasta el  tiempo $y$ y tiene una distribución normal con media $μt$ y varianza $t \\sigma^2$ "
      ]
    },
    {
      "cell_type": "markdown",
      "metadata": {
        "id": "YJutjdDoem1q"
      },
      "source": [
        "Comentarios.\n",
        "\n",
        "* El proceso queda determinado solo por el valor presente y ninguno del pasado el que determina los valores futuros.\n",
        "* $X(t)$ es, con probabilidad 1, una función continua de $t$.\n",
        "* Pero no es diferenciable.\n",
        "* EL movimiento browniano es el límite de modelos más simples, como las caminatas aleatorias (del modelo binomial)."
      ]
    },
    {
      "cell_type": "markdown",
      "metadata": {
        "id": "QfLRKQwRem1r"
      },
      "source": [
        "### <font color='blue'> Movimiento Browniano Geometrico"
      ]
    },
    {
      "cell_type": "markdown",
      "metadata": {
        "id": "2UXq1uNwem1r"
      },
      "source": [
        "Sea  $X(t), t \\geq 0$ un movimiento browniano de parámetros $\\mu$ y $\\sigma^2$, y sea:\n",
        "    \n",
        "$$S(t)=e^{X(t)}, t \\geq 0$$\n",
        "\n",
        "El proceso $S(t), t \\geq 0$ se dice que es un movimiento browniano geometrico con parámetros $\\mu$ y $\\sigma^2$. \n",
        "    "
      ]
    },
    {
      "cell_type": "markdown",
      "metadata": {
        "id": "r-ay5veIem1r"
      },
      "source": [
        "Entonces:\n",
        "\n",
        "$$\\log \\Bigg( \\frac{S(t+y)}{S(y)} \\Bigg)$$\n",
        "\n",
        "es independiente del proceso y tiene distribución normal con media $\\mu t$ y varianza $\\sigma^2 t$."
      ]
    },
    {
      "cell_type": "markdown",
      "metadata": {
        "id": "5xTPXDBkem1s"
      },
      "source": [
        "#### Modelación de las acciones."
      ]
    },
    {
      "cell_type": "markdown",
      "metadata": {
        "id": "65onLNobem1s"
      },
      "source": [
        "Si $P_t$ es el precio de una acción en el tiempo $t$, entonces el rendimiento logaritmizado \n",
        "es $R_t = \\log(\\frac{P_t}{P_{t-1}})$, para $t=1,2,3...$ y normalmente ocurre que:\n",
        "\n",
        "$$R_t \\sim N(\\mu, \\sigma)$$"
      ]
    },
    {
      "cell_type": "markdown",
      "metadata": {
        "id": "lcvAvd85em1s"
      },
      "source": [
        "El uso del rendimiento logaritmizado se justifica como una buena aproximación:\n",
        "\n",
        "$$R_t \\approx \\frac{P_t - P_{t-1}}{P_{t-1}}$$ \n",
        "\n",
        "debido a que el orden de los rendimientos es de $10^{-3}$ y se hace uso de $\\log (1 + x) \\approx x$."
      ]
    },
    {
      "cell_type": "markdown",
      "metadata": {
        "id": "UNjlEBsyem1s"
      },
      "source": [
        "Ahora, si se reescribe la cantidad $\\frac{P_t}{P_0}$ como:\n",
        "\n",
        "$$\\frac{P_t}{P_0} = \\frac{P_t}{P_{t-1}} \\cdot \\frac{P_{t-1}}{P_{t-2}} \\cdot \\frac{P_{t-2}}{P_{t-3}} \\cdot ... \\cdot \\frac{P_2}{P_1} \\cdot \\frac{P_1}{P_0} $$"
      ]
    },
    {
      "cell_type": "markdown",
      "metadata": {
        "id": "l3nwQ6o9em1t"
      },
      "source": [
        "Al tomar el logaritmo:\n",
        "\n",
        "$$\\log( \\frac{P_t}{P_0}) = R_t + R_{t-1} + ... + R_2 + R_1$$"
      ]
    },
    {
      "cell_type": "markdown",
      "metadata": {
        "id": "xA5zAS2qem1t"
      },
      "source": [
        "Si suponemos que los rendimientos $R_i$ son independientes y tienen una misma distribución, \n",
        "con $E[R_i]= \\mu$ y $V[R_i]=\\sigma^2$, entonces para $t$ grande, por el teorema central del límite esto \n",
        "sigue una distribución normal (para más de 30 días) y se tendrá:"
      ]
    },
    {
      "cell_type": "markdown",
      "metadata": {
        "id": "f6FnY5Kqem1t"
      },
      "source": [
        "$$E \\Bigg[\\log \\frac{P_t}{P_o} \\Bigg]= E[R_t]+E[R_{t-1}]+...+E[R_1]= t\\mu$$\n",
        "\n",
        "\n",
        "$$V \\Bigg[\\log \\frac{P_t}{P_o} \\Bigg]= V[R_t]+V[R_{t-1}]+...+V[R_1]= t\\sigma^2$$"
      ]
    },
    {
      "cell_type": "markdown",
      "metadata": {
        "id": "ai4P5UNDem1t"
      },
      "source": [
        "Y se tendría que:\n",
        "\n",
        "$$\\log \\Bigg( \\frac{P_t}{P_0} \\Bigg) \\sim N(\\mu t, \\sigma \\sqrt t)$$"
      ]
    },
    {
      "cell_type": "markdown",
      "metadata": {
        "id": "7eX3kJsuem1u"
      },
      "source": [
        "Por lo que se puede escribir:\n",
        "\n",
        "$$P_t=P_0 e^{\\mu t +\\sigma \\beta_t}$$"
      ]
    },
    {
      "cell_type": "markdown",
      "metadata": {
        "id": "CGU5-yRJem1u"
      },
      "source": [
        "donde $\\beta_t$ es un movimiento browniano en $(0,t)$ y $E[\\beta_t]=0$ y $V[\\beta_t]=t$"
      ]
    },
    {
      "cell_type": "markdown",
      "metadata": {
        "id": "fBvTESolem1u"
      },
      "source": [
        "Y la igualdad anterior también se puede escribir como:\n",
        "\n",
        "$$P_t=P_0 e^{\\mu t + \\sigma \\sqrt t z}$$\n",
        "\n",
        "donde $z \\sim N(0,1)$."
      ]
    },
    {
      "cell_type": "markdown",
      "metadata": {
        "id": "VcRNLUTpem1u"
      },
      "source": [
        "Esta última ecuación nos permite ya construir una simulación."
      ]
    },
    {
      "cell_type": "code",
      "execution_count": 1,
      "metadata": {
        "id": "Z3Wq7sUoem1v"
      },
      "outputs": [],
      "source": [
        "from random import gauss\n",
        "from math import exp\n",
        "import matplotlib.pyplot as plt"
      ]
    },
    {
      "cell_type": "code",
      "execution_count": 2,
      "metadata": {
        "id": "ytiuT_L4em1v"
      },
      "outputs": [],
      "source": [
        "mu=0.001 \n",
        "sigma=0.04  #sigma\n",
        "p0=10\n",
        "t=30"
      ]
    },
    {
      "cell_type": "code",
      "execution_count": 3,
      "metadata": {
        "id": "r6gsQETEem1w"
      },
      "outputs": [],
      "source": [
        "def trayectoria(mu,sigma,p0,t):\n",
        "    l=[p0]\n",
        "    pt=p0\n",
        "    for i in range(t):\n",
        "        pt=pt*exp(mu + sigma*gauss(0,1))\n",
        "        l.append(pt)\n",
        "    return l"
      ]
    },
    {
      "cell_type": "code",
      "execution_count": 4,
      "metadata": {
        "id": "-rcy8VC7em1w"
      },
      "outputs": [],
      "source": [
        "l=trayectoria(mu, sigma,p0,t)"
      ]
    },
    {
      "cell_type": "code",
      "execution_count": 5,
      "metadata": {
        "colab": {
          "base_uri": "https://localhost:8080/"
        },
        "id": "6j1ElixOem1w",
        "outputId": "57104e39-e5b6-498c-ef3b-884b4559586e"
      },
      "outputs": [
        {
          "name": "stdout",
          "output_type": "stream",
          "text": [
            "[10, 9.804523301037356, 9.298968644147674, 10.105215221177595, 10.63561968127004, 10.336142235318539, 11.12782515029136, 11.376837813748613, 11.80119019058171, 11.774228003273787, 11.622784713728459, 11.336761860383563, 11.148852207783348, 11.431435265220987, 10.764200642638116, 11.002206206022121, 10.335576628210646, 9.99997948039843, 10.59536302862584, 10.647919723672235, 10.506011791887529, 10.53163984232797, 10.54606016235208, 10.173894347180525, 10.313903458763928, 10.257251688125226, 10.193923739998924, 10.208349382493305, 10.158437424020498, 10.471135629234249, 10.03833214155048]\n"
          ]
        }
      ],
      "source": [
        "print(l)"
      ]
    },
    {
      "cell_type": "code",
      "execution_count": 6,
      "metadata": {
        "colab": {
          "base_uri": "https://localhost:8080/",
          "height": 265
        },
        "id": "jRAR-RuPem1w",
        "outputId": "159e5815-3b5a-4778-d895-21e305305a58"
      },
      "outputs": [
        {
          "data": {
            "image/png": "[encoded data removed]",
            "text/plain": [
              "<Figure size 432x288 with 1 Axes>"
            ]
          },
          "metadata": {
            "needs_background": "light"
          },
          "output_type": "display_data"
        }
      ],
      "source": [
        "\n",
        "plt.plot(l)\n",
        "plt.show()"
      ]
    },
    {
      "cell_type": "code",
      "execution_count": 8,
      "metadata": {
        "id": "YDHJqCCwem1x"
      },
      "outputs": [],
      "source": [
        "mu=0.001\n",
        "sigma=0.04\n",
        "p0=10\n",
        "t=200"
      ]
    },
    {
      "cell_type": "code",
      "execution_count": 9,
      "metadata": {
        "colab": {
          "base_uri": "https://localhost:8080/",
          "height": 265
        },
        "id": "qxTwk1wkem1x",
        "outputId": "f0e3def8-9d8d-41a3-d8ba-51428d483b8f"
      },
      "outputs": [
        {
          "data": {
            "image/png": "[encoded data removed]",
            "text/plain": [
              "<Figure size 432x288 with 1 Axes>"
            ]
          },
          "metadata": {
            "needs_background": "light"
          },
          "output_type": "display_data"
        }
      ],
      "source": [
        "for i in range(10):\n",
        "    l=trayectoria(mu,sigma,p0,t)\n",
        "    plt.plot(l)\n",
        "plt.show()"
      ]
    },
    {
      "cell_type": "markdown",
      "metadata": {
        "id": "Mtbgr-ELem1x"
      },
      "source": [
        "#### Ejercicio \n",
        "\n",
        "Estudiar el comportamiento de las trayectorias al variar $\\mu$ y $\\sigma$."
      ]
    },
    {
      "cell_type": "markdown",
      "metadata": {
        "id": "8sD0DsZEem1x"
      },
      "source": [
        "Entonces, sabiendo que $P_t=P_0 e^{\\mu t +\\sigma \\beta_t}=P_t=P_0 e^{\\mu t + \\sigma \\sqrt t z}$, \n",
        "¿cuál es el valor esperado de $P_t$?\n",
        "\n",
        "Tendríamos:"
      ]
    },
    {
      "cell_type": "markdown",
      "metadata": {
        "id": "GIukoA4Zem1x"
      },
      "source": [
        "$$E[P_t]=E[P_0 e^{\\mu t + \\sigma \\sqrt t z}] = P_0 E[e^{\\mu t + \\sigma \\sqrt t z}]$$"
      ]
    },
    {
      "cell_type": "markdown",
      "metadata": {
        "id": "kwku6qHzem1y"
      },
      "source": [
        "Y para poder evaluar esto, necesitamos utilizar la función generadora de momentos:\n",
        "    \n",
        "$$\\mu_x(s)=e^{\\mu s + \\frac{\\sigma^2 s^2}{2}}$$"
      ]
    },
    {
      "cell_type": "markdown",
      "metadata": {
        "id": "Lcmg3qv0em1y"
      },
      "source": [
        "De manera que:\n",
        "    \n",
        "$$E[P_t]=P_0 e^{(\\mu + \\frac{\\sigma}{2})t}$$"
      ]
    },
    {
      "cell_type": "markdown",
      "metadata": {
        "id": "RYH3wHXXem1y"
      },
      "source": [
        "Y la varianza:\n",
        "    \n",
        "$$V[P_t]=P_0^2e^{2\\mu t}(e^{2t\\sigma^2}-e^{t\\sigma^2})$$"
      ]
    },
    {
      "cell_type": "markdown",
      "metadata": {
        "id": "7ezfub6Lem1y"
      },
      "source": [
        "Pero la cuestión práctica es: ¿Dados los precios de una acción, $P_0, P_1,...,P_t$, ¿cómo estimar $\\mu$ y $\\sigma$?"
      ]
    },
    {
      "cell_type": "markdown",
      "metadata": {
        "id": "KRCPhZq0em1y"
      },
      "source": [
        "Recordando que:\n",
        "\n",
        "$$R_t \\sim N(\\mu, \\sigma)$$\n",
        "\n",
        "y\n",
        "\n",
        "$$\\hat{\\mu} = \\frac{\\sum_{t=1}^{T}R_t}{T}$$\n",
        "\n",
        "y\n",
        "\n",
        "$$\\hat{\\sigma}=\\sqrt{\\frac{1}{T-1} \\sum_{t=1}^T (R_t - \\hat{\\mu})^2}$$"
      ]
    },
    {
      "cell_type": "markdown",
      "metadata": {
        "id": "P84oQJ3hem1y"
      },
      "source": [
        "En la práctica, dados:\n",
        "$$P_0, P_1, P_2, P_3, ...$$\n",
        "\n",
        "Calculamos:\n",
        "    \n",
        "$$R_1=\\log(\\frac{P_1}{P_0})$$\n",
        "\n",
        "$$R_2=\\log(\\frac{P_2}{P_1})$$\n",
        "\n",
        "$$R_3=\\log(\\frac{P_3}{P_2})$$\n",
        "\n",
        "$$R_4=\\log(\\frac{P_4}{P_3})$$\n",
        "\n",
        "$$...$$"
      ]
    },
    {
      "cell_type": "markdown",
      "metadata": {
        "id": "V1jdpZexem1y"
      },
      "source": [
        "Y calculamos la media y la desviación estándar de estos valores, y podemos observar que:\n",
        "\n",
        "* Si $\\hat{\\mu} + \\frac{\\hat{\\sigma}}{2} > 0$, la acción tiende a crecer.\n",
        "\n",
        "* Si $\\hat{\\mu} + \\frac{\\hat{\\sigma}}{2} \\approx 0$, la acción tiende a permanecer constante.\n",
        "\n",
        "* Si $\\hat{\\mu} + \\frac{\\hat{\\sigma}}{2} < 0$, la acción tiende a decrecer."
      ]
    },
    {
      "cell_type": "markdown",
      "metadata": {
        "id": "d6iQcvCJem1z"
      },
      "source": [
        "Y podemos implementar esto con el siguiente código, usando la librería investpy."
      ]
    },
    {
      "cell_type": "code",
      "execution_count": 11,
      "metadata": {},
      "outputs": [
        {
          "name": "stdout",
          "output_type": "stream",
          "text": [
            "Defaulting to user installation because normal site-packages is not writeable\n",
            "Collecting investpy\n",
            "  Downloading investpy-1.0.8.tar.gz (4.4 MB)\n",
            "Collecting Unidecode>=1.1.1\n",
            "  Downloading Unidecode-1.3.4-py3-none-any.whl (235 kB)\n",
            "Requirement already satisfied: setuptools>=41.2.0 in c:\\program files\\python39\\lib\\site-packages (from investpy) (56.0.0)\n",
            "Requirement already satisfied: numpy>=1.17.2 in c:\\users\\lenovo\\appdata\\roaming\\python\\python39\\site-packages (from investpy) (1.21.2)\n",
            "Requirement already satisfied: pandas>=0.25.1 in c:\\users\\lenovo\\appdata\\roaming\\python\\python39\\site-packages (from investpy) (1.3.2)\n",
            "Collecting lxml>=4.4.1\n",
            "  Downloading lxml-4.9.0-cp39-cp39-win_amd64.whl (3.6 MB)\n",
            "Collecting requests>=2.22.0\n",
            "  Downloading requests-2.28.0-py3-none-any.whl (62 kB)\n",
            "Requirement already satisfied: pytz>=2019.3 in c:\\users\\lenovo\\appdata\\roaming\\python\\python39\\site-packages (from investpy) (2021.1)\n",
            "Requirement already satisfied: python-dateutil>=2.7.3 in c:\\users\\lenovo\\appdata\\roaming\\python\\python39\\site-packages (from pandas>=0.25.1->investpy) (2.8.2)\n",
            "Requirement already satisfied: six>=1.5 in c:\\users\\lenovo\\appdata\\roaming\\python\\python39\\site-packages (from python-dateutil>=2.7.3->pandas>=0.25.1->investpy) (1.16.0)\n",
            "Collecting charset-normalizer~=2.0.0\n",
            "  Downloading charset_normalizer-2.0.12-py3-none-any.whl (39 kB)\n",
            "Collecting urllib3<1.27,>=1.21.1\n",
            "  Downloading urllib3-1.26.9-py2.py3-none-any.whl (138 kB)\n",
            "Collecting certifi>=2017.4.17\n",
            "  Downloading certifi-2022.5.18.1-py3-none-any.whl (155 kB)\n",
            "Collecting idna<4,>=2.5\n",
            "  Downloading idna-3.3-py3-none-any.whl (61 kB)\n",
            "Using legacy 'setup.py install' for investpy, since package 'wheel' is not installed.\n",
            "Installing collected packages: urllib3, idna, charset-normalizer, certifi, Unidecode, requests, lxml, investpy\n",
            "    Running setup.py install for investpy: started\n",
            "    Running setup.py install for investpy: finished with status 'done'\n",
            "Successfully installed Unidecode-1.3.4 certifi-2022.5.18.1 charset-normalizer-2.0.12 idna-3.3 investpy-1.0.8 lxml-4.9.0 requests-2.28.0 urllib3-1.26.9\n"
          ]
        },
        {
          "name": "stderr",
          "output_type": "stream",
          "text": [
            "  WARNING: The script normalizer.exe is installed in 'C:\\Users\\Lenovo\\AppData\\Roaming\\Python\\Python39\\Scripts' which is not on PATH.\n",
            "  Consider adding this directory to PATH or, if you prefer to suppress this warning, use --no-warn-script-location.\n",
            "  WARNING: The script unidecode.exe is installed in 'C:\\Users\\Lenovo\\AppData\\Roaming\\Python\\Python39\\Scripts' which is not on PATH.\n",
            "  Consider adding this directory to PATH or, if you prefer to suppress this warning, use --no-warn-script-location.\n",
            "WARNING: You are using pip version 21.2.4; however, version 22.1.2 is available.\n",
            "You should consider upgrading via the 'c:\\program files\\python39\\python.exe -m pip install --upgrade pip' command.\n"
          ]
        }
      ],
      "source": [
        "! pip install investpy"
      ]
    },
    {
      "cell_type": "code",
      "execution_count": 15,
      "metadata": {},
      "outputs": [
        {
          "name": "stdout",
          "output_type": "stream",
          "text": [
            "Defaulting to user installation because normal site-packages is not writeable\n",
            "Collecting pandas_datareader\n",
            "  Downloading pandas_datareader-0.10.0-py3-none-any.whl (109 kB)\n",
            "Requirement already satisfied: lxml in c:\\users\\lenovo\\appdata\\roaming\\python\\python39\\site-packages (from pandas_datareader) (4.9.0)\n",
            "Requirement already satisfied: pandas>=0.23 in c:\\users\\lenovo\\appdata\\roaming\\python\\python39\\site-packages (from pandas_datareader) (1.3.2)\n",
            "Requirement already satisfied: requests>=2.19.0 in c:\\users\\lenovo\\appdata\\roaming\\python\\python39\\site-packages (from pandas_datareader) (2.28.0)\n",
            "Requirement already satisfied: python-dateutil>=2.7.3 in c:\\users\\lenovo\\appdata\\roaming\\python\\python39\\site-packages (from pandas>=0.23->pandas_datareader) (2.8.2)\n",
            "Requirement already satisfied: pytz>=2017.3 in c:\\users\\lenovo\\appdata\\roaming\\python\\python39\\site-packages (from pandas>=0.23->pandas_datareader) (2021.1)\n",
            "Requirement already satisfied: numpy>=1.17.3 in c:\\users\\lenovo\\appdata\\roaming\\python\\python39\\site-packages (from pandas>=0.23->pandas_datareader) (1.21.2)\n",
            "Requirement already satisfied: six>=1.5 in c:\\users\\lenovo\\appdata\\roaming\\python\\python39\\site-packages (from python-dateutil>=2.7.3->pandas>=0.23->pandas_datareader) (1.16.0)\n",
            "Requirement already satisfied: certifi>=2017.4.17 in c:\\users\\lenovo\\appdata\\roaming\\python\\python39\\site-packages (from requests>=2.19.0->pandas_datareader) (2022.5.18.1)\n",
            "Requirement already satisfied: charset-normalizer~=2.0.0 in c:\\users\\lenovo\\appdata\\roaming\\python\\python39\\site-packages (from requests>=2.19.0->pandas_datareader) (2.0.12)\n",
            "Requirement already satisfied: idna<4,>=2.5 in c:\\users\\lenovo\\appdata\\roaming\\python\\python39\\site-packages (from requests>=2.19.0->pandas_datareader) (3.3)\n",
            "Requirement already satisfied: urllib3<1.27,>=1.21.1 in c:\\users\\lenovo\\appdata\\roaming\\python\\python39\\site-packages (from requests>=2.19.0->pandas_datareader) (1.26.9)\n",
            "Installing collected packages: pandas-datareader\n",
            "Successfully installed pandas-datareader-0.10.0\n"
          ]
        },
        {
          "name": "stderr",
          "output_type": "stream",
          "text": [
            "WARNING: You are using pip version 21.2.4; however, version 22.1.2 is available.\n",
            "You should consider upgrading via the 'c:\\program files\\python39\\python.exe -m pip install --upgrade pip' command.\n"
          ]
        }
      ],
      "source": [
        "! pip install pandas_datareader"
      ]
    },
    {
      "cell_type": "code",
      "execution_count": 16,
      "metadata": {
        "id": "DMoEbutbem1z"
      },
      "outputs": [],
      "source": [
        "from statistics import mean,stdev,pstdev\n",
        "from math import log\n",
        "import pandas_datareader as pdr\n",
        "import datetime\n",
        "import pandas as pd\n",
        "import matplotlib.pyplot as plt\n",
        "import investpy"
      ]
    },
    {
      "cell_type": "markdown",
      "metadata": {
        "id": "z5pDPBpZem1z"
      },
      "source": [
        "Pero antes, recordemos un poco de Pandas"
      ]
    },
    {
      "cell_type": "markdown",
      "metadata": {
        "id": "-YDBuzcAem1z"
      },
      "source": [
        "Cargamos los datos y los guardamos."
      ]
    },
    {
      "cell_type": "code",
      "execution_count": 17,
      "metadata": {
        "id": "tKaj3FUuem1z"
      },
      "outputs": [],
      "source": [
        "#df abreviación de data frame\n",
        "df=investpy.get_stock_historical_data(stock=\"DIS\",country=\"Mexico\",from_date=\"01/01/2022\", to_date=\"31/05/2022\")\n",
        "\n",
        "df.to_csv(\"datos.csv\")"
      ]
    },
    {
      "cell_type": "markdown",
      "metadata": {
        "id": "D3G7jIj7em10"
      },
      "source": [
        "Podemos usar las funciones de Pandas para analizar los datos."
      ]
    },
    {
      "cell_type": "code",
      "execution_count": 18,
      "metadata": {
        "id": "Qm36XJgqem10"
      },
      "outputs": [
        {
          "data": {
            "text/plain": [
              "pandas.core.frame.DataFrame"
            ]
          },
          "execution_count": 18,
          "metadata": {},
          "output_type": "execute_result"
        }
      ],
      "source": [
        "type(df) # Checamos el tipo de dato"
      ]
    },
    {
      "cell_type": "code",
      "execution_count": 19,
      "metadata": {
        "id": "FgEX7bY7em10"
      },
      "outputs": [
        {
          "data": {
            "text/plain": [
              "(103, 6)"
            ]
          },
          "execution_count": 19,
          "metadata": {},
          "output_type": "execute_result"
        }
      ],
      "source": [
        "df.shape # Este es un atributo, no una función. Devuelve (número de renglones, número de columnas)"
      ]
    },
    {
      "cell_type": "code",
      "execution_count": 20,
      "metadata": {
        "id": "ABrQyHzzem10"
      },
      "outputs": [
        {
          "data": {
            "text/html": [
              "<div>\n",
              "<style scoped>\n",
              "    .dataframe tbody tr th:only-of-type {\n",
              "        vertical-align: middle;\n",
              "    }\n",
              "\n",
              "    .dataframe tbody tr th {\n",
              "        vertical-align: top;\n",
              "    }\n",
              "\n",
              "    .dataframe thead th {\n",
              "        text-align: right;\n",
              "    }\n",
              "</style>\n",
              "<table border=\"1\" class=\"dataframe\">\n",
              "  <thead>\n",
              "    <tr style=\"text-align: right;\">\n",
              "      <th></th>\n",
              "      <th>Open</th>\n",
              "      <th>High</th>\n",
              "      <th>Low</th>\n",
              "      <th>Close</th>\n",
              "      <th>Volume</th>\n",
              "      <th>Currency</th>\n",
              "    </tr>\n",
              "    <tr>\n",
              "      <th>Date</th>\n",
              "      <th></th>\n",
              "      <th></th>\n",
              "      <th></th>\n",
              "      <th></th>\n",
              "      <th></th>\n",
              "      <th></th>\n",
              "    </tr>\n",
              "  </thead>\n",
              "  <tbody>\n",
              "    <tr>\n",
              "      <th>2022-01-03</th>\n",
              "      <td>3200.00</td>\n",
              "      <td>3244.09</td>\n",
              "      <td>3199.99</td>\n",
              "      <td>3213.13</td>\n",
              "      <td>1873</td>\n",
              "      <td>MXN</td>\n",
              "    </tr>\n",
              "    <tr>\n",
              "      <th>2022-01-04</th>\n",
              "      <td>3250.00</td>\n",
              "      <td>3299.91</td>\n",
              "      <td>3190.01</td>\n",
              "      <td>3203.39</td>\n",
              "      <td>8362</td>\n",
              "      <td>MXN</td>\n",
              "    </tr>\n",
              "    <tr>\n",
              "      <th>2022-01-05</th>\n",
              "      <td>3200.00</td>\n",
              "      <td>3255.86</td>\n",
              "      <td>3187.75</td>\n",
              "      <td>3205.20</td>\n",
              "      <td>5092</td>\n",
              "      <td>MXN</td>\n",
              "    </tr>\n",
              "    <tr>\n",
              "      <th>2022-01-06</th>\n",
              "      <td>3205.20</td>\n",
              "      <td>3242.00</td>\n",
              "      <td>3140.01</td>\n",
              "      <td>3222.93</td>\n",
              "      <td>3863</td>\n",
              "      <td>MXN</td>\n",
              "    </tr>\n",
              "    <tr>\n",
              "      <th>2022-01-07</th>\n",
              "      <td>3215.50</td>\n",
              "      <td>3249.98</td>\n",
              "      <td>3206.01</td>\n",
              "      <td>3221.94</td>\n",
              "      <td>7552</td>\n",
              "      <td>MXN</td>\n",
              "    </tr>\n",
              "    <tr>\n",
              "      <th>...</th>\n",
              "      <td>...</td>\n",
              "      <td>...</td>\n",
              "      <td>...</td>\n",
              "      <td>...</td>\n",
              "      <td>...</td>\n",
              "      <td>...</td>\n",
              "    </tr>\n",
              "    <tr>\n",
              "      <th>2022-05-25</th>\n",
              "      <td>2011.60</td>\n",
              "      <td>2073.13</td>\n",
              "      <td>2011.60</td>\n",
              "      <td>2063.81</td>\n",
              "      <td>2589</td>\n",
              "      <td>MXN</td>\n",
              "    </tr>\n",
              "    <tr>\n",
              "      <th>2022-05-26</th>\n",
              "      <td>2073.15</td>\n",
              "      <td>2099.99</td>\n",
              "      <td>2060.01</td>\n",
              "      <td>2079.34</td>\n",
              "      <td>12138</td>\n",
              "      <td>MXN</td>\n",
              "    </tr>\n",
              "    <tr>\n",
              "      <th>2022-05-27</th>\n",
              "      <td>2105.00</td>\n",
              "      <td>2149.97</td>\n",
              "      <td>2095.00</td>\n",
              "      <td>2138.18</td>\n",
              "      <td>8852</td>\n",
              "      <td>MXN</td>\n",
              "    </tr>\n",
              "    <tr>\n",
              "      <th>2022-05-30</th>\n",
              "      <td>2144.50</td>\n",
              "      <td>2163.00</td>\n",
              "      <td>2144.50</td>\n",
              "      <td>2157.03</td>\n",
              "      <td>247</td>\n",
              "      <td>MXN</td>\n",
              "    </tr>\n",
              "    <tr>\n",
              "      <th>2022-05-31</th>\n",
              "      <td>2176.15</td>\n",
              "      <td>2187.98</td>\n",
              "      <td>2120.00</td>\n",
              "      <td>2177.00</td>\n",
              "      <td>10019</td>\n",
              "      <td>MXN</td>\n",
              "    </tr>\n",
              "  </tbody>\n",
              "</table>\n",
              "<p>103 rows × 6 columns</p>\n",
              "</div>"
            ],
            "text/plain": [
              "               Open     High      Low    Close  Volume Currency\n",
              "Date                                                           \n",
              "2022-01-03  3200.00  3244.09  3199.99  3213.13    1873      MXN\n",
              "2022-01-04  3250.00  3299.91  3190.01  3203.39    8362      MXN\n",
              "2022-01-05  3200.00  3255.86  3187.75  3205.20    5092      MXN\n",
              "2022-01-06  3205.20  3242.00  3140.01  3222.93    3863      MXN\n",
              "2022-01-07  3215.50  3249.98  3206.01  3221.94    7552      MXN\n",
              "...             ...      ...      ...      ...     ...      ...\n",
              "2022-05-25  2011.60  2073.13  2011.60  2063.81    2589      MXN\n",
              "2022-05-26  2073.15  2099.99  2060.01  2079.34   12138      MXN\n",
              "2022-05-27  2105.00  2149.97  2095.00  2138.18    8852      MXN\n",
              "2022-05-30  2144.50  2163.00  2144.50  2157.03     247      MXN\n",
              "2022-05-31  2176.15  2187.98  2120.00  2177.00   10019      MXN\n",
              "\n",
              "[103 rows x 6 columns]"
            ]
          },
          "execution_count": 20,
          "metadata": {},
          "output_type": "execute_result"
        }
      ],
      "source": [
        "df"
      ]
    },
    {
      "cell_type": "code",
      "execution_count": 21,
      "metadata": {
        "id": "KaFztQXcem10"
      },
      "outputs": [
        {
          "name": "stdout",
          "output_type": "stream",
          "text": [
            "              Open     High      Low    Close  Volume Currency\n",
            "Date                                                          \n",
            "2022-01-03  3200.0  3244.09  3199.99  3213.13    1873      MXN\n",
            "2022-01-04  3250.0  3299.91  3190.01  3203.39    8362      MXN\n",
            "2022-01-05  3200.0  3255.86  3187.75  3205.20    5092      MXN\n",
            "2022-01-06  3205.2  3242.00  3140.01  3222.93    3863      MXN\n",
            "2022-01-07  3215.5  3249.98  3206.01  3221.94    7552      MXN\n"
          ]
        }
      ],
      "source": [
        "print(df.head()) # La función head() muestra los primeros 5 renglones del data frame"
      ]
    },
    {
      "cell_type": "markdown",
      "metadata": {
        "id": "Ps2MAdhfem10"
      },
      "source": [
        "Generalmente, comenzamos a analizar un data frame conociendo su tamaño y la información que contiene."
      ]
    },
    {
      "cell_type": "code",
      "execution_count": 22,
      "metadata": {
        "id": "0tD79zlJem11"
      },
      "outputs": [
        {
          "data": {
            "text/plain": [
              "Index(['Open', 'High', 'Low', 'Close', 'Volume', 'Currency'], dtype='object')"
            ]
          },
          "execution_count": 22,
          "metadata": {},
          "output_type": "execute_result"
        }
      ],
      "source": [
        "df.columns # Da el nombre de las columnas"
      ]
    },
    {
      "cell_type": "markdown",
      "metadata": {
        "id": "cf_m3gVrem11"
      },
      "source": [
        "Cada columna debe ser del mismo tipo, pero un renglón puede tener objetos de diferentes tipos."
      ]
    },
    {
      "cell_type": "code",
      "execution_count": 23,
      "metadata": {
        "id": "8Ty_0uYQem11"
      },
      "outputs": [
        {
          "data": {
            "text/plain": [
              "Open        float64\n",
              "High        float64\n",
              "Low         float64\n",
              "Close       float64\n",
              "Volume        int64\n",
              "Currency     object\n",
              "dtype: object"
            ]
          },
          "execution_count": 23,
          "metadata": {},
          "output_type": "execute_result"
        }
      ],
      "source": [
        "df.dtypes # Da el tipo de objeto que guardan las columnas"
      ]
    },
    {
      "cell_type": "code",
      "execution_count": 24,
      "metadata": {
        "id": "U8w-cg5Rem11"
      },
      "outputs": [
        {
          "name": "stdout",
          "output_type": "stream",
          "text": [
            "<class 'pandas.core.frame.DataFrame'>\n",
            "DatetimeIndex: 103 entries, 2022-01-03 to 2022-05-31\n",
            "Data columns (total 6 columns):\n",
            " #   Column    Non-Null Count  Dtype  \n",
            "---  ------    --------------  -----  \n",
            " 0   Open      103 non-null    float64\n",
            " 1   High      103 non-null    float64\n",
            " 2   Low       103 non-null    float64\n",
            " 3   Close     103 non-null    float64\n",
            " 4   Volume    103 non-null    int64  \n",
            " 5   Currency  103 non-null    object \n",
            "dtypes: float64(4), int64(1), object(1)\n",
            "memory usage: 5.6+ KB\n"
          ]
        }
      ],
      "source": [
        "df.info() # Esta función da información más amplia"
      ]
    },
    {
      "cell_type": "markdown",
      "metadata": {
        "id": "WskfeOvtem11"
      },
      "source": [
        "Podemos elegir columnas en particular para visualizar."
      ]
    },
    {
      "cell_type": "code",
      "execution_count": 37,
      "metadata": {
        "id": "VEvUuWT-em12"
      },
      "outputs": [],
      "source": [
        "c_df=df['Close'] # Elejimos la columna y la guardamos como una nueva variable"
      ]
    },
    {
      "cell_type": "code",
      "execution_count": 26,
      "metadata": {
        "id": "Una67IOLem12"
      },
      "outputs": [
        {
          "data": {
            "text/plain": [
              "Date\n",
              "2022-01-03    3213.13\n",
              "2022-01-04    3203.39\n",
              "2022-01-05    3205.20\n",
              "2022-01-06    3222.93\n",
              "2022-01-07    3221.94\n",
              "Name: Close, dtype: float64"
            ]
          },
          "execution_count": 26,
          "metadata": {},
          "output_type": "execute_result"
        }
      ],
      "source": [
        "c_df.head() # mostramos los primeros 5 renglones"
      ]
    },
    {
      "cell_type": "code",
      "execution_count": 27,
      "metadata": {
        "id": "9LNW87Ijem12"
      },
      "outputs": [
        {
          "data": {
            "text/plain": [
              "Date\n",
              "2022-05-25    2063.81\n",
              "2022-05-26    2079.34\n",
              "2022-05-27    2138.18\n",
              "2022-05-30    2157.03\n",
              "2022-05-31    2177.00\n",
              "Name: Close, dtype: float64"
            ]
          },
          "execution_count": 27,
          "metadata": {},
          "output_type": "execute_result"
        }
      ],
      "source": [
        "c_df.tail() # mostramos los últimos 5 renglones"
      ]
    },
    {
      "cell_type": "code",
      "execution_count": 28,
      "metadata": {
        "id": "pXsHA8kkem12"
      },
      "outputs": [],
      "source": [
        "o_df=df.Open # También podemos elegir la columna nombrandola directamente"
      ]
    },
    {
      "cell_type": "code",
      "execution_count": 29,
      "metadata": {
        "id": "dR9w2gCIem12"
      },
      "outputs": [
        {
          "data": {
            "text/plain": [
              "Date\n",
              "2022-01-03    3200.0\n",
              "2022-01-04    3250.0\n",
              "2022-01-05    3200.0\n",
              "2022-01-06    3205.2\n",
              "2022-01-07    3215.5\n",
              "Name: Open, dtype: float64"
            ]
          },
          "execution_count": 29,
          "metadata": {},
          "output_type": "execute_result"
        }
      ],
      "source": [
        "o_df.head()"
      ]
    },
    {
      "cell_type": "code",
      "execution_count": 30,
      "metadata": {
        "id": "FXlaClrLem12"
      },
      "outputs": [],
      "source": [
        "subset=df[['Open','Close']] # Para especificar varias columnas usamos corchetes dobles"
      ]
    },
    {
      "cell_type": "code",
      "execution_count": 31,
      "metadata": {
        "id": "1ZtXVmf8em13"
      },
      "outputs": [
        {
          "data": {
            "text/html": [
              "<div>\n",
              "<style scoped>\n",
              "    .dataframe tbody tr th:only-of-type {\n",
              "        vertical-align: middle;\n",
              "    }\n",
              "\n",
              "    .dataframe tbody tr th {\n",
              "        vertical-align: top;\n",
              "    }\n",
              "\n",
              "    .dataframe thead th {\n",
              "        text-align: right;\n",
              "    }\n",
              "</style>\n",
              "<table border=\"1\" class=\"dataframe\">\n",
              "  <thead>\n",
              "    <tr style=\"text-align: right;\">\n",
              "      <th></th>\n",
              "      <th>Open</th>\n",
              "      <th>Close</th>\n",
              "    </tr>\n",
              "    <tr>\n",
              "      <th>Date</th>\n",
              "      <th></th>\n",
              "      <th></th>\n",
              "    </tr>\n",
              "  </thead>\n",
              "  <tbody>\n",
              "    <tr>\n",
              "      <th>2022-01-03</th>\n",
              "      <td>3200.0</td>\n",
              "      <td>3213.13</td>\n",
              "    </tr>\n",
              "    <tr>\n",
              "      <th>2022-01-04</th>\n",
              "      <td>3250.0</td>\n",
              "      <td>3203.39</td>\n",
              "    </tr>\n",
              "    <tr>\n",
              "      <th>2022-01-05</th>\n",
              "      <td>3200.0</td>\n",
              "      <td>3205.20</td>\n",
              "    </tr>\n",
              "    <tr>\n",
              "      <th>2022-01-06</th>\n",
              "      <td>3205.2</td>\n",
              "      <td>3222.93</td>\n",
              "    </tr>\n",
              "    <tr>\n",
              "      <th>2022-01-07</th>\n",
              "      <td>3215.5</td>\n",
              "      <td>3221.94</td>\n",
              "    </tr>\n",
              "  </tbody>\n",
              "</table>\n",
              "</div>"
            ],
            "text/plain": [
              "              Open    Close\n",
              "Date                       \n",
              "2022-01-03  3200.0  3213.13\n",
              "2022-01-04  3250.0  3203.39\n",
              "2022-01-05  3200.0  3205.20\n",
              "2022-01-06  3205.2  3222.93\n",
              "2022-01-07  3215.5  3221.94"
            ]
          },
          "execution_count": 31,
          "metadata": {},
          "output_type": "execute_result"
        }
      ],
      "source": [
        "subset.head()"
      ]
    },
    {
      "cell_type": "code",
      "execution_count": 32,
      "metadata": {
        "id": "5cnbkf2wem13"
      },
      "outputs": [
        {
          "data": {
            "text/html": [
              "<div>\n",
              "<style scoped>\n",
              "    .dataframe tbody tr th:only-of-type {\n",
              "        vertical-align: middle;\n",
              "    }\n",
              "\n",
              "    .dataframe tbody tr th {\n",
              "        vertical-align: top;\n",
              "    }\n",
              "\n",
              "    .dataframe thead th {\n",
              "        text-align: right;\n",
              "    }\n",
              "</style>\n",
              "<table border=\"1\" class=\"dataframe\">\n",
              "  <thead>\n",
              "    <tr style=\"text-align: right;\">\n",
              "      <th></th>\n",
              "      <th>Open</th>\n",
              "      <th>Close</th>\n",
              "    </tr>\n",
              "    <tr>\n",
              "      <th>Date</th>\n",
              "      <th></th>\n",
              "      <th></th>\n",
              "    </tr>\n",
              "  </thead>\n",
              "  <tbody>\n",
              "    <tr>\n",
              "      <th>2022-01-03</th>\n",
              "      <td>3200.00</td>\n",
              "      <td>3213.13</td>\n",
              "    </tr>\n",
              "    <tr>\n",
              "      <th>2022-01-04</th>\n",
              "      <td>3250.00</td>\n",
              "      <td>3203.39</td>\n",
              "    </tr>\n",
              "    <tr>\n",
              "      <th>2022-01-05</th>\n",
              "      <td>3200.00</td>\n",
              "      <td>3205.20</td>\n",
              "    </tr>\n",
              "    <tr>\n",
              "      <th>2022-01-06</th>\n",
              "      <td>3205.20</td>\n",
              "      <td>3222.93</td>\n",
              "    </tr>\n",
              "    <tr>\n",
              "      <th>2022-01-07</th>\n",
              "      <td>3215.50</td>\n",
              "      <td>3221.94</td>\n",
              "    </tr>\n",
              "    <tr>\n",
              "      <th>2022-01-10</th>\n",
              "      <td>3208.00</td>\n",
              "      <td>3184.32</td>\n",
              "    </tr>\n",
              "    <tr>\n",
              "      <th>2022-01-11</th>\n",
              "      <td>3198.99</td>\n",
              "      <td>3213.04</td>\n",
              "    </tr>\n",
              "    <tr>\n",
              "      <th>2022-01-12</th>\n",
              "      <td>3230.00</td>\n",
              "      <td>3207.09</td>\n",
              "    </tr>\n",
              "    <tr>\n",
              "      <th>2022-01-13</th>\n",
              "      <td>3207.09</td>\n",
              "      <td>3167.87</td>\n",
              "    </tr>\n",
              "    <tr>\n",
              "      <th>2022-01-14</th>\n",
              "      <td>3153.27</td>\n",
              "      <td>3082.51</td>\n",
              "    </tr>\n",
              "  </tbody>\n",
              "</table>\n",
              "</div>"
            ],
            "text/plain": [
              "               Open    Close\n",
              "Date                        \n",
              "2022-01-03  3200.00  3213.13\n",
              "2022-01-04  3250.00  3203.39\n",
              "2022-01-05  3200.00  3205.20\n",
              "2022-01-06  3205.20  3222.93\n",
              "2022-01-07  3215.50  3221.94\n",
              "2022-01-10  3208.00  3184.32\n",
              "2022-01-11  3198.99  3213.04\n",
              "2022-01-12  3230.00  3207.09\n",
              "2022-01-13  3207.09  3167.87\n",
              "2022-01-14  3153.27  3082.51"
            ]
          },
          "execution_count": 32,
          "metadata": {},
          "output_type": "execute_result"
        }
      ],
      "source": [
        "subset.head(n=10) # podemos ver más renglones"
      ]
    },
    {
      "cell_type": "code",
      "execution_count": 33,
      "metadata": {
        "id": "cFnKJFLkem13"
      },
      "outputs": [
        {
          "data": {
            "text/html": [
              "<div>\n",
              "<style scoped>\n",
              "    .dataframe tbody tr th:only-of-type {\n",
              "        vertical-align: middle;\n",
              "    }\n",
              "\n",
              "    .dataframe tbody tr th {\n",
              "        vertical-align: top;\n",
              "    }\n",
              "\n",
              "    .dataframe thead th {\n",
              "        text-align: right;\n",
              "    }\n",
              "</style>\n",
              "<table border=\"1\" class=\"dataframe\">\n",
              "  <thead>\n",
              "    <tr style=\"text-align: right;\">\n",
              "      <th></th>\n",
              "      <th>Open</th>\n",
              "      <th>Close</th>\n",
              "    </tr>\n",
              "    <tr>\n",
              "      <th>Date</th>\n",
              "      <th></th>\n",
              "      <th></th>\n",
              "    </tr>\n",
              "  </thead>\n",
              "  <tbody>\n",
              "    <tr>\n",
              "      <th>2022-05-25</th>\n",
              "      <td>2011.60</td>\n",
              "      <td>2063.81</td>\n",
              "    </tr>\n",
              "    <tr>\n",
              "      <th>2022-05-26</th>\n",
              "      <td>2073.15</td>\n",
              "      <td>2079.34</td>\n",
              "    </tr>\n",
              "    <tr>\n",
              "      <th>2022-05-27</th>\n",
              "      <td>2105.00</td>\n",
              "      <td>2138.18</td>\n",
              "    </tr>\n",
              "    <tr>\n",
              "      <th>2022-05-30</th>\n",
              "      <td>2144.50</td>\n",
              "      <td>2157.03</td>\n",
              "    </tr>\n",
              "    <tr>\n",
              "      <th>2022-05-31</th>\n",
              "      <td>2176.15</td>\n",
              "      <td>2177.00</td>\n",
              "    </tr>\n",
              "  </tbody>\n",
              "</table>\n",
              "</div>"
            ],
            "text/plain": [
              "               Open    Close\n",
              "Date                        \n",
              "2022-05-25  2011.60  2063.81\n",
              "2022-05-26  2073.15  2079.34\n",
              "2022-05-27  2105.00  2138.18\n",
              "2022-05-30  2144.50  2157.03\n",
              "2022-05-31  2176.15  2177.00"
            ]
          },
          "execution_count": 33,
          "metadata": {},
          "output_type": "execute_result"
        }
      ],
      "source": [
        "subset.tail()"
      ]
    },
    {
      "cell_type": "code",
      "execution_count": 34,
      "metadata": {
        "id": "5rrQ3oV-em13"
      },
      "outputs": [
        {
          "data": {
            "text/html": [
              "<div>\n",
              "<style scoped>\n",
              "    .dataframe tbody tr th:only-of-type {\n",
              "        vertical-align: middle;\n",
              "    }\n",
              "\n",
              "    .dataframe tbody tr th {\n",
              "        vertical-align: top;\n",
              "    }\n",
              "\n",
              "    .dataframe thead th {\n",
              "        text-align: right;\n",
              "    }\n",
              "</style>\n",
              "<table border=\"1\" class=\"dataframe\">\n",
              "  <thead>\n",
              "    <tr style=\"text-align: right;\">\n",
              "      <th></th>\n",
              "      <th>Open</th>\n",
              "      <th>Close</th>\n",
              "    </tr>\n",
              "    <tr>\n",
              "      <th>Date</th>\n",
              "      <th></th>\n",
              "      <th></th>\n",
              "    </tr>\n",
              "  </thead>\n",
              "  <tbody>\n",
              "    <tr>\n",
              "      <th>2022-01-03</th>\n",
              "      <td>3200.00</td>\n",
              "      <td>3213.13</td>\n",
              "    </tr>\n",
              "    <tr>\n",
              "      <th>2022-01-04</th>\n",
              "      <td>3250.00</td>\n",
              "      <td>3203.39</td>\n",
              "    </tr>\n",
              "    <tr>\n",
              "      <th>2022-01-05</th>\n",
              "      <td>3200.00</td>\n",
              "      <td>3205.20</td>\n",
              "    </tr>\n",
              "    <tr>\n",
              "      <th>2022-01-06</th>\n",
              "      <td>3205.20</td>\n",
              "      <td>3222.93</td>\n",
              "    </tr>\n",
              "    <tr>\n",
              "      <th>2022-01-07</th>\n",
              "      <td>3215.50</td>\n",
              "      <td>3221.94</td>\n",
              "    </tr>\n",
              "    <tr>\n",
              "      <th>...</th>\n",
              "      <td>...</td>\n",
              "      <td>...</td>\n",
              "    </tr>\n",
              "    <tr>\n",
              "      <th>2022-05-25</th>\n",
              "      <td>2011.60</td>\n",
              "      <td>2063.81</td>\n",
              "    </tr>\n",
              "    <tr>\n",
              "      <th>2022-05-26</th>\n",
              "      <td>2073.15</td>\n",
              "      <td>2079.34</td>\n",
              "    </tr>\n",
              "    <tr>\n",
              "      <th>2022-05-27</th>\n",
              "      <td>2105.00</td>\n",
              "      <td>2138.18</td>\n",
              "    </tr>\n",
              "    <tr>\n",
              "      <th>2022-05-30</th>\n",
              "      <td>2144.50</td>\n",
              "      <td>2157.03</td>\n",
              "    </tr>\n",
              "    <tr>\n",
              "      <th>2022-05-31</th>\n",
              "      <td>2176.15</td>\n",
              "      <td>2177.00</td>\n",
              "    </tr>\n",
              "  </tbody>\n",
              "</table>\n",
              "<p>103 rows × 2 columns</p>\n",
              "</div>"
            ],
            "text/plain": [
              "               Open    Close\n",
              "Date                        \n",
              "2022-01-03  3200.00  3213.13\n",
              "2022-01-04  3250.00  3203.39\n",
              "2022-01-05  3200.00  3205.20\n",
              "2022-01-06  3205.20  3222.93\n",
              "2022-01-07  3215.50  3221.94\n",
              "...             ...      ...\n",
              "2022-05-25  2011.60  2063.81\n",
              "2022-05-26  2073.15  2079.34\n",
              "2022-05-27  2105.00  2138.18\n",
              "2022-05-30  2144.50  2157.03\n",
              "2022-05-31  2176.15  2177.00\n",
              "\n",
              "[103 rows x 2 columns]"
            ]
          },
          "execution_count": 34,
          "metadata": {},
          "output_type": "execute_result"
        }
      ],
      "source": [
        "subset # se puede imprimir todo"
      ]
    },
    {
      "cell_type": "code",
      "execution_count": 38,
      "metadata": {
        "id": "1J_ulwHVem14"
      },
      "outputs": [
        {
          "data": {
            "text/plain": [
              "Date\n",
              "2022-03-15    2786.01\n",
              "2022-03-16    2835.88\n",
              "2022-03-17    2840.01\n",
              "2022-03-18    2860.16\n",
              "2022-03-22    2842.94\n",
              "Name: Close, dtype: float64"
            ]
          },
          "execution_count": 38,
          "metadata": {},
          "output_type": "execute_result"
        }
      ],
      "source": [
        "df[50:55]['Close']"
      ]
    },
    {
      "cell_type": "markdown",
      "metadata": {
        "id": "emt8q0Lwem14"
      },
      "source": [
        "Podemos graficar los precios y calcular las estadisticas de los rendimientos logaritmizados"
      ]
    },
    {
      "cell_type": "code",
      "execution_count": 40,
      "metadata": {
        "id": "vmJWRuCOem14"
      },
      "outputs": [
        {
          "name": "stdout",
          "output_type": "stream",
          "text": [
            "Date\n",
            "2021-05-24    3466.21\n",
            "2021-05-25    3498.99\n",
            "2021-05-26    3510.33\n",
            "2021-05-27    3571.40\n",
            "2021-05-28    3566.77\n",
            "               ...   \n",
            "2022-05-18    2086.85\n",
            "2022-05-19    2059.17\n",
            "2022-05-20    2029.79\n",
            "2022-05-23    2102.30\n",
            "2022-05-24    2016.09\n",
            "Name: Close, Length: 255, dtype: float64\n"
          ]
        },
        {
          "data": {
            "image/png": "[encoded data removed]",
            "text/plain": [
              "<Figure size 432x288 with 1 Axes>"
            ]
          },
          "metadata": {
            "needs_background": "light"
          },
          "output_type": "display_data"
        },
        {
          "name": "stdout",
          "output_type": "stream",
          "text": [
            "\n",
            " El rendimiento medio es: 0.0022766495545119485,\n",
            " La desviación muestral es: 0.016888210290821618 \n",
            " La desviación poblacional es: 0.016854932996831943\n"
          ]
        }
      ],
      "source": [
        "datos=investpy.get_stock_historical_data(stock=\"DIS\",country=\"Mexico\",from_date=\"24/05/2021\", to_date=\"24/05/2022\")\n",
        "\n",
        "datos.to_csv(\"datos.csv\")\n",
        "\n",
        "\n",
        "datos=pd.read_csv(\"datos.csv\",header=0,index_col=\"Date\",parse_dates=True) #le peidmos leer los datos del csv \n",
        "\n",
        "\n",
        "ts=datos[\"Close\"] #que tome los valores de precio de cierre de la acci+on \n",
        "print(ts)\n",
        "\n",
        "lp=[] #creamos una lista vacia para los precios \n",
        "\n",
        "for i in range(len(ts)):\n",
        "     lp.append(ts.iloc[i])\n",
        "plt.plot(lp) #grafica de los precios\n",
        "plt.show()\n",
        "\n",
        "#calcular los rendimientos\n",
        "\n",
        "lr=[] #lista de rendimientos\n",
        "for i in range(1,len(lp)):\n",
        "     lr.append((lp[i-1]/lp[i])-1) #para los rendimientos usamos la formula de el precio de cierre anterior entre el precio de cierre actual menos 1\n",
        "\n",
        "print(f\"\\n El rendimiento medio es: {mean(lr)},\\n La desviación muestral es: {stdev(lr)} \\n La desviación poblacional es: {pstdev(lr)}\")\n",
        "\n",
        "\n"
      ]
    },
    {
      "cell_type": "markdown",
      "metadata": {
        "id": "RCKBzrQCem14"
      },
      "source": [
        "Y podemos visualizar el rendimiento"
      ]
    },
    {
      "cell_type": "code",
      "execution_count": 41,
      "metadata": {
        "id": "mmowS0ACem14"
      },
      "outputs": [
        {
          "data": {
            "image/png": "[encoded data removed]",
            "text/plain": [
              "<Figure size 432x288 with 1 Axes>"
            ]
          },
          "metadata": {
            "needs_background": "light"
          },
          "output_type": "display_data"
        },
        {
          "name": "stdout",
          "output_type": "stream",
          "text": [
            "-0.0021334715982792313 0.016778914675829766\n"
          ]
        }
      ],
      "source": [
        "lr=[]\n",
        "for i in range(1,len(lp)):\n",
        "    lr.append(log(lp[i]/lp[i-1]))\n",
        "plt.plot(lr)\n",
        "plt.show()\n",
        "print(mean(lr), stdev(lr))"
      ]
    },
    {
      "cell_type": "markdown",
      "metadata": {
        "id": "Z-L8AlTMem14"
      },
      "source": [
        "Y graficarlos juntos, mostrará las fluctuaciones en los mismos puntos"
      ]
    },
    {
      "cell_type": "code",
      "execution_count": 42,
      "metadata": {
        "id": "RhbGlhlhem14"
      },
      "outputs": [
        {
          "data": {
            "text/plain": [
              "[<matplotlib.lines.Line2D at 0x2ad9038cd90>]"
            ]
          },
          "execution_count": 42,
          "metadata": {},
          "output_type": "execute_result"
        },
        {
          "data": {
            "image/png": "[encoded data removed]",
            "text/plain": [
              "<Figure size 1152x576 with 2 Axes>"
            ]
          },
          "metadata": {
            "needs_background": "light"
          },
          "output_type": "display_data"
        }
      ],
      "source": [
        "fig, ax=plt.subplots(2,1,figsize=(16,8), sharex=True)\n",
        "ax[0].plot(lp)\n",
        "ax[1].plot(lr)"
      ]
    },
    {
      "cell_type": "code",
      "execution_count": null,
      "metadata": {
        "id": "KspjWWTpem15"
      },
      "outputs": [],
      "source": []
    },
    {
      "cell_type": "markdown",
      "metadata": {
        "id": "rA63srYhem15"
      },
      "source": [
        "#### Opciones"
      ]
    },
    {
      "cell_type": "markdown",
      "metadata": {
        "id": "3fjKxFqTem15"
      },
      "source": [
        "Entonces, Tenemos que $P_t=P_0 e^{\\mu t +\\sigma \\beta_t}$"
      ]
    },
    {
      "cell_type": "markdown",
      "metadata": {
        "id": "FflsjVdQem15"
      },
      "source": [
        "De manera que:\n",
        "    \n",
        "$$E[P_t]=P_0 e^{(\\mu + \\frac{\\sigma}{2})t}$$"
      ]
    },
    {
      "cell_type": "markdown",
      "metadata": {
        "id": "CEUCOassem15"
      },
      "source": [
        "Podemos reescribir el precio como:\n",
        "    \n",
        "$$P_t=P_0 e^{(\\mu - \\frac{\\sigma}{2})t + \\sigma \\beta_t}$$"
      ]
    },
    {
      "cell_type": "markdown",
      "metadata": {
        "id": "BvlJq1G5em15"
      },
      "source": [
        "O más convenientemente como:\n",
        "\n",
        "<font color='blue'>$$P_t=P_0 e^{(\\mu - \\frac{\\sigma}{2})t + \\sigma \\sqrt{t} z}$$\n",
        "    \n",
        "con $z \\sim N(0, 1)$"
      ]
    },
    {
      "cell_type": "markdown",
      "metadata": {
        "id": "bIzUrGB3em15"
      },
      "source": [
        "Ahora con:\n",
        "    \n",
        "$$E[P_t]=P_0 e^{\\mu t}$$"
      ]
    },
    {
      "cell_type": "markdown",
      "metadata": {
        "id": "s5ui0_Jaem16"
      },
      "source": [
        "Para el caso de una opción europea (contrato a tiempo fijo), con precio de ejercicio k, al tiempo t. \n",
        "Se tienen las alternativas:\n",
        "    \n",
        "* Si $p>k$ se compra\n",
        "* Si $p \\leq k$ no se compra"
      ]
    },
    {
      "cell_type": "markdown",
      "metadata": {
        "id": "2fbOKL4Gem16"
      },
      "source": [
        "El valor esperado de la ganancia es:\n",
        "\n",
        "$$E[(P_t - k)^t]$$"
      ]
    },
    {
      "cell_type": "markdown",
      "metadata": {
        "id": "MxRTfio5em16"
      },
      "source": [
        "Y aquí va un desarrollo matemático..."
      ]
    },
    {
      "cell_type": "code",
      "execution_count": null,
      "metadata": {
        "id": "2_kOwKp1em16"
      },
      "outputs": [],
      "source": []
    },
    {
      "cell_type": "code",
      "execution_count": 43,
      "metadata": {
        "id": "MYGcc3nTem16"
      },
      "outputs": [],
      "source": [
        "from random import gauss\n",
        "from math import exp, sqrt"
      ]
    },
    {
      "cell_type": "code",
      "execution_count": 44,
      "metadata": {
        "id": "PwknTc0yem16"
      },
      "outputs": [],
      "source": [
        "def f(p0, t0, t, mu, sigma):\n",
        "    h=(mu - (sigma**2)/2)*(t-t0) + sigma*sqrt(t-t0)*gauss(0,1)\n",
        "#    h=(mu - (sigma**2)/2)*(t-t0) + sigma*gauss(0, sqrt(t-t0))\n",
        "    p=p0*exp(h)\n",
        "    return p"
      ]
    },
    {
      "cell_type": "code",
      "execution_count": 45,
      "metadata": {
        "id": "Ib142yfTem16"
      },
      "outputs": [
        {
          "name": "stdout",
          "output_type": "stream",
          "text": [
            "17.36045175339117\n"
          ]
        }
      ],
      "source": [
        "n = 1000000\n",
        "mu = 0.004\n",
        "sigma = 0.03\n",
        "p0 = 10\n",
        "suma = 0\n",
        "\n",
        "for i in range(n):\n",
        "    p30 = f(p0, 0, 30, mu, sigma)\n",
        "    p70 = f(p30, 30, 70, mu, sigma)\n",
        "    suma = suma + 100*(p70 - p30)/p30\n",
        "print(suma/n)"
      ]
    }
  ],
  "metadata": {
    "colab": {
      "name": "Valuacion de opciones II.ipynb",
      "provenance": []
    },
    "kernelspec": {
      "display_name": "Python 3.9.6 64-bit",
      "language": "python",
      "name": "python3"
    },
    "language_info": {
      "codemirror_mode": {
        "name": "ipython",
        "version": 3
      },
      "file_extension": ".py",
      "mimetype": "text/x-python",
      "name": "python",
      "nbconvert_exporter": "python",
      "pygments_lexer": "ipython3",
      "version": "3.9.6"
    },
    "vscode": {
      "interpreter": {
        "hash": "11938c6bc6919ae2720b4d5011047913343b08a43b18698fd82dedb0d4417594"
      }
    }
  },
  "nbformat": 4,
  "nbformat_minor": 0
}
