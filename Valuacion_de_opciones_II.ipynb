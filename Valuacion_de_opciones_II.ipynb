{
  "cells": [
    {
      "cell_type": "markdown",
      "metadata": {
        "id": "qVM9frjIem1n"
      },
      "source": [
        "# <font color='blue'> Movimiento browniano "
      ]
    },
    {
      "cell_type": "markdown",
      "metadata": {
        "id": "mp0zgNhLem1p"
      },
      "source": [
        "La colección de variables aleatorias $X(t), t \\geq 0$ es un **movimiento browniano** de parámetros $\\mu$ y $\\sigma^2$ si satisface:  \n",
        "\n",
        "* $X(0)$ es una constante dada.\n",
        "\n",
        "* Para todo $y$ y $t$ positivos, la variable aleatoria $X(t+y)-X(y)$ es independiente de los valores del proceso hasta el  tiempo $y$ y tiene una distribución normal con media $μt$ y varianza $t \\sigma^2$ "
      ]
    },
    {
      "cell_type": "markdown",
      "metadata": {
        "id": "YJutjdDoem1q"
      },
      "source": [
        "Comentarios.\n",
        "\n",
        "* El proceso queda determinado solo por el valor presente y ninguno del pasado el que determina los valores futuros.\n",
        "* $X(t)$ es, con probabilidad 1, una función continua de $t$.\n",
        "* Pero no es diferenciable.\n",
        "* EL movimiento browniano es el límite de modelos más simples, como las caminatas aleatorias (del modelo binomial)."
      ]
    },
    {
      "cell_type": "markdown",
      "metadata": {
        "id": "QfLRKQwRem1r"
      },
      "source": [
        "### <font color='blue'> Movimiento Browniano Geometrico"
      ]
    },
    {
      "cell_type": "markdown",
      "metadata": {
        "id": "2UXq1uNwem1r"
      },
      "source": [
        "Sea  $X(t), t \\geq 0$ un movimiento browniano de parámetros $\\mu$ y $\\sigma^2$, y sea:\n",
        "    \n",
        "$$S(t)=e^{X(t)}, t \\geq 0$$\n",
        "\n",
        "El proceso $S(t), t \\geq 0$ se dice que es un movimiento browniano geometrico con parámetros $\\mu$ y $\\sigma^2$. \n",
        "    "
      ]
    },
    {
      "cell_type": "markdown",
      "metadata": {
        "id": "r-ay5veIem1r"
      },
      "source": [
        "Entonces:\n",
        "\n",
        "$$\\log \\Bigg( \\frac{S(t+y)}{S(y)} \\Bigg)$$\n",
        "\n",
        "es independiente del proceso y tiene distribución normal con media $\\mu t$ y varianza $\\sigma^2 t$."
      ]
    },
    {
      "cell_type": "markdown",
      "metadata": {
        "id": "5xTPXDBkem1s"
      },
      "source": [
        "#### Modelación de las acciones."
      ]
    },
    {
      "cell_type": "markdown",
      "metadata": {
        "id": "65onLNobem1s"
      },
      "source": [
        "Si $P_t$ es el precio de una acción en el tiempo $t$, entonces el rendimiento logaritmizado \n",
        "es $R_t = \\log(\\frac{P_t}{P_{t-1}})$, para $t=1,2,3...$ y normalmente ocurre que:\n",
        "\n",
        "$$R_t \\sim N(\\mu, \\sigma)$$"
      ]
    },
    {
      "cell_type": "markdown",
      "metadata": {
        "id": "lcvAvd85em1s"
      },
      "source": [
        "El uso del rendimiento logaritmizado se justifica como una buena aproximación:\n",
        "\n",
        "$$R_t \\approx \\frac{P_t - P_{t-1}}{P_{t-1}}$$ \n",
        "\n",
        "debido a que el orden de los rendimientos es de $10^{-3}$ y se hace uso de $\\log (1 + x) \\approx x$."
      ]
    },
    {
      "cell_type": "markdown",
      "metadata": {
        "id": "UNjlEBsyem1s"
      },
      "source": [
        "Ahora, si se reescribe la cantidad $\\frac{P_t}{P_0}$ como:\n",
        "\n",
        "$$\\frac{P_t}{P_0} = \\frac{P_t}{P_{t-1}} \\cdot \\frac{P_{t-1}}{P_{t-2}} \\cdot \\frac{P_{t-2}}{P_{t-3}} \\cdot ... \\cdot \\frac{P_2}{P_1} \\cdot \\frac{P_1}{P_0} $$"
      ]
    },
    {
      "cell_type": "markdown",
      "metadata": {
        "id": "l3nwQ6o9em1t"
      },
      "source": [
        "Al tomar el logaritmo:\n",
        "\n",
        "$$\\log( \\frac{P_t}{P_0}) = R_t + R_{t-1} + ... + R_2 + R_1$$"
      ]
    },
    {
      "cell_type": "markdown",
      "metadata": {
        "id": "xA5zAS2qem1t"
      },
      "source": [
        "Si suponemos que los rendimientos $R_i$ son independientes y tienen una misma distribución, \n",
        "con $E[R_i]= \\mu$ y $V[R_i]=\\sigma^2$, entonces para $t$ grande, por el teorema central del límite esto \n",
        "sigue una distribución normal (para más de 30 días) y se tendrá:"
      ]
    },
    {
      "cell_type": "markdown",
      "metadata": {
        "id": "f6FnY5Kqem1t"
      },
      "source": [
        "$$E \\Bigg[\\log \\frac{P_t}{P_o} \\Bigg]= E[R_t]+E[R_{t-1}]+...+E[R_1]= t\\mu$$\n",
        "\n",
        "\n",
        "$$V \\Bigg[\\log \\frac{P_t}{P_o} \\Bigg]= V[R_t]+V[R_{t-1}]+...+V[R_1]= t\\sigma^2$$"
      ]
    },
    {
      "cell_type": "markdown",
      "metadata": {
        "id": "ai4P5UNDem1t"
      },
      "source": [
        "Y se tendría que:\n",
        "\n",
        "$$\\log \\Bigg( \\frac{P_t}{P_0} \\Bigg) \\sim N(\\mu t, \\sigma \\sqrt t)$$"
      ]
    },
    {
      "cell_type": "markdown",
      "metadata": {
        "id": "7eX3kJsuem1u"
      },
      "source": [
        "Por lo que se puede escribir:\n",
        "\n",
        "$$P_t=P_0 e^{\\mu t +\\sigma \\beta_t}$$"
      ]
    },
    {
      "cell_type": "markdown",
      "metadata": {
        "id": "CGU5-yRJem1u"
      },
      "source": [
        "donde $\\beta_t$ es un movimiento browniano en $(0,t)$ y $E[\\beta_t]=0$ y $V[\\beta_t]=t$"
      ]
    },
    {
      "cell_type": "markdown",
      "metadata": {
        "id": "fBvTESolem1u"
      },
      "source": [
        "Y la igualdad anterior también se puede escribir como:\n",
        "\n",
        "$$P_t=P_0 e^{\\mu t + \\sigma \\sqrt t z}$$\n",
        "\n",
        "donde $z \\sim N(0,1)$."
      ]
    },
    {
      "cell_type": "markdown",
      "metadata": {
        "id": "VcRNLUTpem1u"
      },
      "source": [
        "Esta última ecuación nos permite ya construir una simulación."
      ]
    },
    {
      "cell_type": "code",
      "execution_count": 1,
      "metadata": {
        "id": "Z3Wq7sUoem1v"
      },
      "outputs": [],
      "source": [
        "from random import gauss\n",
        "from math import exp\n",
        "import matplotlib.pyplot as plt"
      ]
    },
    {
      "cell_type": "code",
      "execution_count": 2,
      "metadata": {
        "id": "ytiuT_L4em1v"
      },
      "outputs": [],
      "source": [
        "mu=0.001 \n",
        "sigma=0.04  #sigma\n",
        "p0=10\n",
        "t=30"
      ]
    },
    {
      "cell_type": "code",
      "execution_count": 3,
      "metadata": {
        "id": "r6gsQETEem1w"
      },
      "outputs": [],
      "source": [
        "def trayectoria(mu,sigma,p0,t):\n",
        "    l=[p0]\n",
        "    pt=p0\n",
        "    for i in range(t):\n",
        "        pt=pt*exp(mu + sigma*gauss(0,1))\n",
        "        l.append(pt)\n",
        "    return l"
      ]
    },
    {
      "cell_type": "code",
      "execution_count": 4,
      "metadata": {
        "id": "-rcy8VC7em1w"
      },
      "outputs": [],
      "source": [
        "l=trayectoria(mu, sigma,p0,t)"
      ]
    },
    {
      "cell_type": "code",
      "execution_count": 5,
      "metadata": {
        "colab": {
          "base_uri": "https://localhost:8080/"
        },
        "id": "6j1ElixOem1w",
        "outputId": "57104e39-e5b6-498c-ef3b-884b4559586e"
      },
      "outputs": [
        {
          "name": "stdout",
          "output_type": "stream",
          "text": [
            "[10, 9.804523301037356, 9.298968644147674, 10.105215221177595, 10.63561968127004, 10.336142235318539, 11.12782515029136, 11.376837813748613, 11.80119019058171, 11.774228003273787, 11.622784713728459, 11.336761860383563, 11.148852207783348, 11.431435265220987, 10.764200642638116, 11.002206206022121, 10.335576628210646, 9.99997948039843, 10.59536302862584, 10.647919723672235, 10.506011791887529, 10.53163984232797, 10.54606016235208, 10.173894347180525, 10.313903458763928, 10.257251688125226, 10.193923739998924, 10.208349382493305, 10.158437424020498, 10.471135629234249, 10.03833214155048]\n"
          ]
        }
      ],
      "source": [
        "print(l)"
      ]
    },
    {
      "cell_type": "code",
      "execution_count": 6,
      "metadata": {
        "colab": {
          "base_uri": "https://localhost:8080/",
          "height": 265
        },
        "id": "jRAR-RuPem1w",
        "outputId": "159e5815-3b5a-4778-d895-21e305305a58"
      },
      "outputs": [
        {
          "data": {
            "image/png": "[encoded data removed]",
            "text/plain": [
              "<Figure size 432x288 with 1 Axes>"
            ]
          },
          "metadata": {
            "needs_background": "light"
          },
          "output_type": "display_data"
        }
      ],
      "source": [
        "\n",
        "plt.plot(l)\n",
        "plt.show()"
      ]
    },
    {
      "cell_type": "code",
      "execution_count": 8,
      "metadata": {
        "id": "YDHJqCCwem1x"
      },
      "outputs": [],
      "source": [
        "mu=0.001\n",
        "sigma=0.04\n",
        "p0=10\n",
        "t=200"
      ]
    },
    {
      "cell_type": "code",
      "execution_count": 9,
      "metadata": {
        "colab": {
          "base_uri": "https://localhost:8080/",
          "height": 265
        },
        "id": "qxTwk1wkem1x",
        "outputId": "f0e3def8-9d8d-41a3-d8ba-51428d483b8f"
      },
      "outputs": [
        {
          "data": {
            "image/png": "[encoded data removed]",
            "text/plain": [
              "<Figure size 432x288 with 1 Axes>"
            ]
          },
          "metadata": {
            "needs_background": "light"
          },
          "output_type": "display_data"
        }
      ],
      "source": [
        "for i in range(10):\n",
        "    l=trayectoria(mu,sigma,p0,t)\n",
        "    plt.plot(l)\n",
        "plt.show()"
      ]
    },
    {
      "cell_type": "markdown",
      "metadata": {
        "id": "Mtbgr-ELem1x"
      },
      "source": [
        "#### Ejercicio \n",
        "\n",
        "Estudiar el comportamiento de las trayectorias al variar $\\mu$ y $\\sigma$."
      ]
    },
    {
      "cell_type": "markdown",
      "metadata": {
        "id": "8sD0DsZEem1x"
      },
      "source": [
        "Entonces, sabiendo que $P_t=P_0 e^{\\mu t +\\sigma \\beta_t}=P_t=P_0 e^{\\mu t + \\sigma \\sqrt t z}$, \n",
        "¿cuál es el valor esperado de $P_t$?\n",
        "\n",
        "Tendríamos:"
      ]
    },
    {
      "cell_type": "markdown",
      "metadata": {
        "id": "GIukoA4Zem1x"
      },
      "source": [
        "$$E[P_t]=E[P_0 e^{\\mu t + \\sigma \\sqrt t z}] = P_0 E[e^{\\mu t + \\sigma \\sqrt t z}]$$"
      ]
    },
    {
      "cell_type": "markdown",
      "metadata": {
        "id": "kwku6qHzem1y"
      },
      "source": [
        "Y para poder evaluar esto, necesitamos utilizar la función generadora de momentos:\n",
        "    \n",
        "$$\\mu_x(s)=e^{\\mu s + \\frac{\\sigma^2 s^2}{2}}$$"
      ]
    },
    {
      "cell_type": "markdown",
      "metadata": {
        "id": "Lcmg3qv0em1y"
      },
      "source": [
        "De manera que:\n",
        "    \n",
        "$$E[P_t]=P_0 e^{(\\mu + \\frac{\\sigma}{2})t}$$"
      ]
    },
    {
      "cell_type": "markdown",
      "metadata": {
        "id": "RYH3wHXXem1y"
      },
      "source": [
        "Y la varianza:\n",
        "    \n",
        "$$V[P_t]=P_0^2e^{2\\mu t}(e^{2t\\sigma^2}-e^{t\\sigma^2})$$"
      ]
    },
    {
      "cell_type": "markdown",
      "metadata": {
        "id": "7ezfub6Lem1y"
      },
      "source": [
        "Pero la cuestión práctica es: ¿Dados los precios de una acción, $P_0, P_1,...,P_t$, ¿cómo estimar $\\mu$ y $\\sigma$?"
      ]
    },
    {
      "cell_type": "markdown",
      "metadata": {
        "id": "KRCPhZq0em1y"
      },
      "source": [
        "Recordando que:\n",
        "\n",
        "$$R_t \\sim N(\\mu, \\sigma)$$\n",
        "\n",
        "y\n",
        "\n",
        "$$\\hat{\\mu} = \\frac{\\sum_{t=1}^{T}R_t}{T}$$\n",
        "\n",
        "y\n",
        "\n",
        "$$\\hat{\\sigma}=\\sqrt{\\frac{1}{T-1} \\sum_{t=1}^T (R_t - \\hat{\\mu})^2}$$"
      ]
    },
    {
      "cell_type": "markdown",
      "metadata": {
        "id": "P84oQJ3hem1y"
      },
      "source": [
        "En la práctica, dados:\n",
        "$$P_0, P_1, P_2, P_3, ...$$\n",
        "\n",
        "Calculamos:\n",
        "    \n",
        "$$R_1=\\log(\\frac{P_1}{P_0})$$\n",
        "\n",
        "$$R_1=\\log(\\frac{P_2}{P_1})$$\n",
        "\n",
        "$$R_1=\\log(\\frac{P_3}{P_2})$$\n",
        "\n",
        "$$R_1=\\log(\\frac{P_4}{P_3})$$\n",
        "\n",
        "$$...$$"
      ]
    },
    {
      "cell_type": "markdown",
      "metadata": {
        "id": "V1jdpZexem1y"
      },
      "source": [
        "Y calculamos la media y la desviación estándar de estos valores, y podemos observar que:\n",
        "\n",
        "* Si $\\hat{\\mu} + \\frac{\\hat{\\sigma}}{2} > 0$, la acción tiende a crecer.\n",
        "\n",
        "* Si $\\hat{\\mu} + \\frac{\\hat{\\sigma}}{2} \\approx 0$, la acción tiende a permanecer constante.\n",
        "\n",
        "* Si $\\hat{\\mu} + \\frac{\\hat{\\sigma}}{2} < 0$, la acción tiende a decrecer."
      ]
    },
    {
      "cell_type": "markdown",
      "metadata": {
        "id": "d6iQcvCJem1z"
      },
      "source": [
        "Y podemos implementar esto con el siguiente código, usando la librería investpy."
      ]
    },
    {
      "cell_type": "code",
      "execution_count": null,
      "metadata": {
        "id": "DMoEbutbem1z"
      },
      "outputs": [],
      "source": [
        "from statistics import mean,stdev,pstdev\n",
        "from math import log\n",
        "import pandas_datareader as pdr\n",
        "import datetime\n",
        "import pandas as pd\n",
        "import matplotlib.pyplot as plt\n",
        "import investpy"
      ]
    },
    {
      "cell_type": "markdown",
      "metadata": {
        "id": "z5pDPBpZem1z"
      },
      "source": [
        "Pero antes, recordemos un poco de Pandas"
      ]
    },
    {
      "cell_type": "markdown",
      "metadata": {
        "id": "-YDBuzcAem1z"
      },
      "source": [
        "Cargamos los datos y los guardamos."
      ]
    },
    {
      "cell_type": "code",
      "execution_count": null,
      "metadata": {
        "id": "tKaj3FUuem1z"
      },
      "outputs": [],
      "source": [
        "df=investpy.get_stock_historical_data(stock=\"DIS\",country=\"Mexico\",from_date=\"01/01/2022\", to_date=\"31/05/2022\")\n",
        "\n",
        "df.to_csv(\"datos.csv\")"
      ]
    },
    {
      "cell_type": "markdown",
      "metadata": {
        "id": "D3G7jIj7em10"
      },
      "source": [
        "Podemos usar las funciones de Pandas para analizar los datos."
      ]
    },
    {
      "cell_type": "code",
      "execution_count": null,
      "metadata": {
        "id": "Qm36XJgqem10"
      },
      "outputs": [],
      "source": [
        "type(df) # Checamos el tipo de dato"
      ]
    },
    {
      "cell_type": "code",
      "execution_count": null,
      "metadata": {
        "id": "FgEX7bY7em10"
      },
      "outputs": [],
      "source": [
        "df.shape # Este es un atributo, no una función. Devuelve (número de renglones, número de columnas)"
      ]
    },
    {
      "cell_type": "code",
      "execution_count": null,
      "metadata": {
        "id": "ABrQyHzzem10"
      },
      "outputs": [],
      "source": [
        "df"
      ]
    },
    {
      "cell_type": "code",
      "execution_count": null,
      "metadata": {
        "id": "KaFztQXcem10"
      },
      "outputs": [],
      "source": [
        "print(df.head()) # La función head() muestra los primeros 5 renglones del data frame"
      ]
    },
    {
      "cell_type": "markdown",
      "metadata": {
        "id": "Ps2MAdhfem10"
      },
      "source": [
        "Generalmente, comenzamos a analizar un data frame conociendo su tamaño y la información que contiene."
      ]
    },
    {
      "cell_type": "code",
      "execution_count": null,
      "metadata": {
        "id": "0tD79zlJem11"
      },
      "outputs": [],
      "source": [
        "df.columns # Da el nombre de las columnas"
      ]
    },
    {
      "cell_type": "markdown",
      "metadata": {
        "id": "cf_m3gVrem11"
      },
      "source": [
        "Cada columna debe ser del mismo tipo, pero un renglón puede tener objetos de diferentes tipos."
      ]
    },
    {
      "cell_type": "code",
      "execution_count": null,
      "metadata": {
        "id": "8Ty_0uYQem11"
      },
      "outputs": [],
      "source": [
        "df.dtypes # Da el tipo de objeto que guardan las columnas"
      ]
    },
    {
      "cell_type": "code",
      "execution_count": null,
      "metadata": {
        "id": "U8w-cg5Rem11"
      },
      "outputs": [],
      "source": [
        "df.info() # Esta función da información más amplia"
      ]
    },
    {
      "cell_type": "markdown",
      "metadata": {
        "id": "WskfeOvtem11"
      },
      "source": [
        "Podemos elegir columnas en particular para visualizar."
      ]
    },
    {
      "cell_type": "code",
      "execution_count": null,
      "metadata": {
        "id": "VEvUuWT-em12"
      },
      "outputs": [],
      "source": [
        "c_df=df['Close'] # Elejimos la columna y la guardamos como una nueva variable"
      ]
    },
    {
      "cell_type": "code",
      "execution_count": null,
      "metadata": {
        "id": "Una67IOLem12"
      },
      "outputs": [],
      "source": [
        "c_df.head() # mostramos los primeros 5 renglones"
      ]
    },
    {
      "cell_type": "code",
      "execution_count": null,
      "metadata": {
        "id": "9LNW87Ijem12"
      },
      "outputs": [],
      "source": [
        "c_df.tail() # mostramos los últimos 5 renglones"
      ]
    },
    {
      "cell_type": "code",
      "execution_count": null,
      "metadata": {
        "id": "pXsHA8kkem12"
      },
      "outputs": [],
      "source": [
        "o_df=df.Open # También podemos elegir la columna nombrandola directamente"
      ]
    },
    {
      "cell_type": "code",
      "execution_count": null,
      "metadata": {
        "id": "dR9w2gCIem12"
      },
      "outputs": [],
      "source": [
        "o_df.head()"
      ]
    },
    {
      "cell_type": "code",
      "execution_count": null,
      "metadata": {
        "id": "FXlaClrLem12"
      },
      "outputs": [],
      "source": [
        "subset=df[['Open','Close']] # Para especificar varias columnas usamos corchetes dobles"
      ]
    },
    {
      "cell_type": "code",
      "execution_count": null,
      "metadata": {
        "id": "1ZtXVmf8em13"
      },
      "outputs": [],
      "source": [
        "subset.head()"
      ]
    },
    {
      "cell_type": "code",
      "execution_count": null,
      "metadata": {
        "id": "5cnbkf2wem13"
      },
      "outputs": [],
      "source": [
        "subset.head(n=10) # podemos ver más renglones"
      ]
    },
    {
      "cell_type": "code",
      "execution_count": null,
      "metadata": {
        "id": "cFnKJFLkem13"
      },
      "outputs": [],
      "source": [
        "subset.tail()"
      ]
    },
    {
      "cell_type": "code",
      "execution_count": null,
      "metadata": {
        "id": "5rrQ3oV-em13"
      },
      "outputs": [],
      "source": [
        "subset # se puede imprimir todo"
      ]
    },
    {
      "cell_type": "code",
      "execution_count": null,
      "metadata": {
        "id": "P9oXhxJlem13"
      },
      "outputs": [],
      "source": [
        "subset.ix[0] # revisar: iloc, loe"
      ]
    },
    {
      "cell_type": "code",
      "execution_count": null,
      "metadata": {
        "id": "1J_ulwHVem14"
      },
      "outputs": [],
      "source": [
        "df[50:55]['Close']"
      ]
    },
    {
      "cell_type": "markdown",
      "metadata": {
        "id": "emt8q0Lwem14"
      },
      "source": [
        "Podemos graficar los precios y calcular las estadisticas de los rendimientos logaritmizados"
      ]
    },
    {
      "cell_type": "code",
      "execution_count": null,
      "metadata": {
        "id": "vmJWRuCOem14"
      },
      "outputs": [],
      "source": [
        "datos=investpy.get_stock_historical_data(stock=\"DIS\",country=\"Mexico\",from_date=\"24/05/2021\", to_date=\"24/05/2022\")\n",
        "\n",
        "datos.to_csv(\"datos.csv\")\n",
        "\n",
        "\n",
        "datos=pd.read_csv(\"datos.csv\",header=0,index_col=\"Date\",parse_dates=True) #le peidmos leer los datos del csv \n",
        "\n",
        "\n",
        "ts=datos[\"Close\"] #que tome los valores de precio de cierre de la acci+on \n",
        "print(ts)\n",
        "\n",
        "lp=[] #creamos una lista vacia para los precios \n",
        "\n",
        "for i in range(len(ts)):\n",
        "     lp.append(ts.iloc[i])\n",
        "plt.plot(lp) #grafica de los precios\n",
        "plt.show()\n",
        "\n",
        "#calcular los rendimientos\n",
        "\n",
        "lr=[] #lista de rendimientos\n",
        "for i in range(1,len(lp)):\n",
        "     lr.append((lp[i-1]/lp[i])-1) #para lso rendimientos usamos la formula de el precio de cierre anterior entre el precio de cierre actual menos 1\n",
        "\n",
        "print(f\"\\n El rendimiento medio es: {mean(lr)},\\n La desviación muestral es: {stdev(lr)} \\n La desviación poblacional es: {pstdev(lr)}\")\n",
        "\n",
        "\n"
      ]
    },
    {
      "cell_type": "markdown",
      "metadata": {
        "id": "RCKBzrQCem14"
      },
      "source": [
        "Y podemos visualizar el rendimiento"
      ]
    },
    {
      "cell_type": "code",
      "execution_count": null,
      "metadata": {
        "id": "mmowS0ACem14"
      },
      "outputs": [],
      "source": [
        "lr=[]\n",
        "for i in range(1,len(lp)):\n",
        "    lr.append(log(lp[i]/lp[i-1]))\n",
        "plt.plot(lr)\n",
        "plt.show()\n",
        "print(mean(lr), stdev(lr))"
      ]
    },
    {
      "cell_type": "markdown",
      "metadata": {
        "id": "Z-L8AlTMem14"
      },
      "source": [
        "Y graficarlos juntos, mostrará las fluctuaciones en los mismos puntos"
      ]
    },
    {
      "cell_type": "code",
      "execution_count": null,
      "metadata": {
        "id": "RhbGlhlhem14"
      },
      "outputs": [],
      "source": [
        "fig, ax=plt.subplots(2,1,figsize=(16,8), sharex=True)\n",
        "ax[0].plot(lp)\n",
        "ax[1].plot(lr)"
      ]
    },
    {
      "cell_type": "code",
      "execution_count": null,
      "metadata": {
        "id": "KspjWWTpem15"
      },
      "outputs": [],
      "source": []
    },
    {
      "cell_type": "markdown",
      "metadata": {
        "id": "rA63srYhem15"
      },
      "source": [
        "#### Opciones"
      ]
    },
    {
      "cell_type": "markdown",
      "metadata": {
        "id": "3fjKxFqTem15"
      },
      "source": [
        "Entonces, Tenemos que $P_t=P_0 e^{\\mu t +\\sigma \\beta_t}$"
      ]
    },
    {
      "cell_type": "markdown",
      "metadata": {
        "id": "FflsjVdQem15"
      },
      "source": [
        "De manera que:\n",
        "    \n",
        "$$E[P_t]=P_0 e^{(\\mu + \\frac{\\sigma}{2})t}$$"
      ]
    },
    {
      "cell_type": "markdown",
      "metadata": {
        "id": "CEUCOassem15"
      },
      "source": [
        "Podemos reescribir el precio como:\n",
        "    \n",
        "$$P_t=P_0 e^{(\\mu - \\frac{\\sigma}{2})t + \\sigma \\beta_t}$$"
      ]
    },
    {
      "cell_type": "markdown",
      "metadata": {
        "id": "BvlJq1G5em15"
      },
      "source": [
        "O más convenientemente como:\n",
        "\n",
        "<font color='blue'>$$P_t=P_0 e^{(\\mu - \\frac{\\sigma}{2})t + \\sigma \\sqrt{t} z}$$\n",
        "    \n",
        "con $z \\sim N(0, 1)$"
      ]
    },
    {
      "cell_type": "markdown",
      "metadata": {
        "id": "bIzUrGB3em15"
      },
      "source": [
        "Ahora con:\n",
        "    \n",
        "$$E[P_t]=P_0 e^{\\mu t}$$"
      ]
    },
    {
      "cell_type": "markdown",
      "metadata": {
        "id": "s5ui0_Jaem16"
      },
      "source": [
        "Para el caso de una opción europea (contrato a tiempo fijo), con precio de ejercicio k, al tiempo t. \n",
        "Se tienen las alternativas:\n",
        "    \n",
        "* Si $p>k$ se compra\n",
        "* Si $p \\leq k$ no se compra"
      ]
    },
    {
      "cell_type": "markdown",
      "metadata": {
        "id": "2fbOKL4Gem16"
      },
      "source": [
        "El valor esperado de la ganancia es:\n",
        "\n",
        "$$E[(P_t - k)^t]$$"
      ]
    },
    {
      "cell_type": "markdown",
      "metadata": {
        "id": "MxRTfio5em16"
      },
      "source": [
        "Y aquí va un desarrollo matemático..."
      ]
    },
    {
      "cell_type": "code",
      "execution_count": null,
      "metadata": {
        "id": "2_kOwKp1em16"
      },
      "outputs": [],
      "source": []
    },
    {
      "cell_type": "code",
      "execution_count": null,
      "metadata": {
        "id": "MYGcc3nTem16"
      },
      "outputs": [],
      "source": [
        "from random import gauss\n",
        "from math import exp, sqrt"
      ]
    },
    {
      "cell_type": "code",
      "execution_count": null,
      "metadata": {
        "id": "PwknTc0yem16"
      },
      "outputs": [],
      "source": [
        "def f(p0, t0, t, mu, sigma):\n",
        "    h=(mu - (sigma**2)/2)*(t-t0) + sigma*sqrt(t-t0)*gauss(0,1)\n",
        "#    h=(mu - (sigma**2)/2)*(t-t0) + sigma*gauss(0, sqrt(t-t0))\n",
        "    p=p0*exp(h)\n",
        "    return p"
      ]
    },
    {
      "cell_type": "code",
      "execution_count": null,
      "metadata": {
        "id": "Ib142yfTem16"
      },
      "outputs": [],
      "source": [
        "n = 1000000\n",
        "mu = 0.004\n",
        "sigma = 0.03\n",
        "p0 = 10\n",
        "suma = 0\n",
        "\n",
        "for i in range(n):\n",
        "    p30 = f(p0, 0, 30, mu, sigma)\n",
        "    p70 = f(p30, 30, 70, mu, sigma)\n",
        "    suma = suma + 100*(p70 - p30)/p30\n",
        "print(suma/n)"
      ]
    },
    {
      "cell_type": "code",
      "execution_count": null,
      "metadata": {
        "id": "vHWpjjROem17"
      },
      "outputs": [],
      "source": []
    }
  ],
  "metadata": {
    "colab": {
      "name": "Valuacion de opciones II.ipynb",
      "provenance": []
    },
    "kernelspec": {
      "display_name": "Python 3.9.6 64-bit",
      "language": "python",
      "name": "python3"
    },
    "language_info": {
      "codemirror_mode": {
        "name": "ipython",
        "version": 3
      },
      "file_extension": ".py",
      "mimetype": "text/x-python",
      "name": "python",
      "nbconvert_exporter": "python",
      "pygments_lexer": "ipython3",
      "version": "3.9.6"
    },
    "vscode": {
      "interpreter": {
        "hash": "11938c6bc6919ae2720b4d5011047913343b08a43b18698fd82dedb0d4417594"
      }
    }
  },
  "nbformat": 4,
  "nbformat_minor": 0
}
