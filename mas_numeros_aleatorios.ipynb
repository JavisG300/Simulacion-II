{
  "cells": [
    {
      "cell_type": "markdown",
      "metadata": {
        "id": "pTRkF2lZ1PKJ"
      },
      "source": [
        "# Uso de los números aleatorios"
      ]
    },
    {
      "cell_type": "markdown",
      "metadata": {
        "id": "yNmi8hSQ1PKQ"
      },
      "source": [
        "## 1. Introducción al Módulo random"
      ]
    },
    {
      "cell_type": "markdown",
      "metadata": {
        "id": "H_NEsfUG1PKS"
      },
      "source": [
        "El módulo random de la librería estándar de Python incluye un conjunto de funciones que permiten obtener de distintos modos \n",
        "números pseudoaleatorios a través del algoritmo [Mersenne Twister](https://es.wikipedia.org/wiki/Mersenne_twister)."
      ]
    },
    {
      "cell_type": "code",
      "execution_count": 1,
      "metadata": {
        "id": "jttcJ1pc1PKT"
      },
      "outputs": [],
      "source": [
        "#importamos el módulo que vamos a usar \n",
        "\n",
        "import random\n",
        "import matplotlib.pyplot as plt"
      ]
    },
    {
      "cell_type": "markdown",
      "metadata": {
        "id": "HdqgmC1Z1PKX"
      },
      "source": [
        "Las funciones de los módulos se invocan con el formato: módulo.función().\n",
        "\n",
        "En el módulo random existe la función random, que devuelve un número aleatorio que sigue una distribución uniforme. \n",
        "\n",
        "Así, para obtener $x \\sim U(0,1)$:"
      ]
    },
    {
      "cell_type": "code",
      "execution_count": 2,
      "metadata": {
        "id": "RwCUP5cj1PKY"
      },
      "outputs": [
        {
          "name": "stdout",
          "output_type": "stream",
          "text": [
            "0.10349374704406566\n"
          ]
        }
      ],
      "source": [
        "x = random.random()  #Cada ejecución dará un número distinto.\n",
        "print(x)"
      ]
    },
    {
      "cell_type": "markdown",
      "metadata": {
        "id": "8pnpyp_a1PKZ"
      },
      "source": [
        "Se puede usar algún bucle si se desea generar una secuencia $x_i \\sim U(0,1)$ con $i = 1, 2, 3,..., N$:"
      ]
    },
    {
      "cell_type": "code",
      "execution_count": 3,
      "metadata": {
        "id": "l68esrMG1PKa"
      },
      "outputs": [
        {
          "name": "stdout",
          "output_type": "stream",
          "text": [
            "0.8903 0.5296 0.3100 0.7735 0.8686 0.9504 0.7015 0.1215 0.6460 0.8046 \n"
          ]
        }
      ],
      "source": [
        "for i in range(10):\n",
        "    print('%05.4f' % random.random(), end=' ')  #El código en rojo indica la cantidad de dígitos y de decimales a mostrar.\n",
        "print()"
      ]
    },
    {
      "cell_type": "code",
      "execution_count": 4,
      "metadata": {
        "id": "cfDZYukL1PKb"
      },
      "outputs": [
        {
          "name": "stdout",
          "output_type": "stream",
          "text": [
            "0.0451\n",
            "0.2866\n",
            "0.1655\n",
            "0.9589\n",
            "0.8849\n",
            "0.3419\n",
            "0.3076\n",
            "0.2084\n",
            "0.7737\n",
            "0.0841\n",
            "\n"
          ]
        }
      ],
      "source": [
        "for i in range(10):\n",
        "    print('%05.4f' % random.random(), sep=\"\\t\")\n",
        "print()"
      ]
    },
    {
      "cell_type": "markdown",
      "metadata": {
        "id": "1o0GgSUL1PKc"
      },
      "source": [
        "La función seed() fija el valor de la semilla en la generación de la secuencia de números aleatorios. \n",
        "Esto es útil cuando se quieren utilizar los mismos datos de entrada en una simulación."
      ]
    },
    {
      "cell_type": "code",
      "execution_count": 5,
      "metadata": {
        "id": "ptz8CILY1PKd"
      },
      "outputs": [
        {
          "name": "stdout",
          "output_type": "stream",
          "text": [
            "0.1344 0.8474 0.7638 0.2551 0.4954 0.4495 0.6516 0.7887 0.0939 0.0283 0.8358 0.4328 0.7623 0.0021 0.4454 0.7215 0.2288 0.9453 0.9014 0.0306 \n"
          ]
        }
      ],
      "source": [
        "random.seed(1) #primero fijamos la semilla\n",
        "\n",
        "for i in range(20):\n",
        "    print('%05.4f' % random.random(), end=' ')\n",
        "print()"
      ]
    },
    {
      "cell_type": "markdown",
      "metadata": {
        "id": "zXvWDasY1PKe"
      },
      "source": [
        "La función uniform() devuelve un número float incluido entre los valores indicados."
      ]
    },
    {
      "cell_type": "code",
      "execution_count": 6,
      "metadata": {
        "id": "5dtyV7Df1PKf"
      },
      "outputs": [
        {
          "name": "stdout",
          "output_type": "stream",
          "text": [
            "2.2468 27.5292 47.0183 19.6790 11.6134 21.6837 2.4230 11.8629 22.4565 25.2948 \n"
          ]
        }
      ],
      "source": [
        "for i in range(10):\n",
        "    print('%5.4f' %random.uniform(1, 50), end=' ')\n",
        "print()"
      ]
    },
    {
      "cell_type": "markdown",
      "metadata": {
        "id": "gP5go9pW1PKg"
      },
      "source": [
        "La función randint() devuelve un número entero incluido entre los valores indicados. \n",
        "Los valores de los límites inferior y superior también pueden aparecer entre los valores devueltos."
      ]
    },
    {
      "cell_type": "code",
      "execution_count": 7,
      "metadata": {
        "id": "85KiLfq11PKh"
      },
      "outputs": [
        {
          "name": "stdout",
          "output_type": "stream",
          "text": [
            "-41 -12 -41 73 -44 94 17 -26 -95 6 42 64 -75 -53 61 85 -25 -70 90 -15 \n"
          ]
        }
      ],
      "source": [
        "for i in range(20):\n",
        "    print(random.randint(-100, 100), end=' ')\n",
        "print()"
      ]
    },
    {
      "cell_type": "markdown",
      "metadata": {
        "id": "Oc3QZBvj1PKj"
      },
      "source": [
        "La función randrange() devuelve enteros que van desde un valor inicial a otro final \n",
        "separados entre sí un número de valores determinados."
      ]
    },
    {
      "cell_type": "code",
      "execution_count": 8,
      "metadata": {
        "id": "HAdne_dL1PKj"
      },
      "outputs": [
        {
          "name": "stdout",
          "output_type": "stream",
          "text": [
            "15 15 12 9 12 18 15 3 6 6 12 9 18 12 9 12 18 0 9 3 \n"
          ]
        }
      ],
      "source": [
        "for i in range(20):\n",
        "    print(random.randrange(0, 20, 3), end=' ')\n",
        "print()"
      ]
    },
    {
      "cell_type": "code",
      "execution_count": null,
      "metadata": {
        "id": "5VBTHcpt1PKk"
      },
      "outputs": [],
      "source": []
    },
    {
      "cell_type": "markdown",
      "metadata": {
        "id": "AlcR9OSB1PKl"
      },
      "source": [
        "La función random.choice() se utiliza para seleccionar elementos al azar de una lista."
      ]
    },
    {
      "cell_type": "code",
      "execution_count": 9,
      "metadata": {
        "id": "YYVhTfhd1PKm"
      },
      "outputs": [],
      "source": [
        "Lista = ['Rome','New York','London','Berlin','Moskov', 'Los Angeles','Paris','Madrid','Tokio','Toronto']"
      ]
    },
    {
      "cell_type": "code",
      "execution_count": 10,
      "metadata": {
        "id": "ooJAxjey1PKn"
      },
      "outputs": [
        {
          "name": "stdout",
          "output_type": "stream",
          "text": [
            "La ciudad elegida es -  Paris\n"
          ]
        }
      ],
      "source": [
        "Ciudad = random.choice(Lista) \n",
        "print (\"La ciudad elegida es - \", Ciudad)"
      ]
    },
    {
      "cell_type": "code",
      "execution_count": 11,
      "metadata": {
        "id": "pzgr19ft1PKo"
      },
      "outputs": [
        {
          "name": "stdout",
          "output_type": "stream",
          "text": [
            "La ciudad elegida es -  Paris\n",
            "La ciudad elegida es -  London\n",
            "La ciudad elegida es -  Los Angeles\n",
            "La ciudad elegida es -  Tokio\n",
            "La ciudad elegida es -  Los Angeles\n",
            "La ciudad elegida es -  New York\n",
            "La ciudad elegida es -  Madrid\n",
            "La ciudad elegida es -  Tokio\n",
            "La ciudad elegida es -  New York\n",
            "La ciudad elegida es -  London\n"
          ]
        }
      ],
      "source": [
        "for i in range(10):\n",
        "    Ciudad = random.choice(Lista) \n",
        "    print (\"La ciudad elegida es - \", Ciudad)"
      ]
    },
    {
      "cell_type": "markdown",
      "metadata": {
        "id": "Vx4Ca97S1PKp"
      },
      "source": [
        "La función sample() devuelve de una lista de elementos un determinado número de elementos diferentes elegidos al azar."
      ]
    },
    {
      "cell_type": "code",
      "execution_count": 13,
      "metadata": {
        "id": "mQ11zsbW1PKq"
      },
      "outputs": [
        {
          "name": "stdout",
          "output_type": "stream",
          "text": [
            "['Toronto', 'Paris', 'London', 'New York', 'Moskov', 'Tokio', 'Rome', 'Berlin', 'Madrid']\n"
          ]
        }
      ],
      "source": [
        "print(random.sample(Lista, 9))"
      ]
    },
    {
      "cell_type": "markdown",
      "metadata": {
        "id": "WgchJrAv1PKr"
      },
      "source": [
        "La función shuffle() 'mezcla' o cambia aleatoriamente el orden de los elementos de una lista antes de realizar la selección de alguno de ellos. "
      ]
    },
    {
      "cell_type": "code",
      "execution_count": 14,
      "metadata": {
        "id": "fuGWdIyM1PKs"
      },
      "outputs": [
        {
          "name": "stdout",
          "output_type": "stream",
          "text": [
            "mezcla1 ['Madrid', 'Rome', 'New York', 'Berlin', 'London', 'Moskov', 'Toronto', 'Los Angeles', 'Tokio', 'Paris']\n"
          ]
        }
      ],
      "source": [
        "random.shuffle(Lista)\n",
        "print('mezcla1', Lista)"
      ]
    },
    {
      "cell_type": "markdown",
      "metadata": {
        "id": "CwNAhj-E1PKt"
      },
      "source": [
        "## Ejercicio:\n",
        "\n",
        "1. Elegir al azar una ciudad de la Lista despues de hacer una mezcla.\n",
        "2. Elegir al azar tres ciudades después de una mezcla."
      ]
    },
    {
      "cell_type": "code",
      "execution_count": 15,
      "metadata": {},
      "outputs": [
        {
          "name": "stdout",
          "output_type": "stream",
          "text": [
            "Lista en orden: \n",
            " ['Madrid', 'Rome', 'New York', 'Berlin', 'London', 'Moskov', 'Toronto', 'Los Angeles', 'Tokio', 'Paris']\n",
            "mezcla \n",
            " ['Los Angeles', 'Moskov', 'Madrid', 'Berlin', 'Rome', 'Paris', 'London', 'New York', 'Tokio', 'Toronto']\n",
            "La ciudad delegida es:  Paris\n"
          ]
        }
      ],
      "source": [
        "#Ejercicio 1\n",
        "print(\"Lista en orden: \\n\", Lista)\n",
        "random.shuffle(Lista)\n",
        "print('mezcla \\n', Lista)\n",
        "ciudad = random.choice(Lista)\n",
        "print(\"La ciudad delegida es: \", ciudad)\n",
        "\n"
      ]
    },
    {
      "cell_type": "code",
      "execution_count": 17,
      "metadata": {},
      "outputs": [
        {
          "name": "stdout",
          "output_type": "stream",
          "text": [
            "Lista en orden: \n",
            " ['Los Angeles', 'London', 'Moskov', 'Madrid', 'Paris', 'New York', 'Rome', 'Berlin', 'Tokio', 'Toronto']\n",
            "mezcla \n",
            " ['Madrid', 'Tokio', 'Moskov', 'Rome', 'London', 'Los Angeles', 'Paris', 'Berlin', 'New York', 'Toronto']\n",
            "La ciudad delegida es:  Tokio\n",
            "La ciudad delegida es:  New York\n",
            "La ciudad delegida es:  London\n"
          ]
        }
      ],
      "source": [
        "#Ejercicio 2\n",
        "print(\"Lista en orden: \\n\", Lista)\n",
        "random.shuffle(Lista)\n",
        "print('mezcla \\n', Lista)\n",
        "for i in range (3):\n",
        "    ciudad = random.choice(Lista)\n",
        "    print(\"La ciudad delegida es: \", ciudad)"
      ]
    },
    {
      "cell_type": "markdown",
      "metadata": {
        "id": "DKrUBtHr1PKu"
      },
      "source": [
        "La función random.gaus() genera una muestra de números aleatorios normalmente distribuidos."
      ]
    },
    {
      "cell_type": "code",
      "execution_count": 18,
      "metadata": {
        "id": "8BXw1KVu1PKv"
      },
      "outputs": [
        {
          "data": {
            "image/png": "[encoded data removed]",
            "text/plain": [
              "<Figure size 432x288 with 1 Axes>"
            ]
          },
          "metadata": {
            "needs_background": "light"
          },
          "output_type": "display_data"
        }
      ],
      "source": [
        "#Generamos una lista de 100 números aleatorios normalmente distribuidos.\n",
        "\n",
        "nums = []\n",
        "mu = 100\n",
        "sigma = 50\n",
        "\n",
        "for i in range(100):\n",
        "    temp = random.gauss(mu, sigma)\n",
        "    nums.append(temp)\n",
        "\n",
        "plt.plot(nums)\n",
        "plt.show()"
      ]
    },
    {
      "cell_type": "code",
      "execution_count": 19,
      "metadata": {
        "id": "ftPLoxjl1PKx"
      },
      "outputs": [
        {
          "data": {
            "image/png": "[encoded data removed]",
            "text/plain": [
              "<Figure size 432x288 with 1 Axes>"
            ]
          },
          "metadata": {
            "needs_background": "light"
          },
          "output_type": "display_data"
        }
      ],
      "source": [
        "# Construimos el histograma de una muestra de 10000 números aleatorios normalmente distribuidos\n",
        "\n",
        "nums = []\n",
        "mu = 100\n",
        "sigma = 50\n",
        "\n",
        "for i in range(10000):\n",
        "    temp = random.gauss(mu, sigma)\n",
        "    nums.append(temp)\n",
        "\n",
        "plt.hist(nums, bins = 200)\n",
        "plt.show()\n"
      ]
    },
    {
      "cell_type": "code",
      "execution_count": 23,
      "metadata": {},
      "outputs": [
        {
          "data": {
            "image/png": "[encoded data removed]",
            "text/plain": [
              "<Figure size 432x288 with 1 Axes>"
            ]
          },
          "metadata": {
            "needs_background": "light"
          },
          "output_type": "display_data"
        }
      ],
      "source": [
        "#Generador de una distribución normal\n",
        "from random import random\n",
        "import matplotlib.pyplot as plt\n",
        "def normal(mu,s):\n",
        "    suma=0\n",
        "    l=[]\n",
        "    for i in range(12):\n",
        "        suma=suma+random()\n",
        "        x=mu + s * (suma - 6)\n",
        "    return x \n",
        "l1=[]\n",
        "for i in range(10000):\n",
        "    l1.append(normal(180,15))\n",
        "plt.hist(l1, bins=200, color='grey', edgecolor='black')\n",
        "plt.xlabel('X generados')\n",
        "plt.ylabel('Frecuencia')\n",
        "plt.title('Histograma con 10000 números')\n",
        "plt.show()"
      ]
    },
    {
      "cell_type": "markdown",
      "metadata": {},
      "source": [
        "## Conclusión: \n",
        "A mi parecer las gráficas son muy parecidas sin embargo creo que se nota un poco mejor en el uso de la fórmula que en el código que usó random.gauss()"
      ]
    },
    {
      "cell_type": "markdown",
      "metadata": {
        "id": "4s18zd8G1PKx"
      },
      "source": [
        "## Ejercicio:\n",
        "\n",
        "1. Generar muestras e histograma de las funciones: \n",
        "    triangular(), betavariate(), expovariate(), gammavariate(), \n",
        "    lognormvariate(), normalvariate(), vonmisesvariate(), paretovariate() y weibullvariate()"
      ]
    },
    {
      "cell_type": "code",
      "execution_count": null,
      "metadata": {
        "id": "ft3nTaDM1PKy"
      },
      "outputs": [],
      "source": []
    }
  ],
  "metadata": {
    "colab": {
      "name": "mas numeros aleatorios.ipynb",
      "provenance": []
    },
    "kernelspec": {
      "display_name": "Python 3",
      "language": "python",
      "name": "python3"
    },
    "language_info": {
      "codemirror_mode": {
        "name": "ipython",
        "version": 3
      },
      "file_extension": ".py",
      "mimetype": "text/x-python",
      "name": "python",
      "nbconvert_exporter": "python",
      "pygments_lexer": "ipython3",
      "version": "3.9.6"
    }
  },
  "nbformat": 4,
  "nbformat_minor": 0
}
