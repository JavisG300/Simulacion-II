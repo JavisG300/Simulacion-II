{
  "cells": [
    {
      "cell_type": "code",
      "execution_count": null,
      "metadata": {},
      "outputs": [],
      "source": [
        "#importamos el módulo que vamos a usar \n",
        "import random   "
      ]
    },
    {
      "cell_type": "markdown",
      "metadata": {
        "id": "ua5_5t5VPnD0"
      },
      "source": [
        "## Ejercicio 2:\n",
        "    a) Simular un sorteo de los colores blanco, negro, rojo, azul y verde.\n",
        "    b) Simular 5 sorteos con sustitución."
      ]
    },
    {
      "cell_type": "code",
      "execution_count": 12,
      "metadata": {},
      "outputs": [
        {
          "name": "stdout",
          "output_type": "stream",
          "text": [
            "rojo\n"
          ]
        }
      ],
      "source": [
        "#inciso a haciendo uso de las librerías previamente importadas en el documento\n",
        "def sorteo():\n",
        "    #x=random.uniform(1,5)\n",
        "    x=random.randint(1,5)\n",
        "    if x<=1:\n",
        "        color = 'blanco'\n",
        "    elif x<=2:\n",
        "        color = 'negro'\n",
        "    elif x<=3:\n",
        "        color = 'rojo'\n",
        "    elif x<=4:\n",
        "        color = 'azul'\n",
        "    else:\n",
        "        color = 'verde'\n",
        "    return color\n",
        "print(sorteo())"
      ]
    },
    {
      "cell_type": "code",
      "execution_count": 13,
      "metadata": {},
      "outputs": [
        {
          "name": "stdout",
          "output_type": "stream",
          "text": [
            "['azul', 'rojo', 'blanco', 'blanco', 'rojo']\n"
          ]
        }
      ],
      "source": [
        "#Inciso b\n",
        "#Como son con sustitucion no debemos modificar la funcion sorteo()\n",
        "l = []\n",
        "cuenta = 0\n",
        "nr = 5\n",
        "for i in range(nr):\n",
        "    x = sorteo()\n",
        "    l.append(x)\n",
        "print(l)"
      ]
    }
  ],
  "metadata": {
    "colab": {
      "name": "Uso de los números aleatorios.ipynb",
      "provenance": []
    },
    "kernelspec": {
      "display_name": "Python 3",
      "language": "python",
      "name": "python3"
    },
    "language_info": {
      "codemirror_mode": {
        "name": "ipython",
        "version": 3
      },
      "file_extension": ".py",
      "mimetype": "text/x-python",
      "name": "python",
      "nbconvert_exporter": "python",
      "pygments_lexer": "ipython3",
      "version": "3.9.6"
    }
  },
  "nbformat": 4,
  "nbformat_minor": 0
}
