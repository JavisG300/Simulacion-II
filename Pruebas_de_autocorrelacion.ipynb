{
  "cells": [
    {
      "cell_type": "markdown",
      "metadata": {
        "id": "0D1femx9cUms"
      },
      "source": [
        "# Pruebas de Autocorelación"
      ]
    },
    {
      "cell_type": "markdown",
      "metadata": {
        "id": "o0mRntZ-cUmu"
      },
      "source": [
        "En esta prueba, dados los datos $x_1, x_2,x_3,...,x_n$, se prueba la independencia de los datos, analizando los coeficientes de correlación, $r_k$, de: \n",
        "\n",
        "$r_1$, de:\n",
        "\n",
        "$x_1, x_2,x_3,...,x_{n-1}$ con $x_2, x_3,x_4,...,x_n$\n",
        "\n",
        "$r_2$, de:\n",
        "\n",
        "$x_1, x_2,x_3,...,x_{n-2}$ con $x_3, x_4,x_5,...,x_n$\n",
        "\n",
        "...\n",
        "\n",
        "En general:\n",
        "\n",
        "$r_k$, de:\n",
        "\n",
        "$x_1, x_2,x_3,...,x_{n-k}$ con $x_{k+1}, x_{k+2},x_{k+3},..x_n$"
      ]
    },
    {
      "cell_type": "markdown",
      "metadata": {
        "id": "gExyDpoucUmv"
      },
      "source": [
        "Si los datos son independientes, se espera que $r_k$ sea poco significativo. Pero, más que al cálculo de todo $r_k$ se usan pruebas estadísticas, como la de [Ljung-Box](https://es.wikipedia.org/wiki/Prueba_de_Ljung-Box) implementada en la librería [statsmodeles](https://www.statsmodels.org/dev/generated/statsmodels.stats.diagnostic.acorr_ljungbox.html) de Python. "
      ]
    },
    {
      "cell_type": "markdown",
      "metadata": {
        "id": "Fx849mlZcUmv"
      },
      "source": [
        "<img src=\"https://uploads.desmos.com/activitybuilder/b22f74a4cc71eed2d04eb203e7696860\">"
      ]
    },
    {
      "cell_type": "markdown",
      "metadata": {
        "id": "irIicQXwcUmw"
      },
      "source": [
        "Ver las fórmulas de [correlación](https://es.wikipedia.org/wiki/Coeficiente_de_correlaci%C3%B3n_de_Pearson)."
      ]
    },
    {
      "cell_type": "code",
      "execution_count": 20,
      "metadata": {
        "id": "y1W2yaOCcUmw"
      },
      "outputs": [],
      "source": [
        "import matplotlib.pyplot as plt \n",
        "import numpy as np \n",
        "from statsmodels.graphics import tsaplots\n",
        "import statsmodels.api as sm"
      ]
    },
    {
      "cell_type": "code",
      "execution_count": 33,
      "metadata": {
        "id": "JZRmbWTucUmy",
        "outputId": "f0331603-f813-4b4d-d26a-3fb5384a87e0",
        "colab": {
          "base_uri": "https://localhost:8080/",
          "height": 295
        }
      },
      "outputs": [
        {
          "output_type": "display_data",
          "data": {
            "text/plain": [
              "<Figure size 432x288 with 1 Axes>"
            ],
            "image/png": "[encoded data removed]"
          },
          "metadata": {
            "needs_background": "light"
          }
        }
      ],
      "source": [
        "data = np.array([1.0,2.0,3.0,4.0,5.0,6.0,7.0,8.0,9.0,10.0,11.0,12.0,13.0,14.0,15.0,16.0,17.0,18.0,19.0,20.0]) \n",
        "  \n",
        "plt.title(\"Autocorrelation Plot\") \n",
        " \n",
        "plt.xlabel(\"Lags\") \n",
        " \n",
        "plt.acorr(data, maxlags = 10)\n",
        " \n",
        " \n",
        "plt.show()"
      ]
    },
    {
      "cell_type": "code",
      "execution_count": 34,
      "metadata": {
        "id": "ID8lBbWqcUmy",
        "outputId": "a630441e-8fe6-470e-ff64-a3192f40caa1",
        "colab": {
          "base_uri": "https://localhost:8080/",
          "height": 281
        }
      },
      "outputs": [
        {
          "output_type": "display_data",
          "data": {
            "text/plain": [
              "<Figure size 432x288 with 1 Axes>"
            ],
            "image/png": "[encoded data removed]"
          },
          "metadata": {
            "needs_background": "light"
          }
        }
      ],
      "source": [
        "from statsmodels.graphics.tsaplots import plot_acf\n",
        "plot_acf(data)\n",
        "plt.show()"
      ]
    },
    {
      "cell_type": "code",
      "execution_count": 35,
      "metadata": {
        "id": "BwhWreh0cUmz",
        "outputId": "bd67cf6e-f7a0-4fba-bc82-5b486e9d8de0",
        "colab": {
          "base_uri": "https://localhost:8080/",
          "height": 295
        }
      },
      "outputs": [
        {
          "output_type": "display_data",
          "data": {
            "text/plain": [
              "<Figure size 432x288 with 1 Axes>"
            ],
            "image/png": "[encoded data removed]"
          },
          "metadata": {
            "needs_background": "light"
          }
        }
      ],
      "source": [
        "np.random.seed(30) \n",
        "  \n",
        "data = np.random.randn(20) \n",
        " \n",
        "plt.title(\"Autocorrelation Plot\") \n",
        " \n",
        "plt.xlabel(\"Lags\") \n",
        " \n",
        "plt.acorr(data, maxlags = 10) \n",
        " \n",
        " \n",
        "plt.show() "
      ]
    },
    {
      "cell_type": "code",
      "execution_count": 36,
      "metadata": {
        "id": "cdMoQ63wcUmz"
      },
      "outputs": [],
      "source": [
        "an_array = [1, 2, 3, 4, 5, 6]\n",
        "autocorrelation = np.correlate(an_array, an_array, mode=\"full\")"
      ]
    },
    {
      "cell_type": "code",
      "execution_count": 37,
      "metadata": {
        "id": "EAlw1laWcUmz"
      },
      "outputs": [],
      "source": [
        "autocorrelation = autocorrelation[autocorrelation.size//2:]"
      ]
    },
    {
      "cell_type": "code",
      "execution_count": 38,
      "metadata": {
        "id": "feS102OQcUm0",
        "outputId": "a9ff7eb2-63eb-4fb0-ddb0-b965e3c0d6d2",
        "colab": {
          "base_uri": "https://localhost:8080/"
        }
      },
      "outputs": [
        {
          "output_type": "stream",
          "name": "stdout",
          "text": [
            "[91 70 50 32 17  6]\n"
          ]
        }
      ],
      "source": [
        "print(autocorrelation)"
      ]
    },
    {
      "cell_type": "code",
      "execution_count": 39,
      "metadata": {
        "id": "sinCWJpIcUm0"
      },
      "outputs": [],
      "source": [
        "from statsmodels.stats.diagnostic import acorr_ljungbox"
      ]
    },
    {
      "cell_type": "code",
      "execution_count": 40,
      "metadata": {
        "id": "Pjuoe2AScUm0",
        "outputId": "18997e91-eba2-41f0-9ed5-ec7b7c648dc3",
        "colab": {
          "base_uri": "https://localhost:8080/"
        }
      },
      "outputs": [
        {
          "output_type": "stream",
          "name": "stdout",
          "text": [
            "(array([5.62977657, 5.66404473, 5.68899089]), array([0.01765788, 0.05889363, 0.12776183]))\n"
          ]
        }
      ],
      "source": [
        "re = acorr_ljungbox(data, lags=3)\n",
        "print(re)"
      ]
    }
  ],
  "metadata": {
    "kernelspec": {
      "display_name": "Python 3",
      "language": "python",
      "name": "python3"
    },
    "language_info": {
      "codemirror_mode": {
        "name": "ipython",
        "version": 3
      },
      "file_extension": ".py",
      "mimetype": "text/x-python",
      "name": "python",
      "nbconvert_exporter": "python",
      "pygments_lexer": "ipython3",
      "version": "3.7.3"
    },
    "colab": {
      "name": "Pruebas de autocorrelacion.ipynb",
      "provenance": []
    }
  },
  "nbformat": 4,
  "nbformat_minor": 0
}