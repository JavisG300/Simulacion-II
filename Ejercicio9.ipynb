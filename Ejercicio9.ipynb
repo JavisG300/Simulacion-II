{
  "cells": [
    {
      "cell_type": "code",
      "execution_count": 4,
      "metadata": {},
      "outputs": [],
      "source": [
        "import random"
      ]
    },
    {
      "cell_type": "markdown",
      "metadata": {},
      "source": [
        "## Ejercicio:\n",
        "\n",
        "1. Elegir al azar una ciudad de la Lista despues de hacer una mezcla.\n",
        "2. Elegir al azar tres ciudades después de una mezcla."
      ]
    },
    {
      "cell_type": "code",
      "execution_count": 5,
      "metadata": {},
      "outputs": [],
      "source": [
        "Lista = ['Rome','New York','London','Berlin','Moskov', 'Los Angeles','Paris','Madrid','Tokio','Toronto']"
      ]
    },
    {
      "cell_type": "code",
      "execution_count": 6,
      "metadata": {},
      "outputs": [
        {
          "name": "stdout",
          "output_type": "stream",
          "text": [
            "Lista en orden: \n",
            " ['Rome', 'New York', 'London', 'Berlin', 'Moskov', 'Los Angeles', 'Paris', 'Madrid', 'Tokio', 'Toronto']\n",
            "mezcla \n",
            " ['Madrid', 'Tokio', 'Paris', 'Los Angeles', 'New York', 'Berlin', 'Toronto', 'Rome', 'London', 'Moskov']\n",
            "La ciudad delegida es:  London\n"
          ]
        }
      ],
      "source": [
        "#Ejercicio 1\n",
        "print(\"Lista en orden: \\n\", Lista)\n",
        "random.shuffle(Lista)\n",
        "print('mezcla \\n', Lista)\n",
        "ciudad = random.choice(Lista)\n",
        "print(\"La ciudad delegida es: \", ciudad)\n",
        "\n"
      ]
    },
    {
      "cell_type": "code",
      "execution_count": 7,
      "metadata": {},
      "outputs": [
        {
          "name": "stdout",
          "output_type": "stream",
          "text": [
            "Lista en orden: \n",
            " ['Madrid', 'Tokio', 'Paris', 'Los Angeles', 'New York', 'Berlin', 'Toronto', 'Rome', 'London', 'Moskov']\n",
            "mezcla \n",
            " ['Los Angeles', 'Rome', 'Moskov', 'London', 'Toronto', 'Madrid', 'New York', 'Tokio', 'Paris', 'Berlin']\n",
            "La ciudad delegida es:  New York\n",
            "La ciudad delegida es:  Madrid\n",
            "La ciudad delegida es:  New York\n"
          ]
        }
      ],
      "source": [
        "#Ejercicio 2\n",
        "print(\"Lista en orden: \\n\", Lista)\n",
        "random.shuffle(Lista)\n",
        "print('mezcla \\n', Lista)\n",
        "for i in range (3):\n",
        "    ciudad = random.choice(Lista)\n",
        "    print(\"La ciudad delegida es: \", ciudad)"
      ]
    }
  ],
  "metadata": {
    "colab": {
      "name": "Uso de los números aleatorios.ipynb",
      "provenance": []
    },
    "kernelspec": {
      "display_name": "Python 3",
      "language": "python",
      "name": "python3"
    },
    "language_info": {
      "codemirror_mode": {
        "name": "ipython",
        "version": 3
      },
      "file_extension": ".py",
      "mimetype": "text/x-python",
      "name": "python",
      "nbconvert_exporter": "python",
      "pygments_lexer": "ipython3",
      "version": "3.9.6"
    }
  },
  "nbformat": 4,
  "nbformat_minor": 0
}
