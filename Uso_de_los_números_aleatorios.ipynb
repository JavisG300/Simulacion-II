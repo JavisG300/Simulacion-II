{
  "cells": [
    {
      "cell_type": "markdown",
      "metadata": {
        "id": "VlGvQn4uPnDt"
      },
      "source": [
        "# Uso de los números aleatorios"
      ]
    },
    {
      "cell_type": "markdown",
      "metadata": {
        "id": "gECFhkFAPnDv"
      },
      "source": [
        "## 1. Introducción al Módulo random"
      ]
    },
    {
      "cell_type": "markdown",
      "metadata": {
        "id": "0ac0p4uWPnDv"
      },
      "source": [
        "El módulo random de la librería estándar de Python incluye un conjunto de funciones que permiten obtener de distintos modos \n",
        "números pseudoaleatorios a través del algoritmo [Mersenne Twister](https://es.wikipedia.org/wiki/Mersenne_twister)."
      ]
    },
    {
      "cell_type": "code",
      "execution_count": null,
      "metadata": {
        "id": "ZqGgfem7PnDw"
      },
      "outputs": [],
      "source": [
        "#importamos el módulo que vamos a usar \n",
        "\n",
        "import random   "
      ]
    },
    {
      "cell_type": "markdown",
      "metadata": {
        "id": "vIESwiCzPnDx"
      },
      "source": [
        "Las funciones de los módulos se invocan con el formato: módulo.función().\n",
        "\n",
        "En el módulo random existe la función random, que devuelve un número aleatorio que sigue una distribución uniforme. \n",
        "\n",
        "Así, para obtener $x \\sim U(0,1)$:"
      ]
    },
    {
      "cell_type": "code",
      "execution_count": null,
      "metadata": {
        "id": "4fDjs9xkPnDx"
      },
      "outputs": [],
      "source": [
        "x = random.random()  #Cada ejecución dará un número distinto.\n",
        "print(x)"
      ]
    },
    {
      "cell_type": "markdown",
      "metadata": {
        "id": "PTuYR7xjPnDy"
      },
      "source": [
        "Se puede usar algún bucle si se desea generar una secuencia $x_i \\sim U(0,1)$ con $i = 1, 2, 3,..., N$:"
      ]
    },
    {
      "cell_type": "code",
      "execution_count": null,
      "metadata": {
        "id": "WiWBi-hPPnDy"
      },
      "outputs": [],
      "source": [
        "for i in range(10):\n",
        "    print('%05.4f' % random.random(), end=' ')  #El código en rojo indica la cantidad de dígitos y de decimales a mostrar.\n",
        "print()"
      ]
    },
    {
      "cell_type": "code",
      "execution_count": null,
      "metadata": {
        "id": "_8nG_adPPnDy"
      },
      "outputs": [],
      "source": [
        "for i in range(10):\n",
        "    print('%05.4f' % random.random(), sep=\"\\t\")\n",
        "print()"
      ]
    },
    {
      "cell_type": "markdown",
      "metadata": {
        "id": "Zj7wKuDTPnDy"
      },
      "source": [
        "La función seed() fija el valor de la semilla en la generación de la secuencia de números aleatorios. \n",
        "Esto es útil cuando se quieren utilizar los mismos datos de entrada en una simulación."
      ]
    },
    {
      "cell_type": "code",
      "execution_count": null,
      "metadata": {
        "id": "tpJbs7q-PnDz"
      },
      "outputs": [],
      "source": [
        "random.seed(1) #primero fijamos la semilla\n",
        "\n",
        "for i in range(20):\n",
        "    print('%05.4f' % random.random(), end=' ')\n",
        "print()"
      ]
    },
    {
      "cell_type": "markdown",
      "metadata": {
        "id": "UWWaVdC8PnDz"
      },
      "source": [
        "## Ejercicio 1: \n",
        "    a)Usar la función random() para simular 1 volado.\n",
        "    b)Usar la función random() para simular 1000 volados.\n",
        "    c)Determinar de b) la probabilidad de que ocurra \"sol\" en un volado. "
      ]
    },
    {
      "cell_type": "markdown",
      "metadata": {
        "id": "9V9UJL0tPnDz"
      },
      "source": [
        "La función uniform() devuelve un número float incluido entre los valores indicados."
      ]
    },
    {
      "cell_type": "code",
      "execution_count": null,
      "metadata": {
        "id": "LwwSG1qmPnD0"
      },
      "outputs": [],
      "source": [
        "for i in range(10):\n",
        "    print('%5.4f' %random.uniform(1, 50), end=' ')\n",
        "print()"
      ]
    },
    {
      "cell_type": "markdown",
      "metadata": {
        "id": "c9biXCqLPnD0"
      },
      "source": [
        "La función randint() devuelve un número entero incluido entre los valores indicados. \n",
        "Los valores de los límites inferior y superior también pueden aparecer entre los valores devueltos."
      ]
    },
    {
      "cell_type": "code",
      "execution_count": null,
      "metadata": {
        "id": "3zeeFJjLPnD0"
      },
      "outputs": [],
      "source": [
        "for i in range(20):\n",
        "    print(random.randint(-100, 100), end=' ')\n",
        "print()"
      ]
    },
    {
      "cell_type": "markdown",
      "metadata": {
        "id": "ua5_5t5VPnD0"
      },
      "source": [
        "## Ejercicio 2:\n",
        "    a) Simular un sorteo de los colores blanco, negro, rojo, azul y verde.\n",
        "    b) Simular 5 sorteos con sustitución."
      ]
    },
    {
      "cell_type": "markdown",
      "metadata": {
        "id": "vlbFBzwYPnD1"
      },
      "source": [
        "La función randrange() devuelve enteros que van desde un valor inicial a otro final \n",
        "separados entre sí un número de valores determinados."
      ]
    },
    {
      "cell_type": "code",
      "execution_count": null,
      "metadata": {
        "id": "Rk5fHExUPnD1"
      },
      "outputs": [],
      "source": [
        "for i in range(20):\n",
        "    print(random.randrange(0, 20, 3), end=' ')\n",
        "print()"
      ]
    },
    {
      "cell_type": "markdown",
      "metadata": {
        "id": "-vojNhL-PnD1"
      },
      "source": [
        "# 2. Estimación del número $\\pi$"
      ]
    },
    {
      "cell_type": "code",
      "execution_count": null,
      "metadata": {
        "id": "fuO7WTdaPnD1"
      },
      "outputs": [],
      "source": [
        "import matplotlib.pyplot as plt\n",
        "import numpy as np"
      ]
    },
    {
      "cell_type": "code",
      "execution_count": null,
      "metadata": {
        "id": "JtM-TrdMPnD1"
      },
      "outputs": [],
      "source": [
        "x = np.linspace(0, 1, 100)\n",
        "y = np.sqrt(1 - x**2)               # Ecuación del círculo en el primer cuadrante \n",
        "\n",
        "\n",
        "x_1 = random.random()\n",
        "y_1 = random.random()\n",
        "\n",
        "fig = plt.figure(1, figsize=(8, 8))        # Aquí fijamos el formato de la gráfica para que sea cuadrada.\n",
        "plt.plot(x, y, color=\"red\", markersize=1) \n",
        "plt.scatter(x_1, y_1, s=20, c=\"blue\")\n",
        "plt.title(\"Estimación de $\\pi$\")\n",
        "plt.xlabel(\"X\")\n",
        "plt.ylabel(\"Y\")\n",
        "plt.grid()\n",
        "plt.show()"
      ]
    },
    {
      "cell_type": "markdown",
      "metadata": {
        "id": "30RJlnuLPnD2"
      },
      "source": [
        "# Tarea 1. \n",
        "    Estimar el valor de pi usando la función random"
      ]
    },
    {
      "cell_type": "code",
      "execution_count": null,
      "metadata": {
        "id": "5foVEJ9_PnD2"
      },
      "outputs": [],
      "source": [
        ""
      ]
    },
    {
      "cell_type": "markdown",
      "metadata": {
        "id": "UnFqhipnPnD2"
      },
      "source": [
        "## La aproximación analítica"
      ]
    },
    {
      "cell_type": "markdown",
      "metadata": {
        "id": "4uf3HrPdPnD2"
      },
      "source": [
        "Partamos de la ecuación:\n",
        "\n",
        "##     $\\pi = 4\\arctan 1$\n",
        "\n",
        "y usemos la aproximación de Taylor para expandir en una serie de potencias.\n",
        "\n",
        "Recordar:\n",
        "\n",
        "$f(x) = f(0) + f´(x)x + \\frac{1}{2}f´´(0)x^2 + ...$\n",
        "\n",
        "$Si f(x) = \\arctan x$ entonces:\n",
        "\n",
        "$f´(x) = \\frac{d \\arctan x}{dx} = \\frac{1}{1 + x^2} \\rightarrow f´(0) = 1$\n",
        "\n",
        "$f´´(x) = \\frac{d^2 \\arctan x}{d^2x} = - \\frac{2x}{(1 + x^2)^2} \\rightarrow f´´(0) = 0$\n",
        "\n",
        "...\n",
        "\n",
        "$f^{2i + 1}(x) = (-1)^{i} \\frac{(2i)!}{(1 + x^2)^{2i + 1}} \\rightarrow f^{2i + 1}(0) = (-1)(2i)!$\n",
        "\n",
        "$f^{2i}(x) = 0$\n",
        "\n",
        "Entonces:\n",
        "\n",
        "$\\arctan x = \\sum_{i = 0} (-1)^{i} \\frac{x^{2i + 1}}{2i + 1}$\n",
        "\n",
        "Por tanto:\n",
        "\n",
        "## $\\pi = \\sum_{i = 0} (-1)^{i} \\frac{4}{2i + 1}$"
      ]
    },
    {
      "cell_type": "code",
      "execution_count": null,
      "metadata": {
        "id": "wiD9ffBrPnD3"
      },
      "outputs": [],
      "source": [
        "def pi_taylor(n):\n",
        "    pi = 0\n",
        "    for i in range(n):\n",
        "        pi = pi + 4.0/(2*i+1)*(-1)**i\n",
        "        print(i, pi)"
      ]
    },
    {
      "cell_type": "code",
      "execution_count": null,
      "metadata": {
        "id": "sSd2z591PnD3"
      },
      "outputs": [],
      "source": [
        "pi_taylor(10)"
      ]
    },
    {
      "cell_type": "code",
      "execution_count": null,
      "metadata": {
        "id": "JDNOEzMhPnD3"
      },
      "outputs": [],
      "source": [
        "def pi_Taylor(n):\n",
        "    pi = 0\n",
        "    L =[]\n",
        "    for i in range(n):\n",
        "        pi = pi + 4.0/(2*i+1)*(-1)**i\n",
        "        L.append(pi)\n",
        "    fig = plt.figure(1, figsize=(8, 8))        \n",
        "    plt.plot(L, color=\"red\", markersize=1)\n",
        "    plt.xlabel(\"Iteraciones\")\n",
        "    plt.ylabel(\"Estimación\")\n",
        "    plt.grid()\n",
        "    plt.show()"
      ]
    },
    {
      "cell_type": "code",
      "execution_count": null,
      "metadata": {
        "id": "ei5Doa9WPnD4"
      },
      "outputs": [],
      "source": [
        "pi_Taylor(200)"
      ]
    },
    {
      "cell_type": "markdown",
      "metadata": {
        "id": "O8EtHrlePnD4"
      },
      "source": [
        "## Ejercicio 3:\n",
        "\n",
        "Graficar las salidas obtenidas en la Tarea 1"
      ]
    },
    {
      "cell_type": "markdown",
      "metadata": {
        "id": "p0t_a3khPnD4"
      },
      "source": [
        "## Continuamos"
      ]
    },
    {
      "cell_type": "code",
      "execution_count": null,
      "metadata": {
        "id": "kjD-8sK6PnD4"
      },
      "outputs": [],
      "source": [
        "x = np.linspace(0, 1, 100)\n",
        "y = np.sqrt(1 - x**2)               # Ecuación del círculo en el primer cuadrante \n",
        "\n",
        "\n",
        "x_1 = random.random()\n",
        "y_1 = random.random()\n",
        "\n",
        "fig = plt.figure(1, figsize=(8, 8))        # Aquí fijamos el formato de la gráfica para que sea cuadrada.\n",
        "plt.plot(x, y, color=\"red\", markersize=1) \n",
        "plt.scatter(x_1, y_1, s=20, c=\"blue\")\n",
        "plt.title(\"Estimación de $\\pi$\")\n",
        "plt.xlabel(\"X\")\n",
        "plt.ylabel(\"Y\")\n",
        "plt.grid()\n",
        "plt.show()"
      ]
    },
    {
      "cell_type": "code",
      "execution_count": null,
      "metadata": {
        "id": "ZfqBy2cFPnD4"
      },
      "outputs": [],
      "source": [
        "def pi_mc(n):\n",
        "    pi = 0\n",
        "    counter = 0\n",
        "    for i in range(n):\n",
        "        x = random.random()\n",
        "        y = random.random()\n",
        "        if x**2 + y**2 <1:\n",
        "            counter = counter + 1\n",
        "        pi = 4.0*float(counter)/(i + 1)\n",
        "        print(i, pi)"
      ]
    },
    {
      "cell_type": "code",
      "execution_count": null,
      "metadata": {
        "id": "k6tL_hLFPnD5"
      },
      "outputs": [],
      "source": [
        "pi_mc(10)"
      ]
    },
    {
      "cell_type": "code",
      "execution_count": null,
      "metadata": {
        "id": "c5WAOLspPnD5"
      },
      "outputs": [],
      "source": [
        "def pi_mc(n):\n",
        "    pi = 0\n",
        "    lx = []\n",
        "    ly = []\n",
        "    counter = 0\n",
        "    for i in range(n):\n",
        "        x = random.random()\n",
        "        y = random.random()\n",
        "        if x**2 + y**2 <1:\n",
        "            counter = counter + 1\n",
        "            lx.append(counter)\n",
        "            ly.append(4.0*float(counter)/(i + 1))\n",
        "        \n",
        "        pi = 4.0*float(counter)/(i + 1)\n",
        "        \n",
        "        e = np.absolute((pi - np.pi)/np.pi)\n",
        "    print(\"pi =\", pi)\n",
        "    print(\"error =\", e)\n",
        "    \n",
        "    fig = plt.figure(1, figsize=(8, 8))        \n",
        "    plt.xlabel(\"Iteraciones\")\n",
        "    plt.ylabel(\"Estimación de $\\pi$\")\n",
        "    plt.grid()\n",
        "    plt.plot(lx, ly, color=\"blue\", markersize=1)\n",
        "    plt.show()"
      ]
    },
    {
      "cell_type": "code",
      "execution_count": null,
      "metadata": {
        "id": "oqnlP9wePnD5"
      },
      "outputs": [],
      "source": [
        "pi_mc(1000)"
      ]
    },
    {
      "cell_type": "markdown",
      "metadata": {
        "id": "KDfeA_IgPnD5"
      },
      "source": [
        "Si se tiene, para cada punto aleatorio:\n",
        "    \n",
        "$X_i = 1$ si cae dentro del circulo y\n",
        "\n",
        "$X_i = 0$ si cae fuera"
      ]
    },
    {
      "cell_type": "markdown",
      "metadata": {
        "id": "LPB_VhVcPnD6"
      },
      "source": [
        "## Ejercicio 4:\n",
        "\n",
        "a) Calcular $E[X_i]$ y $V[X_i]$\n",
        "\n",
        "\n"
      ]
    },
    {
      "cell_type": "markdown",
      "metadata": {
        "id": "l7PluYmcPnD6"
      },
      "source": [
        "Para el experimento de simulación, definimos $Z_N = \\frac{X_1 + X_2 + ... + X_N}{N}$"
      ]
    },
    {
      "cell_type": "markdown",
      "metadata": {
        "id": "KGJK0x-tPnD6"
      },
      "source": [
        "## Ejercicio 5:\n",
        "a) Calcular  $E[Z_N]$ y $V[Z_N]$\n",
        "b) ¿Cuál debe ser el valor de $N$ para que el error sea de 0.01?"
      ]
    },
    {
      "cell_type": "markdown",
      "metadata": {
        "id": "pgkSUyczPnD6"
      },
      "source": [
        "# Integrales"
      ]
    },
    {
      "cell_type": "code",
      "execution_count": null,
      "metadata": {
        "id": "UnVhLKi0PnD6"
      },
      "outputs": [],
      "source": [
        "def riemannplot(f, a, b, ra, rb, n):\n",
        "    # f es la función \n",
        "    # a y b son los limites del eje x para graficar la funcion f\n",
        "    # ra y rb son los limites del intervalo en el eje x del que queremos calcular la suma\n",
        "    # n es el numero de rectangulos que calcularemos\n",
        "\n",
        "    atenuacion = (b-a)/100\n",
        "    x = np.arange(a, b+atenuacion, atenuacion)\n",
        "    \n",
        "    plt.plot(x, f(x), color='red')\n",
        "\n",
        "    delta_x = (rb-ra)/n\n",
        "    riemannx = np.arange(ra, rb, delta_x)\n",
        "    riemanny = f(riemannx)\n",
        "    riemann_sum = sum(riemanny*delta_x)\n",
        "\n",
        "    plt.bar(riemannx,riemanny,width=delta_x,alpha=0.5,edgecolor = 'black',facecolor='green')\n",
        "   \n",
        "    plt.xlabel('x')\n",
        "    plt.ylabel('f(x)')\n",
        "    \n",
        "    plt.title('Suma de Riemann por la izquierda de f(x)')\n",
        "    plt.figtext(0.1,-0.05, \"Suma de Riemann: %.5f \" %(riemann_sum), color='b')\n",
        "    plt.savefig('riemann.png')\n",
        "    plt.show()"
      ]
    },
    {
      "cell_type": "code",
      "execution_count": null,
      "metadata": {
        "id": "e_hIM2J-PnD6"
      },
      "outputs": [],
      "source": [
        "def f(x):\n",
        "    return np.sqrt(np.arctan(x))"
      ]
    },
    {
      "cell_type": "code",
      "execution_count": null,
      "metadata": {
        "id": "SqeMM1QgPnD7"
      },
      "outputs": [],
      "source": [
        "riemannplot(f, 0, 1.001, 0, 1.001, 20)"
      ]
    },
    {
      "cell_type": "code",
      "execution_count": null,
      "metadata": {
        "id": "yF4yS4tuPnD7"
      },
      "outputs": [],
      "source": [
        ""
      ]
    }
  ],
  "metadata": {
    "kernelspec": {
      "display_name": "Python 3",
      "language": "python",
      "name": "python3"
    },
    "language_info": {
      "codemirror_mode": {
        "name": "ipython",
        "version": 3
      },
      "file_extension": ".py",
      "mimetype": "text/x-python",
      "name": "python",
      "nbconvert_exporter": "python",
      "pygments_lexer": "ipython3",
      "version": "3.7.3"
    },
    "colab": {
      "name": "Uso de los números aleatorios.ipynb",
      "provenance": []
    }
  },
  "nbformat": 4,
  "nbformat_minor": 0
}