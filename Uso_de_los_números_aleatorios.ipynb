{
  "cells": [
    {
      "cell_type": "markdown",
      "metadata": {
        "id": "VlGvQn4uPnDt"
      },
      "source": [
        "# Uso de los números aleatorios"
      ]
    },
    {
      "cell_type": "markdown",
      "metadata": {
        "id": "gECFhkFAPnDv"
      },
      "source": [
        "## 1. Introducción al Módulo random"
      ]
    },
    {
      "cell_type": "markdown",
      "metadata": {
        "id": "0ac0p4uWPnDv"
      },
      "source": [
        "El módulo random de la librería estándar de Python incluye un conjunto de funciones que permiten obtener de distintos modos \n",
        "números pseudoaleatorios a través del algoritmo [Mersenne Twister](https://es.wikipedia.org/wiki/Mersenne_twister)."
      ]
    },
    {
      "cell_type": "code",
      "execution_count": 2,
      "metadata": {
        "id": "ZqGgfem7PnDw"
      },
      "outputs": [],
      "source": [
        "#importamos el módulo que vamos a usar \n",
        "\n",
        "import random   "
      ]
    },
    {
      "cell_type": "markdown",
      "metadata": {
        "id": "vIESwiCzPnDx"
      },
      "source": [
        "Las funciones de los módulos se invocan con el formato: módulo.función().\n",
        "\n",
        "En el módulo random existe la función random, que devuelve un número aleatorio que sigue una distribución uniforme. \n",
        "\n",
        "Así, para obtener $x \\sim U(0,1)$:"
      ]
    },
    {
      "cell_type": "code",
      "execution_count": 3,
      "metadata": {
        "id": "4fDjs9xkPnDx"
      },
      "outputs": [
        {
          "name": "stdout",
          "output_type": "stream",
          "text": [
            "0.290060700903078\n"
          ]
        }
      ],
      "source": [
        "x = random.random()  #Cada ejecución dará un número distinto.\n",
        "print(x)"
      ]
    },
    {
      "cell_type": "markdown",
      "metadata": {
        "id": "PTuYR7xjPnDy"
      },
      "source": [
        "Se puede usar algún bucle si se desea generar una secuencia $x_i \\sim U(0,1)$ con $i = 1, 2, 3,..., N$:"
      ]
    },
    {
      "cell_type": "code",
      "execution_count": 4,
      "metadata": {
        "id": "WiWBi-hPPnDy"
      },
      "outputs": [
        {
          "name": "stdout",
          "output_type": "stream",
          "text": [
            "0.4192 0.0399 0.4179 0.9370 0.9454 0.0608 0.8783 0.2499 0.9786 0.7877 \n"
          ]
        }
      ],
      "source": [
        "for i in range(10):\n",
        "    print('%05.4f' % random.random(), end=' ')  #El código en rojo indica la cantidad de dígitos y de decimales a mostrar.\n",
        "print()"
      ]
    },
    {
      "cell_type": "code",
      "execution_count": 5,
      "metadata": {
        "id": "_8nG_adPPnDy"
      },
      "outputs": [
        {
          "name": "stdout",
          "output_type": "stream",
          "text": [
            "0.5783\n",
            "0.7350\n",
            "0.1565\n",
            "0.5764\n",
            "0.5637\n",
            "0.4152\n",
            "0.5374\n",
            "0.8470\n",
            "0.8022\n",
            "0.4773\n",
            "\n"
          ]
        }
      ],
      "source": [
        "for i in range(10):\n",
        "    print('%05.4f' % random.random(), sep=\"\\t\")\n",
        "print()"
      ]
    },
    {
      "cell_type": "markdown",
      "metadata": {
        "id": "Zj7wKuDTPnDy"
      },
      "source": [
        "La función seed() fija el valor de la semilla en la generación de la secuencia de números aleatorios. \n",
        "Esto es útil cuando se quieren utilizar los mismos datos de entrada en una simulación."
      ]
    },
    {
      "cell_type": "code",
      "execution_count": 6,
      "metadata": {
        "id": "tpJbs7q-PnDz"
      },
      "outputs": [
        {
          "name": "stdout",
          "output_type": "stream",
          "text": [
            "0.1344 0.8474 0.7638 0.2551 0.4954 0.4495 0.6516 0.7887 0.0939 0.0283 0.8358 0.4328 0.7623 0.0021 0.4454 0.7215 0.2288 0.9453 0.9014 0.0306 \n"
          ]
        }
      ],
      "source": [
        "random.seed(1) #primero fijamos la semilla\n",
        "\n",
        "for i in range(20):\n",
        "    print('%05.4f' % random.random(), end=' ')\n",
        "print()"
      ]
    },
    {
      "cell_type": "markdown",
      "metadata": {
        "id": "UWWaVdC8PnDz"
      },
      "source": [
        "## Ejercicio 1: \n",
        "    a)Usar la función random() para simular 1 volado.\n",
        "    b)Usar la función random() para simular 1000 volados.\n",
        "    c)Determinar de b) la probabilidad de que ocurra \"sol\" en un volado. "
      ]
    },
    {
      "cell_type": "code",
      "execution_count": 7,
      "metadata": {},
      "outputs": [],
      "source": [
        "#Función volado\n",
        "def volado():\n",
        "    x=random.random() #podemos usar la librería que se importó antes en el documento\n",
        "    if x <= 0.5:\n",
        "        moneda = \"aguila\"\n",
        "    else:\n",
        "        moneda = \"sol\"\n",
        "    return moneda"
      ]
    },
    {
      "cell_type": "code",
      "execution_count": 8,
      "metadata": {},
      "outputs": [
        {
          "name": "stdout",
          "output_type": "stream",
          "text": [
            "aguila\n"
          ]
        }
      ],
      "source": [
        "print(volado())"
      ]
    },
    {
      "cell_type": "code",
      "execution_count": 9,
      "metadata": {},
      "outputs": [
        {
          "name": "stdout",
          "output_type": "stream",
          "text": [
            "['sol', 'sol', 'aguila', 'aguila', 'aguila', 'aguila', 'aguila', 'aguila', 'aguila', 'aguila', 'aguila', 'aguila', 'aguila', 'aguila', 'aguila', 'sol', 'sol', 'sol', 'aguila', 'sol', 'sol', 'aguila', 'aguila', 'sol', 'sol', 'sol', 'aguila', 'sol', 'sol', 'aguila', 'sol', 'sol', 'sol', 'sol', 'sol', 'aguila', 'aguila', 'sol', 'aguila', 'aguila', 'sol', 'sol', 'sol', 'aguila', 'aguila', 'sol', 'sol', 'sol', 'aguila', 'aguila', 'aguila', 'aguila', 'sol', 'sol', 'sol', 'aguila', 'aguila', 'sol', 'sol', 'sol', 'sol', 'sol', 'aguila', 'sol', 'sol', 'sol', 'aguila', 'aguila', 'sol', 'sol', 'aguila', 'sol', 'sol', 'sol', 'sol', 'sol', 'sol', 'sol', 'aguila', 'aguila', 'sol', 'sol', 'aguila', 'sol', 'aguila', 'aguila', 'aguila', 'sol', 'sol', 'sol', 'aguila', 'aguila', 'aguila', 'aguila', 'sol', 'sol', 'sol', 'sol', 'sol', 'aguila', 'sol', 'sol', 'aguila', 'aguila', 'aguila', 'sol', 'aguila', 'aguila', 'sol', 'aguila', 'aguila', 'aguila', 'sol', 'aguila', 'aguila', 'sol', 'aguila', 'aguila', 'aguila', 'aguila', 'aguila', 'aguila', 'aguila', 'aguila', 'sol', 'sol', 'aguila', 'sol', 'sol', 'aguila', 'aguila', 'aguila', 'sol', 'aguila', 'sol', 'sol', 'sol', 'aguila', 'sol', 'sol', 'sol', 'aguila', 'sol', 'aguila', 'sol', 'aguila', 'sol', 'aguila', 'aguila', 'sol', 'sol', 'aguila', 'sol', 'aguila', 'sol', 'sol', 'aguila', 'aguila', 'aguila', 'sol', 'aguila', 'sol', 'sol', 'sol', 'aguila', 'sol', 'sol', 'sol', 'sol', 'aguila', 'aguila', 'aguila', 'sol', 'aguila', 'aguila', 'aguila', 'sol', 'aguila', 'aguila', 'aguila', 'sol', 'sol', 'aguila', 'aguila', 'aguila', 'sol', 'sol', 'aguila', 'aguila', 'sol', 'sol', 'sol', 'aguila', 'sol', 'sol', 'aguila', 'sol', 'aguila', 'sol', 'aguila', 'aguila', 'sol', 'aguila', 'sol', 'sol', 'sol', 'aguila', 'aguila', 'aguila', 'sol', 'sol', 'sol', 'sol', 'aguila', 'sol', 'aguila', 'aguila', 'aguila', 'sol', 'sol', 'sol', 'aguila', 'sol', 'sol', 'aguila', 'sol', 'aguila', 'aguila', 'aguila', 'sol', 'sol', 'sol', 'aguila', 'aguila', 'sol', 'sol', 'aguila', 'sol', 'aguila', 'aguila', 'sol', 'aguila', 'aguila', 'sol', 'aguila', 'aguila', 'aguila', 'aguila', 'sol', 'aguila', 'sol', 'aguila', 'sol', 'sol', 'aguila', 'aguila', 'aguila', 'aguila', 'sol', 'aguila', 'aguila', 'sol', 'aguila', 'sol', 'aguila', 'aguila', 'aguila', 'sol', 'sol', 'sol', 'aguila', 'aguila', 'sol', 'sol', 'sol', 'sol', 'sol', 'aguila', 'sol', 'aguila', 'aguila', 'aguila', 'aguila', 'sol', 'aguila', 'sol', 'sol', 'sol', 'aguila', 'aguila', 'aguila', 'aguila', 'sol', 'sol', 'aguila', 'aguila', 'sol', 'sol', 'sol', 'aguila', 'aguila', 'aguila', 'aguila', 'sol', 'aguila', 'aguila', 'sol', 'aguila', 'sol', 'aguila', 'sol', 'aguila', 'sol', 'sol', 'aguila', 'sol', 'aguila', 'sol', 'sol', 'sol', 'aguila', 'aguila', 'sol', 'sol', 'aguila', 'sol', 'aguila', 'sol', 'aguila', 'aguila', 'sol', 'sol', 'sol', 'sol', 'sol', 'sol', 'aguila', 'aguila', 'aguila', 'sol', 'sol', 'aguila', 'aguila', 'sol', 'sol', 'sol', 'sol', 'sol', 'aguila', 'aguila', 'aguila', 'aguila', 'aguila', 'sol', 'aguila', 'sol', 'aguila', 'aguila', 'aguila', 'aguila', 'aguila', 'sol', 'aguila', 'aguila', 'sol', 'aguila', 'aguila', 'sol', 'sol', 'sol', 'aguila', 'sol', 'sol', 'aguila', 'aguila', 'aguila', 'aguila', 'aguila', 'sol', 'sol', 'sol', 'aguila', 'sol', 'aguila', 'aguila', 'sol', 'sol', 'aguila', 'sol', 'sol', 'aguila', 'sol', 'sol', 'aguila', 'sol', 'sol', 'sol', 'sol', 'sol', 'sol', 'sol', 'aguila', 'aguila', 'aguila', 'sol', 'sol', 'aguila', 'sol', 'sol', 'aguila', 'sol', 'aguila', 'sol', 'aguila', 'sol', 'sol', 'sol', 'aguila', 'sol', 'sol', 'aguila', 'sol', 'sol', 'sol', 'sol', 'aguila', 'sol', 'sol', 'aguila', 'sol', 'aguila', 'aguila', 'aguila', 'aguila', 'sol', 'sol', 'aguila', 'sol', 'aguila', 'aguila', 'aguila', 'aguila', 'sol', 'aguila', 'aguila', 'aguila', 'aguila', 'sol', 'sol', 'sol', 'aguila', 'aguila', 'sol', 'aguila', 'sol', 'aguila', 'sol', 'sol', 'sol', 'sol', 'sol', 'aguila', 'sol', 'sol', 'sol', 'aguila', 'aguila', 'aguila', 'sol', 'aguila', 'sol', 'sol', 'sol', 'sol', 'sol', 'aguila', 'sol', 'sol', 'aguila', 'sol', 'aguila', 'sol', 'aguila', 'aguila', 'aguila', 'aguila', 'aguila', 'sol', 'sol', 'aguila', 'sol', 'aguila', 'aguila', 'aguila', 'aguila', 'sol', 'sol', 'sol', 'sol', 'sol', 'aguila', 'sol', 'aguila', 'sol', 'sol', 'aguila', 'aguila', 'sol', 'sol', 'aguila', 'aguila', 'aguila', 'aguila', 'aguila', 'sol', 'sol', 'sol', 'sol', 'sol', 'aguila', 'sol', 'sol', 'sol', 'sol', 'aguila', 'sol', 'sol', 'sol', 'sol', 'sol', 'sol', 'sol', 'sol', 'aguila', 'aguila', 'sol', 'sol', 'sol', 'aguila', 'sol', 'aguila', 'aguila', 'aguila', 'sol', 'sol', 'aguila', 'aguila', 'sol', 'aguila', 'sol', 'sol', 'sol', 'aguila', 'sol', 'sol', 'aguila', 'aguila', 'sol', 'aguila', 'aguila', 'sol', 'sol', 'aguila', 'sol', 'sol', 'aguila', 'sol', 'sol', 'sol', 'aguila', 'sol', 'aguila', 'sol', 'aguila', 'sol', 'sol', 'aguila', 'aguila', 'sol', 'sol', 'sol', 'aguila', 'sol', 'sol', 'aguila', 'aguila', 'sol', 'sol', 'aguila', 'sol', 'aguila', 'sol', 'aguila', 'sol', 'sol', 'sol', 'aguila', 'sol', 'aguila', 'aguila', 'sol', 'aguila', 'sol', 'aguila', 'sol', 'sol', 'aguila', 'aguila', 'aguila', 'aguila', 'aguila', 'aguila', 'aguila', 'sol', 'sol', 'aguila', 'aguila', 'sol', 'sol', 'sol', 'sol', 'aguila', 'sol', 'aguila', 'sol', 'aguila', 'aguila', 'aguila', 'aguila', 'aguila', 'aguila', 'sol', 'aguila', 'sol', 'aguila', 'sol', 'aguila', 'sol', 'sol', 'sol', 'aguila', 'sol', 'sol', 'aguila', 'aguila', 'sol', 'sol', 'aguila', 'sol', 'sol', 'aguila', 'sol', 'aguila', 'aguila', 'sol', 'aguila', 'aguila', 'aguila', 'aguila', 'sol', 'sol', 'aguila', 'aguila', 'sol', 'aguila', 'aguila', 'aguila', 'aguila', 'aguila', 'sol', 'sol', 'sol', 'sol', 'sol', 'aguila', 'sol', 'sol', 'sol', 'aguila', 'aguila', 'sol', 'sol', 'aguila', 'sol', 'sol', 'sol', 'aguila', 'aguila', 'aguila', 'aguila', 'sol', 'aguila', 'sol', 'sol', 'sol', 'sol', 'sol', 'aguila', 'sol', 'aguila', 'sol', 'sol', 'sol', 'aguila', 'aguila', 'sol', 'aguila', 'aguila', 'sol', 'aguila', 'sol', 'aguila', 'aguila', 'aguila', 'sol', 'sol', 'aguila', 'sol', 'aguila', 'sol', 'aguila', 'aguila', 'aguila', 'sol', 'aguila', 'aguila', 'sol', 'sol', 'sol', 'aguila', 'aguila', 'aguila', 'sol', 'aguila', 'aguila', 'sol', 'sol', 'sol', 'aguila', 'sol', 'aguila', 'sol', 'sol', 'sol', 'sol', 'sol', 'sol', 'sol', 'aguila', 'aguila', 'aguila', 'sol', 'aguila', 'aguila', 'sol', 'aguila', 'sol', 'sol', 'aguila', 'aguila', 'aguila', 'aguila', 'sol', 'sol', 'sol', 'aguila', 'sol', 'aguila', 'aguila', 'aguila', 'sol', 'aguila', 'sol', 'sol', 'sol', 'sol', 'sol', 'sol', 'sol', 'aguila', 'sol', 'sol', 'sol', 'sol', 'sol', 'sol', 'aguila', 'sol', 'sol', 'aguila', 'aguila', 'sol', 'sol', 'aguila', 'aguila', 'sol', 'sol', 'sol', 'aguila', 'aguila', 'sol', 'aguila', 'aguila', 'sol', 'aguila', 'aguila', 'aguila', 'sol', 'sol', 'aguila', 'aguila', 'sol', 'sol', 'aguila', 'sol', 'aguila', 'aguila', 'sol', 'sol', 'aguila', 'sol', 'sol', 'sol', 'sol', 'aguila', 'sol', 'sol', 'sol', 'sol', 'sol', 'sol', 'sol', 'aguila', 'aguila', 'sol', 'sol', 'sol', 'aguila', 'aguila', 'sol', 'sol', 'sol', 'aguila', 'sol', 'aguila', 'aguila', 'aguila', 'sol', 'aguila', 'aguila', 'aguila', 'sol', 'sol', 'sol', 'sol', 'sol', 'sol', 'sol', 'sol', 'sol', 'sol', 'aguila', 'sol', 'aguila', 'aguila', 'sol', 'sol', 'sol', 'sol', 'aguila', 'sol', 'sol', 'sol', 'sol', 'aguila', 'aguila', 'sol', 'sol', 'sol', 'sol', 'sol', 'sol', 'aguila', 'aguila', 'sol', 'aguila', 'sol', 'aguila', 'aguila', 'aguila', 'aguila', 'aguila', 'aguila', 'aguila', 'aguila', 'aguila', 'sol', 'sol', 'aguila', 'sol', 'aguila', 'sol', 'sol', 'sol', 'aguila', 'sol', 'aguila', 'sol', 'aguila', 'sol', 'sol', 'aguila', 'aguila', 'sol', 'aguila', 'aguila', 'aguila', 'aguila', 'sol', 'aguila', 'sol', 'sol', 'aguila', 'sol', 'sol', 'sol', 'sol', 'aguila', 'sol', 'sol', 'aguila', 'sol', 'aguila', 'sol', 'aguila', 'aguila', 'aguila', 'aguila', 'sol', 'sol', 'sol', 'sol', 'aguila', 'aguila', 'sol', 'aguila', 'sol', 'sol', 'aguila', 'sol', 'aguila', 'aguila', 'sol', 'aguila', 'sol', 'aguila', 'sol', 'sol', 'aguila', 'aguila', 'sol', 'sol', 'aguila', 'sol', 'aguila', 'aguila', 'aguila', 'sol', 'sol', 'sol', 'sol', 'aguila', 'sol', 'aguila', 'sol', 'sol', 'aguila', 'aguila', 'sol', 'aguila', 'aguila', 'aguila', 'sol', 'sol', 'sol', 'sol', 'sol', 'aguila', 'aguila', 'aguila', 'sol', 'aguila', 'aguila', 'aguila', 'aguila', 'aguila', 'sol', 'aguila', 'sol', 'sol']\n",
            "probabilidad de obtener sol 0.527\n",
            "numero de volados 1000\n"
          ]
        }
      ],
      "source": [
        "#Simulación de 1000 volados y probabilidad de salir sol\n",
        "from statistics import mean\n",
        "nr=1000\n",
        "l=[]\n",
        "lp=[]\n",
        "ca=0\n",
        "cs=0\n",
        "for i in range(nr):\n",
        "    l.append(volado())\n",
        "for i in l:\n",
        "    if i == \"aguila\":\n",
        "       ca=ca+1\n",
        "    else:\n",
        "        cs=cs+1\n",
        "probabilidad_sol= cs/(ca+cs)\n",
        "lp.append(probabilidad_sol)\n",
        "medproba = mean(lp)\n",
        "print(l)\n",
        "print(\"probabilidad de obtener sol\", medproba)\n",
        "print(\"numero de volados\", len(l))"
      ]
    },
    {
      "cell_type": "markdown",
      "metadata": {
        "id": "9V9UJL0tPnDz"
      },
      "source": [
        "La función uniform() devuelve un número float incluido entre los valores indicados."
      ]
    },
    {
      "cell_type": "code",
      "execution_count": 10,
      "metadata": {
        "id": "LwwSG1qmPnD0"
      },
      "outputs": [
        {
          "name": "stdout",
          "output_type": "stream",
          "text": [
            "27.2034 3.8500 16.9743 34.8153 32.6081 40.7858 44.6839 16.4530 25.1928 17.1720 \n"
          ]
        }
      ],
      "source": [
        "for i in range(10):\n",
        "    print('%5.4f' %random.uniform(1, 50), end=' ')\n",
        "print()"
      ]
    },
    {
      "cell_type": "markdown",
      "metadata": {
        "id": "c9biXCqLPnD0"
      },
      "source": [
        "La función randint() devuelve un número entero incluido entre los valores indicados. \n",
        "Los valores de los límites inferior y superior también pueden aparecer entre los valores devueltos."
      ]
    },
    {
      "cell_type": "code",
      "execution_count": 11,
      "metadata": {
        "id": "3zeeFJjLPnD0"
      },
      "outputs": [
        {
          "name": "stdout",
          "output_type": "stream",
          "text": [
            "-68 -65 78 -35 -43 -78 62 37 79 -88 44 -56 75 -71 -43 44 -49 28 45 68 \n"
          ]
        }
      ],
      "source": [
        "for i in range(20):\n",
        "    print(random.randint(-100, 100), end=' ')\n",
        "print()"
      ]
    },
    {
      "cell_type": "markdown",
      "metadata": {
        "id": "ua5_5t5VPnD0"
      },
      "source": [
        "## Ejercicio 2:\n",
        "    a) Simular un sorteo de los colores blanco, negro, rojo, azul y verde.\n",
        "    b) Simular 5 sorteos con sustitución."
      ]
    },
    {
      "cell_type": "code",
      "execution_count": 12,
      "metadata": {},
      "outputs": [
        {
          "name": "stdout",
          "output_type": "stream",
          "text": [
            "rojo\n"
          ]
        }
      ],
      "source": [
        "#inciso a haciendo uso de las librerías previamente importadas en el documento\n",
        "def sorteo():\n",
        "    #x=random.uniform(1,5)\n",
        "    x=random.randint(1,5)\n",
        "    if x<=1:\n",
        "        color = 'blanco'\n",
        "    elif x<=2:\n",
        "        color = 'negro'\n",
        "    elif x<=3:\n",
        "        color = 'rojo'\n",
        "    elif x<=4:\n",
        "        color = 'azul'\n",
        "    else:\n",
        "        color = 'verde'\n",
        "    return color\n",
        "print(sorteo())"
      ]
    },
    {
      "cell_type": "code",
      "execution_count": 13,
      "metadata": {},
      "outputs": [
        {
          "name": "stdout",
          "output_type": "stream",
          "text": [
            "['azul', 'rojo', 'blanco', 'blanco', 'rojo']\n"
          ]
        }
      ],
      "source": [
        "#Inciso b\n",
        "#Como son con sustitucion no debemos modificar la funcion sorteo()\n",
        "l = []\n",
        "cuenta = 0\n",
        "nr = 5\n",
        "for i in range(nr):\n",
        "    x = sorteo()\n",
        "    l.append(x)\n",
        "print(l)"
      ]
    },
    {
      "cell_type": "markdown",
      "metadata": {
        "id": "vlbFBzwYPnD1"
      },
      "source": [
        "La función randrange() devuelve enteros que van desde un valor inicial a otro final \n",
        "separados entre sí un número de valores determinados."
      ]
    },
    {
      "cell_type": "code",
      "execution_count": null,
      "metadata": {
        "id": "Rk5fHExUPnD1"
      },
      "outputs": [],
      "source": [
        "for i in range(20):\n",
        "    print(random.randrange(0, 20, 3), end=' ')\n",
        "print()"
      ]
    },
    {
      "cell_type": "markdown",
      "metadata": {
        "id": "-vojNhL-PnD1"
      },
      "source": [
        "# 2. Estimación del número $\\pi$"
      ]
    },
    {
      "cell_type": "code",
      "execution_count": 14,
      "metadata": {
        "id": "fuO7WTdaPnD1"
      },
      "outputs": [],
      "source": [
        "import matplotlib.pyplot as plt\n",
        "import numpy as np"
      ]
    },
    {
      "cell_type": "code",
      "execution_count": 15,
      "metadata": {
        "id": "JtM-TrdMPnD1"
      },
      "outputs": [
        {
          "data": {
            "image/png": "[encoded data removed]",
            "text/plain": [
              "<Figure size 576x576 with 1 Axes>"
            ]
          },
          "metadata": {
            "needs_background": "light"
          },
          "output_type": "display_data"
        }
      ],
      "source": [
        "x = np.linspace(0, 1, 100)\n",
        "y = np.sqrt(1 - x**2)               # Ecuación del círculo en el primer cuadrante \n",
        "\n",
        "\n",
        "x_1 = random.random()\n",
        "y_1 = random.random()\n",
        "\n",
        "fig = plt.figure(1, figsize=(8, 8))        # Aquí fijamos el formato de la gráfica para que sea cuadrada.\n",
        "plt.plot(x, y, color=\"red\", markersize=1) \n",
        "plt.scatter(x_1, y_1, s=20, c=\"blue\")\n",
        "plt.title(\"Estimación de $\\pi$\")\n",
        "plt.xlabel(\"X\")\n",
        "plt.ylabel(\"Y\")\n",
        "plt.grid()\n",
        "plt.show()"
      ]
    },
    {
      "cell_type": "markdown",
      "metadata": {
        "id": "30RJlnuLPnD2"
      },
      "source": [
        "# Tarea 1. \n",
        "    Estimar el valor de pi usando la función random"
      ]
    },
    {
      "cell_type": "markdown",
      "metadata": {},
      "source": [
        "Suponiendo que se lanzan dardos a una diana considerada como una circunferencia inscrita dentro de un cuadro de lado=**2**, es decir la circunferencia de radio = **1**.\n",
        "Si lanzamos **N** dardos, supondremos que caen **n** dentro de la circunferecnia.\n",
        "Entonces tendremos la proporción $\\frac{n}{N}$ de dardos que cayeron dentro de la diana.\n",
        "Suponiendo que el centro de la circunferecnia está en el origen podemos usar el primer cuadrante, el cuál tiene un área de $\\frac{1}{4}\\pi r^{2}$ igualando estos dos, podremos aproximar el valor de $\\pi$ mediante \n",
        "\n",
        "$\\pi =4\\frac{n}{Nr^{2}}$ pero como $r=1$ entonces $\\pi=4\\frac{n}{N}$\n"
      ]
    },
    {
      "cell_type": "code",
      "execution_count": 16,
      "metadata": {
        "id": "5foVEJ9_PnD2"
      },
      "outputs": [
        {
          "name": "stdout",
          "output_type": "stream",
          "text": [
            "3.14161288\n"
          ]
        }
      ],
      "source": [
        "cuenta=0\n",
        "nr=100000000 #conforme este numero crezca la aproximación sera mejor\n",
        "for i in range(nr):\n",
        "    x=random.random()\n",
        "    y=random.random()\n",
        "    if x**2+y**2<1: #usando la ecuación de una circunferencia\n",
        "        cuenta=cuenta+1 \n",
        "print(4*cuenta/nr)"
      ]
    },
    {
      "cell_type": "markdown",
      "metadata": {
        "id": "UnFqhipnPnD2"
      },
      "source": [
        "## La aproximación analítica"
      ]
    },
    {
      "cell_type": "markdown",
      "metadata": {
        "id": "4uf3HrPdPnD2"
      },
      "source": [
        "Partamos de la ecuación:\n",
        "\n",
        "##     $\\pi = 4\\arctan 1$\n",
        "\n",
        "y usemos la aproximación de Taylor para expandir en una serie de potencias.\n",
        "\n",
        "Recordar:\n",
        "\n",
        "$f(x) = f(0) + f´(x)x + \\frac{1}{2}f´´(0)x^2 + ...$\n",
        "\n",
        "$Si f(x) = \\arctan x$ entonces:\n",
        "\n",
        "$f´(x) = \\frac{d \\arctan x}{dx} = \\frac{1}{1 + x^2} \\rightarrow f´(0) = 1$\n",
        "\n",
        "$f´´(x) = \\frac{d^2 \\arctan x}{d^2x} = - \\frac{2x}{(1 + x^2)^2} \\rightarrow f´´(0) = 0$\n",
        "\n",
        "...\n",
        "\n",
        "$f^{2i + 1}(x) = (-1)^{i} \\frac{(2i)!}{(1 + x^2)^{2i + 1}} \\rightarrow f^{2i + 1}(0) = (-1)(2i)!$\n",
        "\n",
        "$f^{2i}(x) = 0$\n",
        "\n",
        "Entonces:\n",
        "\n",
        "$\\arctan x = \\sum_{i = 0} (-1)^{i} \\frac{x^{2i + 1}}{2i + 1}$\n",
        "\n",
        "Por tanto:\n",
        "\n",
        "## $\\pi = \\sum_{i = 0} (-1)^{i} \\frac{4}{2i + 1}$"
      ]
    },
    {
      "cell_type": "code",
      "execution_count": 17,
      "metadata": {
        "id": "wiD9ffBrPnD3"
      },
      "outputs": [],
      "source": [
        "def pi_taylor(n):\n",
        "    pi = 0\n",
        "    for i in range(n):\n",
        "        pi = pi + 4.0/(2*i+1)*(-1)**i\n",
        "        print(i, pi)"
      ]
    },
    {
      "cell_type": "code",
      "execution_count": 18,
      "metadata": {
        "id": "sSd2z591PnD3"
      },
      "outputs": [
        {
          "name": "stdout",
          "output_type": "stream",
          "text": [
            "0 4.0\n",
            "1 2.666666666666667\n",
            "2 3.466666666666667\n",
            "3 2.8952380952380956\n",
            "4 3.3396825396825403\n",
            "5 2.9760461760461765\n",
            "6 3.2837384837384844\n",
            "7 3.017071817071818\n",
            "8 3.2523659347188767\n",
            "9 3.0418396189294032\n"
          ]
        }
      ],
      "source": [
        "pi_taylor(10)"
      ]
    },
    {
      "cell_type": "code",
      "execution_count": 21,
      "metadata": {
        "id": "JDNOEzMhPnD3"
      },
      "outputs": [],
      "source": [
        "def pi_Taylor(n):\n",
        "    pi = 0\n",
        "    L =[]\n",
        "    for i in range(n):\n",
        "        pi = pi + 4.0/(2*i+1)*(-1)**i\n",
        "        L.append(pi)\n",
        "    fig = plt.figure(1, figsize=(8, 8))        \n",
        "    plt.plot(L, color=\"red\", markersize=1)\n",
        "    plt.xlabel(\"Iteraciones\")\n",
        "    plt.ylabel(\"Estimación\")\n",
        "    plt.grid()\n",
        "    plt.show()"
      ]
    },
    {
      "cell_type": "code",
      "execution_count": 22,
      "metadata": {
        "id": "ei5Doa9WPnD4"
      },
      "outputs": [
        {
          "data": {
            "image/png": "[encoded data removed]",
            "text/plain": [
              "<Figure size 576x576 with 1 Axes>"
            ]
          },
          "metadata": {
            "needs_background": "light"
          },
          "output_type": "display_data"
        }
      ],
      "source": [
        "pi_Taylor(200)"
      ]
    },
    {
      "cell_type": "markdown",
      "metadata": {
        "id": "O8EtHrlePnD4"
      },
      "source": [
        "## Ejercicio 3:\n",
        "\n",
        "Graficar las salidas obtenidas en la Tarea 1"
      ]
    },
    {
      "cell_type": "code",
      "execution_count": 23,
      "metadata": {},
      "outputs": [
        {
          "name": "stdout",
          "output_type": "stream",
          "text": [
            "2000 3.152\n"
          ]
        },
        {
          "data": {
            "image/png": "[encoded data removed]",
            "text/plain": [
              "<Figure size 576x576 with 1 Axes>"
            ]
          },
          "metadata": {
            "needs_background": "light"
          },
          "output_type": "display_data"
        }
      ],
      "source": [
        "cuenta=0\n",
        "pi=0\n",
        "nr=2000 #conforme este numero crezca la aproximación sera mejor\n",
        "lx=[]\n",
        "ly=[]\n",
        "for i in range(nr):\n",
        "    x=random.random()\n",
        "    y=random.random()\n",
        "    if x**2+y**2<1: #usando la ecuación de una circunferencia\n",
        "        cuenta=cuenta+1 \n",
        "    i=i+1\n",
        "    pi = 4*cuenta/i\n",
        "    lx.append(i)\n",
        "    ly.append(pi)\n",
        "print(i, pi)\n",
        "fig = plt.figure(1, figsize=(8, 8))\n",
        "plt.plot(lx,ly, color=\"red\", markersize=1)\n",
        "plt.xlabel('Número de dardos')\n",
        "plt.ylabel('Valor de PI aproximado')\n",
        "plt.grid()\n",
        "plt.show()"
      ]
    },
    {
      "cell_type": "markdown",
      "metadata": {},
      "source": [
        "Segunda opción con más iteraciones"
      ]
    },
    {
      "cell_type": "code",
      "execution_count": 25,
      "metadata": {},
      "outputs": [
        {
          "name": "stdout",
          "output_type": "stream",
          "text": [
            "10000000 3.1413648\n"
          ]
        },
        {
          "data": {
            "image/png": "[encoded data removed]",
            "text/plain": [
              "<Figure size 576x576 with 1 Axes>"
            ]
          },
          "metadata": {
            "needs_background": "light"
          },
          "output_type": "display_data"
        }
      ],
      "source": [
        "cuenta=0\n",
        "pi=0\n",
        "nr=10000000 #conforme este numero crezca la aproximación sera mejor\n",
        "lx=[]\n",
        "ly=[]\n",
        "for i in range(nr):\n",
        "    x=random.random()\n",
        "    y=random.random()\n",
        "    if x**2+y**2<1: #usando la ecuación de una circunferencia\n",
        "        cuenta=cuenta+1 \n",
        "    i=i+1\n",
        "    if i%10000==0: #Esta línea hará que sólo se cuenten de 10000 en 10000 iteraciones para la gráfica y no se haga muy pequeña la línea.\n",
        "        pi = 4*cuenta/i\n",
        "        lx.append(i)\n",
        "        ly.append(pi)\n",
        "print(i, pi)\n",
        "fig = plt.figure(1, figsize=(8, 8))\n",
        "plt.plot(lx,ly, color=\"red\", markersize=1)\n",
        "plt.xlabel('Número de dardos')\n",
        "plt.ylabel('Valor de PI aproximado')\n",
        "plt.grid()\n",
        "plt.show()"
      ]
    },
    {
      "cell_type": "markdown",
      "metadata": {
        "id": "p0t_a3khPnD4"
      },
      "source": [
        "## Continuamos"
      ]
    },
    {
      "cell_type": "code",
      "execution_count": 26,
      "metadata": {
        "id": "kjD-8sK6PnD4"
      },
      "outputs": [
        {
          "data": {
            "image/png": "[encoded data removed]",
            "text/plain": [
              "<Figure size 576x576 with 1 Axes>"
            ]
          },
          "metadata": {
            "needs_background": "light"
          },
          "output_type": "display_data"
        }
      ],
      "source": [
        "x = np.linspace(0, 1, 100)\n",
        "y = np.sqrt(1 - x**2)               # Ecuación del círculo en el primer cuadrante \n",
        "\n",
        "\n",
        "x_1 = random.random()\n",
        "y_1 = random.random()\n",
        "\n",
        "fig = plt.figure(1, figsize=(8, 8))        # Aquí fijamos el formato de la gráfica para que sea cuadrada.\n",
        "plt.plot(x, y, color=\"red\", markersize=1) \n",
        "plt.scatter(x_1, y_1, s=20, c=\"blue\")\n",
        "plt.title(\"Estimación de $\\pi$\")\n",
        "plt.xlabel(\"X\")\n",
        "plt.ylabel(\"Y\")\n",
        "plt.grid()\n",
        "plt.show()"
      ]
    },
    {
      "cell_type": "code",
      "execution_count": 27,
      "metadata": {
        "id": "ZfqBy2cFPnD4"
      },
      "outputs": [],
      "source": [
        "def pi_mc(n):\n",
        "    pi = 0\n",
        "    counter = 0\n",
        "    for i in range(n):\n",
        "        x = random.random()\n",
        "        y = random.random()\n",
        "        if x**2 + y**2 <1:\n",
        "            counter = counter + 1\n",
        "        pi = 4.0*float(counter)/(i + 1)\n",
        "        print(i, pi)"
      ]
    },
    {
      "cell_type": "code",
      "execution_count": 28,
      "metadata": {
        "id": "k6tL_hLFPnD5"
      },
      "outputs": [
        {
          "name": "stdout",
          "output_type": "stream",
          "text": [
            "0 0.0\n",
            "1 2.0\n",
            "2 2.6666666666666665\n",
            "3 3.0\n",
            "4 3.2\n",
            "5 3.3333333333333335\n",
            "6 3.4285714285714284\n",
            "7 3.5\n",
            "8 3.5555555555555554\n",
            "9 3.6\n"
          ]
        }
      ],
      "source": [
        "pi_mc(10)"
      ]
    },
    {
      "cell_type": "code",
      "execution_count": 29,
      "metadata": {
        "id": "c5WAOLspPnD5"
      },
      "outputs": [],
      "source": [
        "def pi_mc(n):\n",
        "    pi = 0\n",
        "    lx = []\n",
        "    ly = []\n",
        "    counter = 0\n",
        "    for i in range(n):\n",
        "        x = random.random()\n",
        "        y = random.random()\n",
        "        if x**2 + y**2 <1:\n",
        "            counter = counter + 1\n",
        "            lx.append(counter)\n",
        "            ly.append(4.0*float(counter)/(i + 1))\n",
        "        \n",
        "        pi = 4.0*float(counter)/(i + 1)\n",
        "        \n",
        "        e = np.absolute((pi - np.pi)/np.pi)\n",
        "    print(\"pi =\", pi)\n",
        "    print(\"error =\", e)\n",
        "    \n",
        "    fig = plt.figure(1, figsize=(8, 8))        \n",
        "    plt.xlabel(\"Iteraciones\")\n",
        "    plt.ylabel(\"Estimación de $\\pi$\")\n",
        "    plt.grid()\n",
        "    plt.plot(lx, ly, color=\"blue\", markersize=1)\n",
        "    plt.show()"
      ]
    },
    {
      "cell_type": "code",
      "execution_count": 30,
      "metadata": {
        "id": "oqnlP9wePnD5"
      },
      "outputs": [
        {
          "name": "stdout",
          "output_type": "stream",
          "text": [
            "pi = 3.148\n",
            "error = 0.002039521706573115\n"
          ]
        },
        {
          "data": {
            "image/png": "[encoded data removed]",
            "text/plain": [
              "<Figure size 576x576 with 1 Axes>"
            ]
          },
          "metadata": {
            "needs_background": "light"
          },
          "output_type": "display_data"
        }
      ],
      "source": [
        "pi_mc(1000)"
      ]
    },
    {
      "cell_type": "markdown",
      "metadata": {
        "id": "KDfeA_IgPnD5"
      },
      "source": [
        "Si se tiene, para cada punto aleatorio:\n",
        "    \n",
        "$X_i = 1$ si cae dentro del circulo y\n",
        "\n",
        "$X_i = 0$ si cae fuera"
      ]
    },
    {
      "cell_type": "markdown",
      "metadata": {
        "id": "LPB_VhVcPnD6"
      },
      "source": [
        "## Ejercicio 4:\n",
        "\n",
        "a) Calcular $E[X_i]$ y $V[X_i]$\n",
        "\n",
        "\n"
      ]
    },
    {
      "cell_type": "markdown",
      "metadata": {},
      "source": [
        "$E[X_i] = \\sum_i x_{i}P(X=x_{i}) = 1*P(x=1) + 0*P(x=0) = 1*\\frac{\\pi}{4} + 0 * 1-\\frac{\\pi}{4} = \\frac{\\pi}{4} \\approx 0.785398$ \n",
        "\n",
        "$V[x_{i}] = E[X_{i}^{2}] - E[X_i]^{2} = 1^{2}*\\frac{\\pi}{4} - (\\frac{\\pi}{4})^{2} = \\frac{\\pi}{4}(1-\\frac{\\pi}{4}) \\approx 0.1685479$"
      ]
    },
    {
      "cell_type": "markdown",
      "metadata": {
        "id": "l7PluYmcPnD6"
      },
      "source": [
        "Para el experimento de simulación, definimos $Z_N = \\frac{X_1 + X_2 + ... + X_N}{N}$"
      ]
    },
    {
      "cell_type": "markdown",
      "metadata": {},
      "source": [
        "En el siguiente código se obtiene la esperanza y la varianza mediante simulación"
      ]
    },
    {
      "cell_type": "code",
      "execution_count": 59,
      "metadata": {},
      "outputs": [],
      "source": [
        "#Utilizando el mismo código para calcular la esperanza y varianza por simulación\n",
        "from statistics import mean, variance\n",
        "def pi_mc(n):\n",
        "    pi = 0\n",
        "    lx = []\n",
        "    ly = []\n",
        "    counter = 0\n",
        "    xi = 0\n",
        "    Z = []\n",
        "    for i in range(n):\n",
        "        x = random.random()\n",
        "        y = random.random()\n",
        "        if x**2 + y**2 <1:\n",
        "            counter = counter + 1\n",
        "            lx.append(counter)\n",
        "            ly.append(4.0*float(counter)/(i + 1))\n",
        "            xi = 1\n",
        "            Z.append(xi) #Se añade el valor de xi = 1\n",
        "        else:\n",
        "            xi = 0\n",
        "            Z.append(xi) #Se añade el valor de xi = 0\n",
        "        pi = 4.0*float(counter)/(i + 1)\n",
        "        e = np.absolute((pi - np.pi)/np.pi)\n",
        "        \n",
        "    media = mean(Z) #Obtenemos la media de la V.A xi\n",
        "    p=np.pi/4\n",
        "    errorE = np.absolute((media - (p))/(p)) \n",
        "    varianza = variance(Z)\n",
        "    errorV = np.absolute((varianza - ((p)*(1-p)))/(p))\n",
        "    print(\"pi =\", pi)\n",
        "    print(\"error =\", e)\n",
        "    print(\"Valor esperado obtenido mediante simulación\", media,\"Error en el calculo de la esperanza\", errorE)\n",
        "    print(\"Valor de la varianza por simulación\", varianza, \"Error respecto al valor real\", errorV)\n",
        "    \n",
        "    fig = plt.figure(1, figsize=(8, 8))        \n",
        "    plt.xlabel(\"Iteraciones\")\n",
        "    plt.ylabel(\"Estimación de $\\pi$\")\n",
        "    plt.grid()\n",
        "    plt.plot(lx, ly, color=\"blue\", markersize=1)\n",
        "    plt.show()"
      ]
    },
    {
      "cell_type": "code",
      "execution_count": 60,
      "metadata": {},
      "outputs": [
        {
          "name": "stdout",
          "output_type": "stream",
          "text": [
            "pi = 3.1484\n",
            "error = 0.0021668456610466173\n",
            "Valor esperado obtenido mediante simulación 0.7871 Error en el calculo de la esperanza 0.0021668456610466173\n",
            "Valor de la varianza por simulación 0.1675903490349035 Error respecto al valor real 0.0012191768953441623\n"
          ]
        },
        {
          "data": {
            "image/png": "[encoded data removed]",
            "text/plain": [
              "<Figure size 576x576 with 1 Axes>"
            ]
          },
          "metadata": {
            "needs_background": "light"
          },
          "output_type": "display_data"
        }
      ],
      "source": [
        "pi_mc(10000)"
      ]
    },
    {
      "cell_type": "markdown",
      "metadata": {},
      "source": [
        "## Ejercicio 5:\n",
        "a) Calcular  $E[Z_N]$ y $V[Z_N]$\n",
        "b) ¿Cuál debe ser el valor de $N$ para que el error sea de 0.01?"
      ]
    },
    {
      "cell_type": "markdown",
      "metadata": {},
      "source": [
        "Sea $Z_N = \\frac{X_1 + X_2 + ... + X_N}{N}$ para todo el círculo, si usamos un cuarto de círculo entonces necesitamos que \n",
        "\n",
        "$Z_N = 4 \\frac{X_1 + X_2 + ... + X_N}{N}$\n",
        "\n",
        "Entonces la esperanza será:\n",
        "\n",
        "$E[Z_N]=E[4 \\frac{X_1 + X_2 + ... + X_N}{N}]=\\frac{4}{N}E[x_{1} + x_{2} + ... +x_{N}] = \\frac{4}{N}[E[x_{1}] +  E[x_{2}] + ... + E[x_{N}]] $\n",
        "\n",
        "$  \\ \\ \\ \\ \\ \\ \\ \\ \\ \\ \\ \\    =\\frac{4}{N}[NE[x_{i}]]$\n",
        "\n",
        "$    \\ \\ \\ \\ \\ \\ \\ \\ \\ \\ \\ \\      =\\frac{4}{N}[N\\frac{\\pi}{4}]$\n",
        "\n",
        "$  \\ \\ \\ \\ \\ \\ \\ \\ \\ \\ \\ \\   = \\pi$\n",
        "\n",
        "$V[Z_N]= (\\frac{4}{N})^{2}[NV[Z_N]]$\n",
        "\n",
        "$    \\ \\ \\ \\ \\ \\ \\ \\ \\ \\ \\ \\      =\\frac{16}{N^{2}}[N(\\frac{\\pi}{4}-\\frac{\\pi^{2}}{4^{2}})]$\n",
        "\n",
        "$    \\ \\ \\ \\ \\ \\ \\ \\ \\ \\ \\ \\      =\\frac{16}{N}[\\frac{\\pi}{4}(1-\\frac{\\pi}{4})]$\n",
        "\n",
        "Por la ley de los grandes números:\n",
        "\n",
        "$P(|Z_{N}-\\pi|)<\\frac{16p(1-p)}{N\\epsilon^{2}}$\n",
        "\n",
        "Entonces si queremos que el error sea menor que 0.01 $P(|Z_{N}-\\pi|)=1$\n",
        "\n",
        "Así $N < \\frac{16p(1-p)}{\\epsilon^{2}} = 26967.66$  "
      ]
    },
    {
      "cell_type": "code",
      "execution_count": 66,
      "metadata": {},
      "outputs": [
        {
          "name": "stdout",
          "output_type": "stream",
          "text": [
            "pi = 3.1407275559016576\n",
            "error = 0.0002753691466482633\n",
            "Valor esperado obtenido mediante simulación 0.7851818889754144 Error en el calculo de la esperanza 0.0002753691466482633\n",
            "Valor de la varianza por simulación 0.16867754516185476 Error respecto al valor real 0.0001650842063731017\n"
          ]
        },
        {
          "data": {
            "image/png": "[encoded data removed]",
            "text/plain": [
              "<Figure size 576x576 with 1 Axes>"
            ]
          },
          "metadata": {
            "needs_background": "light"
          },
          "output_type": "display_data"
        }
      ],
      "source": [
        "pi_mc(26967)"
      ]
    },
    {
      "cell_type": "markdown",
      "metadata": {
        "id": "pgkSUyczPnD6"
      },
      "source": [
        "# Integrales"
      ]
    },
    {
      "cell_type": "code",
      "execution_count": null,
      "metadata": {
        "id": "UnVhLKi0PnD6"
      },
      "outputs": [],
      "source": [
        "def riemannplot(f, a, b, ra, rb, n):\n",
        "    # f es la función \n",
        "    # a y b son los limites del eje x para graficar la funcion f\n",
        "    # ra y rb son los limites del intervalo en el eje x del que queremos calcular la suma\n",
        "    # n es el numero de rectangulos que calcularemos\n",
        "\n",
        "    atenuacion = (b-a)/100\n",
        "    x = np.arange(a, b+atenuacion, atenuacion)\n",
        "    \n",
        "    plt.plot(x, f(x), color='red')\n",
        "\n",
        "    delta_x = (rb-ra)/n\n",
        "    riemannx = np.arange(ra, rb, delta_x)\n",
        "    riemanny = f(riemannx)\n",
        "    riemann_sum = sum(riemanny*delta_x)\n",
        "\n",
        "    plt.bar(riemannx,riemanny,width=delta_x,alpha=0.5,edgecolor = 'black',facecolor='green')\n",
        "   \n",
        "    plt.xlabel('x')\n",
        "    plt.ylabel('f(x)')\n",
        "    \n",
        "    plt.title('Suma de Riemann por la izquierda de f(x)')\n",
        "    plt.figtext(0.1,-0.05, \"Suma de Riemann: %.5f \" %(riemann_sum), color='b')\n",
        "    plt.savefig('riemann.png')\n",
        "    plt.show()"
      ]
    },
    {
      "cell_type": "code",
      "execution_count": null,
      "metadata": {
        "id": "e_hIM2J-PnD6"
      },
      "outputs": [],
      "source": [
        "def f(x):\n",
        "    return np.sqrt(np.arctan(x))"
      ]
    },
    {
      "cell_type": "code",
      "execution_count": null,
      "metadata": {
        "id": "SqeMM1QgPnD7"
      },
      "outputs": [],
      "source": [
        "riemannplot(f, 0, 1.001, 0, 1.001, 20)"
      ]
    },
    {
      "cell_type": "code",
      "execution_count": null,
      "metadata": {
        "id": "yF4yS4tuPnD7"
      },
      "outputs": [],
      "source": []
    }
  ],
  "metadata": {
    "colab": {
      "name": "Uso de los números aleatorios.ipynb",
      "provenance": []
    },
    "kernelspec": {
      "display_name": "Python 3",
      "language": "python",
      "name": "python3"
    },
    "language_info": {
      "codemirror_mode": {
        "name": "ipython",
        "version": 3
      },
      "file_extension": ".py",
      "mimetype": "text/x-python",
      "name": "python",
      "nbconvert_exporter": "python",
      "pygments_lexer": "ipython3",
      "version": "3.9.6"
    }
  },
  "nbformat": 4,
  "nbformat_minor": 0
}
