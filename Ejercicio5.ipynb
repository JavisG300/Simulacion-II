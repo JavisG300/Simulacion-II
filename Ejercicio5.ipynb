{
  "cells": [
    {
      "cell_type": "code",
      "execution_count": 2,
      "metadata": {},
      "outputs": [],
      "source": [
        "#importamos el módulo que vamos a usar \n",
        "import random   "
      ]
    },
    {
      "cell_type": "code",
      "execution_count": 3,
      "metadata": {
        "id": "fuO7WTdaPnD1"
      },
      "outputs": [],
      "source": [
        "import matplotlib.pyplot as plt\n",
        "import numpy as np"
      ]
    },
    {
      "cell_type": "markdown",
      "metadata": {},
      "source": [
        "## Ejercicio 5:\n",
        "a) Calcular  $E[Z_N]$ y $V[Z_N]$\n",
        "b) ¿Cuál debe ser el valor de $N$ para que el error sea de 0.01?"
      ]
    },
    {
      "cell_type": "markdown",
      "metadata": {},
      "source": [
        "Sea $Z_N = \\frac{X_1 + X_2 + ... + X_N}{N}$ para todo el círculo, si usamos un cuarto de círculo entonces necesitamos que \n",
        "\n",
        "$Z_N = 4 \\frac{X_1 + X_2 + ... + X_N}{N}$\n",
        "\n",
        "Entonces la esperanza será:\n",
        "\n",
        "$E[Z_N]=E[4 \\frac{X_1 + X_2 + ... + X_N}{N}]=\\frac{4}{N}E[x_{1} + x_{2} + ... +x_{N}] = \\frac{4}{N}[E[x_{1}] +  E[x_{2}] + ... + E[x_{N}]] $\n",
        "\n",
        "$  \\ \\ \\ \\ \\ \\ \\ \\ \\ \\ \\ \\    =\\frac{4}{N}[NE[x_{i}]]$\n",
        "\n",
        "$    \\ \\ \\ \\ \\ \\ \\ \\ \\ \\ \\ \\      =\\frac{4}{N}[N\\frac{\\pi}{4}]$\n",
        "\n",
        "$  \\ \\ \\ \\ \\ \\ \\ \\ \\ \\ \\ \\   = \\pi$\n",
        "\n",
        "$V[Z_N]= (\\frac{4}{N})^{2}[NV[Z_N]]$\n",
        "\n",
        "$    \\ \\ \\ \\ \\ \\ \\ \\ \\ \\ \\ \\      =\\frac{16}{N^{2}}[N(\\frac{\\pi}{4}-\\frac{\\pi^{2}}{4^{2}})]$\n",
        "\n",
        "$    \\ \\ \\ \\ \\ \\ \\ \\ \\ \\ \\ \\      =\\frac{16}{N}[\\frac{\\pi}{4}(1-\\frac{\\pi}{4})]$\n",
        "\n",
        "Por la ley de los grandes números:\n",
        "\n",
        "$P(|Z_{N}-\\pi|)<\\frac{16p(1-p)}{N\\epsilon^{2}}$\n",
        "\n",
        "Entonces si queremos que el error sea menor que 0.01 $P(|Z_{N}-\\pi|)=1$\n",
        "\n",
        "Así $N < \\frac{16p(1-p)}{\\epsilon^{2}} = 26967.66$  "
      ]
    },
    {
      "cell_type": "code",
      "execution_count": 1,
      "metadata": {},
      "outputs": [],
      "source": [
        "#Utilizando el mismo código para calcular la esperanza y varianza por simulación\n",
        "from statistics import mean, variance\n",
        "def pi_mc(n):\n",
        "    pi = 0\n",
        "    lx = []\n",
        "    ly = []\n",
        "    counter = 0\n",
        "    xi = 0\n",
        "    Z = []\n",
        "    for i in range(n):\n",
        "        x = random.random()\n",
        "        y = random.random()\n",
        "        if x**2 + y**2 <1:\n",
        "            counter = counter + 1\n",
        "            lx.append(counter)\n",
        "            ly.append(4.0*float(counter)/(i + 1))\n",
        "            xi = 1\n",
        "            Z.append(xi) #Se añade el valor de xi = 1\n",
        "        else:\n",
        "            xi = 0\n",
        "            Z.append(xi) #Se añade el valor de xi = 0\n",
        "        pi = 4.0*float(counter)/(i + 1)\n",
        "        e = np.absolute((pi - np.pi)/np.pi)\n",
        "        \n",
        "    media = mean(Z) #Obtenemos la media de la V.A xi\n",
        "    p=np.pi/4\n",
        "    errorE = np.absolute((media - (p))/(p)) \n",
        "    varianza = variance(Z)\n",
        "    errorV = np.absolute((varianza - ((p)*(1-p)))/(p))\n",
        "    print(\"pi =\", pi)\n",
        "    print(\"error =\", e)\n",
        "    print(\"Valor esperado obtenido mediante simulación\", media,\"Error en el calculo de la esperanza\", errorE)\n",
        "    print(\"Valor de la varianza por simulación\", varianza, \"Error respecto al valor real\", errorV)\n",
        "    \n",
        "    fig = plt.figure(1, figsize=(8, 8))        \n",
        "    plt.xlabel(\"Iteraciones\")\n",
        "    plt.ylabel(\"Estimación de $\\pi$\")\n",
        "    plt.grid()\n",
        "    plt.plot(lx, ly, color=\"blue\", markersize=1)\n",
        "    plt.show()"
      ]
    },
    {
      "cell_type": "code",
      "execution_count": 66,
      "metadata": {},
      "outputs": [
        {
          "name": "stdout",
          "output_type": "stream",
          "text": [
            "pi = 3.1407275559016576\n",
            "error = 0.0002753691466482633\n",
            "Valor esperado obtenido mediante simulación 0.7851818889754144 Error en el calculo de la esperanza 0.0002753691466482633\n",
            "Valor de la varianza por simulación 0.16867754516185476 Error respecto al valor real 0.0001650842063731017\n"
          ]
        },
        {
          "data": {
            "image/png": "[encoded data removed]",
            "text/plain": [
              "<Figure size 576x576 with 1 Axes>"
            ]
          },
          "metadata": {
            "needs_background": "light"
          },
          "output_type": "display_data"
        }
      ],
      "source": [
        "pi_mc(26967)"
      ]
    },
    {
      "cell_type": "markdown",
      "metadata": {},
      "source": [
        "Conclusión: vemos que el error disminuye a menos de 0.01"
      ]
    }
  ],
  "metadata": {
    "colab": {
      "name": "Uso de los números aleatorios.ipynb",
      "provenance": []
    },
    "kernelspec": {
      "display_name": "Python 3",
      "language": "python",
      "name": "python3"
    },
    "language_info": {
      "codemirror_mode": {
        "name": "ipython",
        "version": 3
      },
      "file_extension": ".py",
      "mimetype": "text/x-python",
      "name": "python",
      "nbconvert_exporter": "python",
      "pygments_lexer": "ipython3",
      "version": "3.9.6"
    }
  },
  "nbformat": 4,
  "nbformat_minor": 0
}
