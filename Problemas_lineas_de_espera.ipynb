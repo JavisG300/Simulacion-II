{
 "cells": [
  {
   "cell_type": "markdown",
   "metadata": {},
   "source": [
    "# Problemas de líneas de espera"
   ]
  },
  {
   "cell_type": "code",
   "execution_count": 3,
   "metadata": {},
   "outputs": [],
   "source": [
    "from random import expovariate\n",
    "from statistics import mean \n",
    "from math import inf as Infinity"
   ]
  },
  {
   "cell_type": "markdown",
   "metadata": {},
   "source": [
    "# **Instrucciones**"
   ]
  },
  {
   "cell_type": "markdown",
   "metadata": {},
   "source": [
    "Elabore esta tarea en una notebook independiente, registrando sus resultados o las salidas de  los programas. En todos los casos en que sea posible, resuelva los problemas mediante  simulación y después verifique los resultados con las fórmulas correspondientes.  \n"
   ]
  },
  {
   "cell_type": "markdown",
   "metadata": {},
   "source": [
    "***1. En la biblioteca***"
   ]
  },
  {
   "cell_type": "markdown",
   "metadata": {},
   "source": [
    "Un encargado de la biblioteca es el único en el mostrador durante todo su turno de trabajo.  Las llegadas al mostrador siguen una distribución de Poisson con una media de $8$ por hora.  Cada usuario de la biblioteca es atendido de uno en uno, y el tiempo de servicio sigue una  distribución exponencial con una media de $5$ minutos. \n"
   ]
  },
  {
   "cell_type": "markdown",
   "metadata": {},
   "source": [
    "a) ¿Cuál es la probabilidad de que se forme cola? \n",
    "\n",
    "b) ¿Cuál es la longitud media de la cola? \n",
    "\n",
    "c) ¿Cuál es el tiempo medio que un cliente pasa en la biblioteca hasta que le han atendido? \n",
    "\n",
    "d) ¿Cuál es el tiempo medio que un cliente pasa en la cola esperando a que le atiendan? \n",
    "\n",
    "e) El encargado de la biblioteca pasa su tiempo en que no hay clientes clasificando artículos  de revistas. Si puede clasificar 22 fichas por hora como media cuando trabaja continuamente, ¿cuántas fichas puede ordenar durante su trabajo? \n"
   ]
  },
  {
   "cell_type": "markdown",
   "metadata": {},
   "source": [
    "$\\textcolor{red}{Solución}$"
   ]
  },
  {
   "cell_type": "code",
   "execution_count": 29,
   "metadata": {},
   "outputs": [],
   "source": [
    "def sim(lamb,mu):\n",
    "    Num_Pkts = 100                   # Numero de paquetes a simular\n",
    "    count    = 0                     # Contador de paquetes simulados\n",
    "    t        = 0                     # Tiempo simulado\n",
    "    N        = 0                     # Variable de estado: numero de paquetes en el sistema\n",
    "\n",
    "    tll      = expovariate(lamb)     # Tiempo de llegada\n",
    "    ts       = Infinity              # Tiempo de salida\n",
    "\n",
    "    tea      = 0.0                   # tiempo del último evento\n",
    "\n",
    "\n",
    "    # Variables de salida\n",
    "    tll_Data = []                       # Lista de tiempos de llegada\n",
    "    ts_Data  = []                       # Lista de tiempos de salida\n",
    "    r_Data   = []                       # Lista de retrasos individuales\n",
    "    Area     = []                       # Area de escalón\n",
    "\n",
    "\n",
    "    while count < Num_Pkts:\n",
    "        if tll < ts:                    # Evento de llegada\n",
    "            t = tll                     \n",
    "            tll_Data.append(t)          # Se guarda el tiempo de llegada\n",
    "            Area.append((t - tea)*N)    # Area del escalón \n",
    "            tea = t                     # Se guarda el tiempo anterior de llegada\n",
    "            N = N + 1.0                 # Se suma un paquete\n",
    "            tll = t + expovariate(lamb) # Se genera un nuevo timepo de llegada\n",
    "            if N == 1:\n",
    "                ts = t + expovariate(mu)# Si hay un paquete en el sistema se crea el tiempo de salida\n",
    "        \n",
    "        else:                           # Evento de salida\n",
    "            t = ts\n",
    "            ts_Data.append(t)           # Se guarda el tiempo de salida\n",
    "            Area.append((t - tea)*N)    # Área del escalon\n",
    "            tea = t                     # Se guarda el tiempo anterior de salida\n",
    "            N = N - 1.0                 # Se resta un paquete que salió\n",
    "            count = count + 1           # Paquetes simulados\n",
    "            if N > 0:\n",
    "                ts = t + expovariate(mu)# Genera el proximo tiempo de salida\n",
    "            else:\n",
    "                ts = Infinity           # Si no hay paquetes en el sistema\n",
    "                \n",
    "    # Estimación del retraso promedio y número promedio de paquetes en el sistema:\n",
    "\n",
    "    for i in range(Num_Pkts):\n",
    "        d = ts_Data[i] - tll_Data[i]\n",
    "        r_Data.append(d)\n",
    "\n",
    "    W  = round( mean(r_Data), 4)       # Retraso promedio\n",
    "    L  = round(sum(Area)/t, 4)         # Número promedio de paquetes en el sistema\n",
    "    Wq = W - 1/mu                      # Tiempo medio de espera de los clientes en la cola.\n",
    "    Lq = lamb * Wq                     # Número medio de clientes en la cola.\n",
    "\n",
    "    return W,L,Wq,Lq"
   ]
  },
  {
   "cell_type": "markdown",
   "metadata": {},
   "source": [
    "**Datos**\n",
    "\n",
    "$\\lambda = 8$ clientes/hora\n",
    "\n",
    "$\\mu = 12$ clientes/hora\n",
    "\n",
    "$\\rho = \\frac{\\lambda}{\\mu} = \\frac{8}{12}$"
   ]
  },
  {
   "cell_type": "markdown",
   "metadata": {},
   "source": [
    "$\\textcolor{blueviolet}{a)}$\n",
    "\n",
    "La probabilidad de que se forme cola es igual a la probabilidad de que el servidor esté ocupado y eso se obtiene con la fórmula:\n",
    "\n",
    "$$p = \\frac{\\lambda}{\\mu}$$"
   ]
  },
  {
   "cell_type": "code",
   "execution_count": 1,
   "metadata": {},
   "outputs": [],
   "source": [
    "#Parámetros\n",
    "lamb = 8\n",
    "mu   = 12"
   ]
  },
  {
   "cell_type": "code",
   "execution_count": 5,
   "metadata": {},
   "outputs": [
    {
     "name": "stdout",
     "output_type": "stream",
     "text": [
      "Probabilidad de que se forme cola: 0.6667\n"
     ]
    }
   ],
   "source": [
    "print('Probabilidad de que se forme cola: '+ str(round(lamb/mu,4)))"
   ]
  },
  {
   "cell_type": "markdown",
   "metadata": {},
   "source": [
    "$\\textcolor{blueviolet}{b)}$\n",
    "\n",
    "Longitud media de la cola = $L_q$\n",
    "\n",
    "Aquí ya usaremos simulación:"
   ]
  },
  {
   "cell_type": "code",
   "execution_count": 30,
   "metadata": {},
   "outputs": [],
   "source": [
    "W  = []\n",
    "L  = []\n",
    "Wq = []\n",
    "Lq = []\n",
    "for i in range(100000): #Simulando varias veces\n",
    "    lista_variables_salida = sim(lamb,mu)\n",
    "    W.append(lista_variables_salida[0])\n",
    "    L.append(lista_variables_salida[1])\n",
    "    Wq.append(lista_variables_salida[2])\n",
    "    Lq.append(lista_variables_salida[3])\n",
    "    # Variables obtenidas:\n",
    "    #print('Tiempo medio de estancia en el sistema: ' + str(mean(W)))\n",
    "    #print('Número promedio de paquetes en el sistema: ' + str(mean(L)))\n",
    "    #print('Tiempo medio de espera de los clientes en la cola: ' + str(mean(Wq)))\n",
    "    #print('Número medio de clientes en la cola: ' + str(mean(Lq)))\n"
   ]
  },
  {
   "cell_type": "code",
   "execution_count": 31,
   "metadata": {},
   "outputs": [
    {
     "name": "stdout",
     "output_type": "stream",
     "text": [
      "Número medio de clientes en la cola: 1.2112047893333333\n"
     ]
    }
   ],
   "source": [
    "\n",
    "print('Número medio de clientes en la cola: ' + str(mean(Lq)))"
   ]
  },
  {
   "cell_type": "markdown",
   "metadata": {},
   "source": [
    "$\\textcolor{blueviolet}{c)}$\n",
    "\n",
    "El tiempo medio que un cliente pasa en la biblioteca hasta que le han atendido = $W$\n"
   ]
  },
  {
   "cell_type": "code",
   "execution_count": 33,
   "metadata": {},
   "outputs": [
    {
     "name": "stdout",
     "output_type": "stream",
     "text": [
      "Tiempo medio de estancia en el sistema: 0.234733932\n"
     ]
    }
   ],
   "source": [
    "print('Tiempo medio de estancia en el sistema: ' + str(mean(W)))"
   ]
  },
  {
   "cell_type": "markdown",
   "metadata": {},
   "source": [
    "$\\textcolor{blueviolet}{c)}$\n",
    "\n",
    "El tiempo medio que un cliente pasa en la cola esperando a que le atiendan = $W_q$"
   ]
  },
  {
   "cell_type": "code",
   "execution_count": 34,
   "metadata": {},
   "outputs": [
    {
     "name": "stdout",
     "output_type": "stream",
     "text": [
      "Tiempo medio de espera de los clientes en la cola: 0.15140059866666666\n"
     ]
    }
   ],
   "source": [
    "print('Tiempo medio de espera de los clientes en la cola: ' + str(mean(Wq)))"
   ]
  },
  {
   "cell_type": "markdown",
   "metadata": {},
   "source": [
    "***2. Lavado de autos***"
   ]
  },
  {
   "cell_type": "markdown",
   "metadata": {},
   "source": [
    "Un pequeño autoservicio de lavado que solo tienen capacidad para atender de uno en uno a  los autos que llegan, tiene un aparcamiento para $10$ coches, incluyendo el que está siendo lavado. La empresa ha estimado que los coches llegan siguiendo una distribución de Poisson  con una media de $20$ coches/hora, el tiempo de servicio sigue una distribución exponencial  de $12$ minutos. La empresa abre durante $10$ horas al día.  \n",
    "\n",
    "¿Cuál es la media de coches perdidos cada día debido a las limitaciones de espacio?\n"
   ]
  },
  {
   "cell_type": "markdown",
   "metadata": {},
   "source": [
    "$\\lambda = 20$ Coches/hora\n",
    "\n",
    "$\\mu= 5 $ Coches/hora\n",
    "\n",
    "$T=10$ Horas\n",
    "\n",
    "$L= 10$ Longitud de la cola"
   ]
  },
  {
   "cell_type": "code",
   "execution_count": 4,
   "metadata": {},
   "outputs": [],
   "source": [
    "def sim(lamb,mu,T,L):\n",
    "    count    = 0                     # Contador de paquetes simulados\n",
    "    t        = 0                     # Tiempo simulado\n",
    "    N        = 0                     # Variable de estado: numero de paquetes en el sistema\n",
    "\n",
    "    tll      = expovariate(lamb)     # Tiempo de llegada\n",
    "    ts       = Infinity              # Tiempo de salida\n",
    "\n",
    "    tea      = 0.0                   # tiempo del último evento\n",
    "    perdidos = 0                     # Clientes perdidos por la limitación\n",
    "\n",
    "    # Variables de salida\n",
    "    tll_Data = []                       # Lista de tiempos de llegada\n",
    "    ts_Data  = []                       # Lista de tiempos de salida\n",
    "    r_Data   = []                       # Lista de retrasos individuales\n",
    "    Area     = []                       # Area de escalón\n",
    "\n",
    "\n",
    "    while t < T:                        # T = tiempo total a simular\n",
    "        if tll < ts:                    # Evento de llegada\n",
    "            t = tll                     \n",
    "            tll_Data.append(t)          # Se guarda el tiempo de llegada\n",
    "            Area.append((t - tea)*N)    # Area del escalón \n",
    "            tea = t                     # Se guarda el tiempo anterior de llegada\n",
    "            if N <= L:\n",
    "                N = N + 1.0             # Se suma un paquete\n",
    "            else: \n",
    "                perdidos += 1           # Se cuentan los clientes que se van\n",
    "            tll = t + expovariate(lamb) # Se genera un nuevo timepo de llegada\n",
    "            if N == 1:\n",
    "                ts = t + expovariate(mu)# Si hay un paquete en el sistema se crea el tiempo de salida\n",
    "        \n",
    "        else:                           # Evento de salida\n",
    "            t = ts\n",
    "            ts_Data.append(t)           # Se guarda el tiempo de salida\n",
    "            Area.append((t - tea)*N)    # Área del escalon\n",
    "            tea = t                     # Se guarda el tiempo anterior de salida\n",
    "            N = N - 1.0                 # Se resta un paquete que salió\n",
    "            count = count + 1           # Paquetes simulados\n",
    "            if N > 0:\n",
    "                ts = t + expovariate(mu)# Genera el proximo tiempo de salida\n",
    "            else:\n",
    "                ts = Infinity           # Si no hay paquetes en el sistema\n",
    "                \n",
    "    # Estimación del retraso promedio y número promedio de paquetes en el sistema:\n",
    "\n",
    "    for i in range(T):\n",
    "        d = ts_Data[i] - tll_Data[i]\n",
    "        r_Data.append(d)\n",
    "\n",
    "    W  = round( mean(r_Data), 4)       # Retraso promedio\n",
    "    L  = round(sum(Area)/t, 4)         # Número promedio de paquetes en el sistema\n",
    "    Wq = W - 1/mu                      # Tiempo medio de espera de los clientes en la cola.\n",
    "    Lq = lamb * Wq                     # Número medio de clientes en la cola.\n",
    "\n",
    "    return W,L,Wq,Lq,perdidos"
   ]
  },
  {
   "cell_type": "code",
   "execution_count": 10,
   "metadata": {},
   "outputs": [
    {
     "name": "stdout",
     "output_type": "stream",
     "text": [
      "Número medio de clientes perdidos: 140.24421\n"
     ]
    }
   ],
   "source": [
    "lista_perdidos = []\n",
    "for i in range(100000):\n",
    "    ej2 = sim(20,5,10,10)\n",
    "    lista_perdidos.append(ej2[4])\n",
    "print('Número medio de clientes perdidos: ' + str(mean(lista_perdidos)))\n"
   ]
  },
  {
   "cell_type": "markdown",
   "metadata": {},
   "source": [
    "***3. John Macko***"
   ]
  },
  {
   "cell_type": "markdown",
   "metadata": {},
   "source": [
    "John Macko es alumno en la U de Ozark. Hace trabajos extraños para aumentar sus ingresos. Las peticiones de trabajo llegan en promedio cada 5 días, pero el tiempo entre ellas es  exponencial. El tiempo para terminar un trabajo también es exponencial, con una media de 4  días. \n",
    "\n",
    "a) ¿Cuál es la probabilidad de que le falte trabajo a John? \n",
    "\n",
    "b) Si John cobra unos $50 por cada trabajo, ¿cuál es su ingreso mensual promedio? \n",
    "\n",
    "c) Si al final del semestre John decide subcontratar los trabajos pendientes a $40 cada uno, ¿cuánto debe esperar pagar en promedio?\n"
   ]
  }
 ],
 "metadata": {
  "interpreter": {
   "hash": "ac59ebe37160ed0dfa835113d9b8498d9f09ceb179beaac4002f036b9467c963"
  },
  "kernelspec": {
   "display_name": "Python 3.9.6 64-bit",
   "language": "python",
   "name": "python3"
  },
  "language_info": {
   "codemirror_mode": {
    "name": "ipython",
    "version": 3
   },
   "file_extension": ".py",
   "mimetype": "text/x-python",
   "name": "python",
   "nbconvert_exporter": "python",
   "pygments_lexer": "ipython3",
   "version": "3.9.6"
  },
  "orig_nbformat": 4
 },
 "nbformat": 4,
 "nbformat_minor": 2
}
