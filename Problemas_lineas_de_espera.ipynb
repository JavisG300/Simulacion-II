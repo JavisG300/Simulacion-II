{
 "cells": [
  {
   "cell_type": "markdown",
   "metadata": {},
   "source": [
    "# Problemas de líneas de espera"
   ]
  },
  {
   "cell_type": "markdown",
   "metadata": {},
   "source": [
    "# **Instrucciones**"
   ]
  },
  {
   "cell_type": "markdown",
   "metadata": {},
   "source": [
    "Elabore esta tarea en una notebook independiente, registrando sus resultados o las salidas de  los programas. En todos los casos en que sea posible, resuelva los problemas mediante  simulación y después verifique los resultados con las fórmulas correspondientes.  \n"
   ]
  },
  {
   "cell_type": "markdown",
   "metadata": {},
   "source": [
    "***1. En la biblioteca***"
   ]
  },
  {
   "cell_type": "markdown",
   "metadata": {},
   "source": [
    "Un encargado de la biblioteca es el único en el mostrador durante todo su turno de trabajo.  Las llegadas al mostrador siguen una distribución de Poisson con una media de $8$ por hora.  Cada usuario de la biblioteca es atendido de uno en uno, y el tiempo de servicio sigue una  distribución exponencial con una media de $5$ minutos. \n"
   ]
  },
  {
   "cell_type": "markdown",
   "metadata": {},
   "source": [
    "a) ¿Cuál es la probabilidad de que se forme cola? \n",
    "\n",
    "b) ¿Cuál es la longitud media de la cola? \n",
    "\n",
    "c) ¿Cuál es el tiempo medio que un cliente pasa en la biblioteca hasta que le han atendido? \n",
    "\n",
    "d) ¿Cuál es el tiempo medio que un cliente pasa en la cola esperando a que le atiendan? \n",
    "\n",
    "e) El encargado de la biblioteca pasa su tiempo en que no hay clientes clasificando artículos  de revistas. Si puede clasificar 22 fichas por hora como media cuando trabaja continuamente, ¿cuántas fichas puede ordenar durante su trabajo? \n"
   ]
  },
  {
   "cell_type": "markdown",
   "metadata": {},
   "source": [
    "***2. Lavado de autos***"
   ]
  },
  {
   "cell_type": "markdown",
   "metadata": {},
   "source": [
    "Un pequeño autoservicio de lavado que solo tienen capacidad para atender de uno en uno a  los autos que llegan, tiene un aparcamiento para $10$ coches, incluyendo el que está siendo lavado. La empresa ha estimado que los coches llegan siguiendo una distribución de Poisson  con una media de $20$ coches/hora, el tiempo de servicio sigue una distribución exponencial  de $12$ minutos. La empresa abre durante $10$ horas al día.  \n",
    "\n",
    "¿Cuál es la media de coches perdidos cada día debido a las limitaciones de espacio?\n"
   ]
  },
  {
   "cell_type": "markdown",
   "metadata": {},
   "source": [
    "***3. John Macko***"
   ]
  },
  {
   "cell_type": "markdown",
   "metadata": {},
   "source": [
    "John Macko es alumno en la U de Ozark. Hace trabajos extraños para aumentar sus ingresos. Las peticiones de trabajo llegan en promedio cada 5 días, pero el tiempo entre ellas es  exponencial. El tiempo para terminar un trabajo también es exponencial, con una media de 4  días. \n",
    "\n",
    "a) ¿Cuál es la probabilidad de que le falte trabajo a John? \n",
    "\n",
    "b) Si John cobra unos $50 por cada trabajo, ¿cuál es su ingreso mensual promedio? \n",
    "\n",
    "c) Si al final del semestre John decide subcontratar los trabajos pendientes a $40 cada uno, ¿cuánto debe esperar pagar en promedio?\n"
   ]
  }
 ],
 "metadata": {
  "interpreter": {
   "hash": "ac59ebe37160ed0dfa835113d9b8498d9f09ceb179beaac4002f036b9467c963"
  },
  "kernelspec": {
   "display_name": "Python 3.9.6 64-bit",
   "language": "python",
   "name": "python3"
  },
  "language_info": {
   "name": "python",
   "version": "3.9.6"
  },
  "orig_nbformat": 4
 },
 "nbformat": 4,
 "nbformat_minor": 2
}
